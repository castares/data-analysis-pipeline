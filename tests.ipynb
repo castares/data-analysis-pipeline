{
 "cells": [
  {
   "cell_type": "markdown",
   "metadata": {},
   "source": [
    "# Scrapping the Previews"
   ]
  },
  {
   "cell_type": "code",
   "execution_count": 2,
   "metadata": {},
   "outputs": [],
   "source": [
    "import os\n",
    "from bs4 import BeautifulSoup\n",
    "import requests\n",
    "import pandas as pd"
   ]
  },
  {
   "cell_type": "markdown",
   "metadata": {},
   "source": [
    "### Working functions:"
   ]
  },
  {
   "cell_type": "code",
   "execution_count": 2,
   "metadata": {},
   "outputs": [],
   "source": [
    "def cooksoup(url, parser='html.parser'):\n",
    "    #returns a BeautifulSoup for a given url. \n",
    "    html = requests.get(url).text\n",
    "    return BeautifulSoup(html, parser)\n",
    "\n",
    "def scrap_to_df(items):\n",
    "    #Given a BeautifulSoup object and an iterable, \n",
    "    #returns a DataFrame without blankspaces and applyingline-breaks.\n",
    "    lst= []\n",
    "    for e in items:\n",
    "        lst.append(e.text.strip().split('\\n'))\n",
    "    return pd.DataFrame(lst)\n",
    "\n",
    "def main():\n",
    "    soup = cooksoup('https://previewsworld.com/Catalog?batch=NOV19&pub=MARVEL%20COMICS')\n",
    "    return scrap_to_df(soup.find_all(\"div\", {\"class\": \"nrgIC\"}))\n",
    "\n",
    "data = main()"
   ]
  },
  {
   "cell_type": "code",
   "execution_count": 7,
   "metadata": {},
   "outputs": [
    {
     "data": {
      "text/html": [
       "<div>\n",
       "<style scoped>\n",
       "    .dataframe tbody tr th:only-of-type {\n",
       "        vertical-align: middle;\n",
       "    }\n",
       "\n",
       "    .dataframe tbody tr th {\n",
       "        vertical-align: top;\n",
       "    }\n",
       "\n",
       "    .dataframe thead th {\n",
       "        text-align: right;\n",
       "    }\n",
       "</style>\n",
       "<table border=\"1\" class=\"dataframe\">\n",
       "  <thead>\n",
       "    <tr style=\"text-align: right;\">\n",
       "      <th></th>\n",
       "      <th>Reference</th>\n",
       "      <th>Publisher</th>\n",
       "      <th>Title</th>\n",
       "      <th>Price</th>\n",
       "    </tr>\n",
       "  </thead>\n",
       "  <tbody>\n",
       "    <tr>\n",
       "      <th>0</th>\n",
       "      <td>NOV190011</td>\n",
       "      <td>PREVIEWS PUBLICATIONS</td>\n",
       "      <td>DIAMOND BOOKSHELF #31</td>\n",
       "      <td>PI</td>\n",
       "    </tr>\n",
       "    <tr>\n",
       "      <th>1</th>\n",
       "      <td>NOV190009</td>\n",
       "      <td>PREVIEWS PUBLICATIONS</td>\n",
       "      <td>GAME TRADE MAGAZINE #239</td>\n",
       "      <td>PI</td>\n",
       "    </tr>\n",
       "    <tr>\n",
       "      <th>2</th>\n",
       "      <td>NOV190001</td>\n",
       "      <td>PREVIEWS PUBLICATIONS</td>\n",
       "      <td>PREVIEWS #376 JANUARY 2020</td>\n",
       "      <td>$3.99</td>\n",
       "    </tr>\n",
       "    <tr>\n",
       "      <th>3</th>\n",
       "      <td>NOV190004</td>\n",
       "      <td>PREVIEWS PUBLICATIONS</td>\n",
       "      <td>PREVIEWS #376 JANUARY 2020 CUSTOMER ORDER FORM</td>\n",
       "      <td>PI</td>\n",
       "    </tr>\n",
       "    <tr>\n",
       "      <th>4</th>\n",
       "      <td>NOV190012</td>\n",
       "      <td>IMAGE COMICS</td>\n",
       "      <td>PROTECTOR #1 (MR)</td>\n",
       "      <td>$3.99</td>\n",
       "    </tr>\n",
       "  </tbody>\n",
       "</table>\n",
       "</div>"
      ],
      "text/plain": [
       "   Reference              Publisher  \\\n",
       "0  NOV190011  PREVIEWS PUBLICATIONS   \n",
       "1  NOV190009  PREVIEWS PUBLICATIONS   \n",
       "2  NOV190001  PREVIEWS PUBLICATIONS   \n",
       "3  NOV190004  PREVIEWS PUBLICATIONS   \n",
       "4  NOV190012           IMAGE COMICS   \n",
       "\n",
       "                                            Title  Price  \n",
       "0                           DIAMOND BOOKSHELF #31     PI  \n",
       "1                        GAME TRADE MAGAZINE #239     PI  \n",
       "2                      PREVIEWS #376 JANUARY 2020  $3.99  \n",
       "3  PREVIEWS #376 JANUARY 2020 CUSTOMER ORDER FORM     PI  \n",
       "4                               PROTECTOR #1 (MR)  $3.99  "
      ]
     },
     "execution_count": 7,
     "metadata": {},
     "output_type": "execute_result"
    }
   ],
   "source": [
    "data.head()"
   ]
  },
  {
   "cell_type": "code",
   "execution_count": 5,
   "metadata": {},
   "outputs": [],
   "source": [
    "data.drop([2], axis=1, inplace=True)\n",
    "data.set_axis(['Reference','Publisher','Title','Price'], axis=1, inplace=True)\n",
    "marvel_previews = data[data['Publisher'] == \"MARVEL COMICS\"]\n",
    "marvel_previews.to_csv(\"./output/marvel_previews.csv\")"
   ]
  },
  {
   "cell_type": "code",
   "execution_count": 15,
   "metadata": {},
   "outputs": [],
   "source": [
    "soup = cooksoup('https://previewsworld.com/Catalog?batch=NOV19&pub=MARVEL%20COMICS')"
   ]
  },
  {
   "cell_type": "code",
   "execution_count": 36,
   "metadata": {
    "scrolled": true
   },
   "outputs": [
    {
     "data": {
      "text/plain": [
       "'Orders Due: November 18th'"
      ]
     },
     "execution_count": 36,
     "metadata": {},
     "output_type": "execute_result"
    }
   ],
   "source": [
    "due_date = soup.find_all(\"div\", {\"class\" : \"ordersDueDisclaimer\"})\n",
    "due_date[0].text.strip()"
   ]
  },
  {
   "cell_type": "code",
   "execution_count": 85,
   "metadata": {},
   "outputs": [
    {
     "name": "stdout",
     "output_type": "stream",
     "text": [
      "{'code': 200, 'status': 'Ok', 'copyright': '© 2019 MARVEL', 'attributionText': 'Data provided by Marvel. © 2019 MARVEL', 'attributionHTML': '<a href=\"http://marvel.com\">Data provided by Marvel. © 2019 MARVEL</a>', 'etag': 'de3a9d337f08bd90ae6585d8520adc1c02ce1f6c', 'data': {'offset': 0, 'limit': 20, 'total': 1493, 'count': 20, 'results': [{'id': 1011334, 'name': '3-D Man', 'description': '', 'modified': '2014-04-29T14:18:17-0400', 'thumbnail': {'path': 'http://i.annihil.us/u/prod/marvel/i/mg/c/e0/535fecbbb9784', 'extension': 'jpg'}, 'resourceURI': 'http://gateway.marvel.com/v1/public/characters/1011334', 'comics': {'available': 12, 'collectionURI': 'http://gateway.marvel.com/v1/public/characters/1011334/comics', 'items': [{'resourceURI': 'http://gateway.marvel.com/v1/public/comics/21366', 'name': 'Avengers: The Initiative (2007) #14'}, {'resourceURI': 'http://gateway.marvel.com/v1/public/comics/24571', 'name': 'Avengers: The Initiative (2007) #14 (SPOTLIGHT VARIANT)'}, {'resourceURI': 'http://gateway.marvel.com/v1/public/comics/21546', 'name': 'Avengers: The Initiative (2007) #15'}, {'resourceURI': 'http://gateway.marvel.com/v1/public/comics/21741', 'name': 'Avengers: The Initiative (2007) #16'}, {'resourceURI': 'http://gateway.marvel.com/v1/public/comics/21975', 'name': 'Avengers: The Initiative (2007) #17'}, {'resourceURI': 'http://gateway.marvel.com/v1/public/comics/22299', 'name': 'Avengers: The Initiative (2007) #18'}, {'resourceURI': 'http://gateway.marvel.com/v1/public/comics/22300', 'name': 'Avengers: The Initiative (2007) #18 (ZOMBIE VARIANT)'}, {'resourceURI': 'http://gateway.marvel.com/v1/public/comics/22506', 'name': 'Avengers: The Initiative (2007) #19'}, {'resourceURI': 'http://gateway.marvel.com/v1/public/comics/8500', 'name': 'Deadpool (1997) #44'}, {'resourceURI': 'http://gateway.marvel.com/v1/public/comics/10223', 'name': 'Marvel Premiere (1972) #35'}, {'resourceURI': 'http://gateway.marvel.com/v1/public/comics/10224', 'name': 'Marvel Premiere (1972) #36'}, {'resourceURI': 'http://gateway.marvel.com/v1/public/comics/10225', 'name': 'Marvel Premiere (1972) #37'}], 'returned': 12}, 'series': {'available': 3, 'collectionURI': 'http://gateway.marvel.com/v1/public/characters/1011334/series', 'items': [{'resourceURI': 'http://gateway.marvel.com/v1/public/series/1945', 'name': 'Avengers: The Initiative (2007 - 2010)'}, {'resourceURI': 'http://gateway.marvel.com/v1/public/series/2005', 'name': 'Deadpool (1997 - 2002)'}, {'resourceURI': 'http://gateway.marvel.com/v1/public/series/2045', 'name': 'Marvel Premiere (1972 - 1981)'}], 'returned': 3}, 'stories': {'available': 21, 'collectionURI': 'http://gateway.marvel.com/v1/public/characters/1011334/stories', 'items': [{'resourceURI': 'http://gateway.marvel.com/v1/public/stories/19947', 'name': 'Cover #19947', 'type': 'cover'}, {'resourceURI': 'http://gateway.marvel.com/v1/public/stories/19948', 'name': 'The 3-D Man!', 'type': 'interiorStory'}, {'resourceURI': 'http://gateway.marvel.com/v1/public/stories/19949', 'name': 'Cover #19949', 'type': 'cover'}, {'resourceURI': 'http://gateway.marvel.com/v1/public/stories/19950', 'name': \"The Devil's Music!\", 'type': 'interiorStory'}, {'resourceURI': 'http://gateway.marvel.com/v1/public/stories/19951', 'name': 'Cover #19951', 'type': 'cover'}, {'resourceURI': 'http://gateway.marvel.com/v1/public/stories/19952', 'name': 'Code-Name:  The Cold Warrior!', 'type': 'interiorStory'}, {'resourceURI': 'http://gateway.marvel.com/v1/public/stories/47184', 'name': 'AVENGERS: THE INITIATIVE (2007) #14', 'type': 'cover'}, {'resourceURI': 'http://gateway.marvel.com/v1/public/stories/47185', 'name': 'Avengers: The Initiative (2007) #14 - Int', 'type': 'interiorStory'}, {'resourceURI': 'http://gateway.marvel.com/v1/public/stories/47498', 'name': 'AVENGERS: THE INITIATIVE (2007) #15', 'type': 'cover'}, {'resourceURI': 'http://gateway.marvel.com/v1/public/stories/47499', 'name': 'Avengers: The Initiative (2007) #15 - Int', 'type': 'interiorStory'}, {'resourceURI': 'http://gateway.marvel.com/v1/public/stories/47792', 'name': 'AVENGERS: THE INITIATIVE (2007) #16', 'type': 'cover'}, {'resourceURI': 'http://gateway.marvel.com/v1/public/stories/47793', 'name': 'Avengers: The Initiative (2007) #16 - Int', 'type': 'interiorStory'}, {'resourceURI': 'http://gateway.marvel.com/v1/public/stories/48361', 'name': 'AVENGERS: THE INITIATIVE (2007) #17', 'type': 'cover'}, {'resourceURI': 'http://gateway.marvel.com/v1/public/stories/48362', 'name': 'Avengers: The Initiative (2007) #17 - Int', 'type': 'interiorStory'}, {'resourceURI': 'http://gateway.marvel.com/v1/public/stories/49103', 'name': 'AVENGERS: THE INITIATIVE (2007) #18', 'type': 'cover'}, {'resourceURI': 'http://gateway.marvel.com/v1/public/stories/49104', 'name': 'Avengers: The Initiative (2007) #18 - Int', 'type': 'interiorStory'}, {'resourceURI': 'http://gateway.marvel.com/v1/public/stories/49106', 'name': 'Avengers: The Initiative (2007) #18, Zombie Variant - Int', 'type': 'interiorStory'}, {'resourceURI': 'http://gateway.marvel.com/v1/public/stories/49888', 'name': 'AVENGERS: THE INITIATIVE (2007) #19', 'type': 'cover'}, {'resourceURI': 'http://gateway.marvel.com/v1/public/stories/49889', 'name': 'Avengers: The Initiative (2007) #19 - Int', 'type': 'interiorStory'}, {'resourceURI': 'http://gateway.marvel.com/v1/public/stories/54371', 'name': 'Avengers: The Initiative (2007) #14, Spotlight Variant - Int', 'type': 'interiorStory'}], 'returned': 20}, 'events': {'available': 1, 'collectionURI': 'http://gateway.marvel.com/v1/public/characters/1011334/events', 'items': [{'resourceURI': 'http://gateway.marvel.com/v1/public/events/269', 'name': 'Secret Invasion'}], 'returned': 1}, 'urls': [{'type': 'detail', 'url': 'http://marvel.com/comics/characters/1011334/3-d_man?utm_campaign=apiRef&utm_source=e2f3b83c35270fe9a4d95708f6e71dee'}, {'type': 'wiki', 'url': 'http://marvel.com/universe/3-D_Man_(Chandler)?utm_campaign=apiRef&utm_source=e2f3b83c35270fe9a4d95708f6e71dee'}, {'type': 'comiclink', 'url': 'http://marvel.com/comics/characters/1011334/3-d_man?utm_campaign=apiRef&utm_source=e2f3b83c35270fe9a4d95708f6e71dee'}]}, {'id': 1017100, 'name': 'A-Bomb (HAS)', 'description': \"Rick Jones has been Hulk's best bud since day one, but now he's more than a friend...he's a teammate! Transformed by a Gamma energy explosion, A-Bomb's thick, armored skin is just as strong and powerful as it is blue. And when he curls into action, he uses it like a giant bowling ball of destruction! \", 'modified': '2013-09-18T15:54:04-0400', 'thumbnail': {'path': 'http://i.annihil.us/u/prod/marvel/i/mg/3/20/5232158de5b16', 'extension': 'jpg'}, 'resourceURI': 'http://gateway.marvel.com/v1/public/characters/1017100', 'comics': {'available': 3, 'collectionURI': 'http://gateway.marvel.com/v1/public/characters/1017100/comics', 'items': [{'resourceURI': 'http://gateway.marvel.com/v1/public/comics/40632', 'name': 'Hulk (2008) #53'}, {'resourceURI': 'http://gateway.marvel.com/v1/public/comics/40630', 'name': 'Hulk (2008) #54'}, {'resourceURI': 'http://gateway.marvel.com/v1/public/comics/40628', 'name': 'Hulk (2008) #55'}], 'returned': 3}, 'series': {'available': 2, 'collectionURI': 'http://gateway.marvel.com/v1/public/characters/1017100/series', 'items': [{'resourceURI': 'http://gateway.marvel.com/v1/public/series/17765', 'name': 'FREE COMIC BOOK DAY 2013 1 (2013)'}, {'resourceURI': 'http://gateway.marvel.com/v1/public/series/3374', 'name': 'Hulk (2008 - 2012)'}], 'returned': 2}, 'stories': {'available': 7, 'collectionURI': 'http://gateway.marvel.com/v1/public/characters/1017100/stories', 'items': [{'resourceURI': 'http://gateway.marvel.com/v1/public/stories/92078', 'name': 'Hulk (2008) #55', 'type': 'cover'}, {'resourceURI': 'http://gateway.marvel.com/v1/public/stories/92079', 'name': 'Interior #92079', 'type': 'interiorStory'}, {'resourceURI': 'http://gateway.marvel.com/v1/public/stories/92082', 'name': 'Hulk (2008) #54', 'type': 'cover'}, {'resourceURI': 'http://gateway.marvel.com/v1/public/stories/92083', 'name': 'Interior #92083', 'type': 'interiorStory'}, {'resourceURI': 'http://gateway.marvel.com/v1/public/stories/92086', 'name': 'Hulk (2008) #53', 'type': 'cover'}, {'resourceURI': 'http://gateway.marvel.com/v1/public/stories/92087', 'name': 'Interior #92087', 'type': 'interiorStory'}, {'resourceURI': 'http://gateway.marvel.com/v1/public/stories/105929', 'name': 'cover from Free Comic Book Day 2013 (Avengers/Hulk) (2013) #1', 'type': 'cover'}], 'returned': 7}, 'events': {'available': 0, 'collectionURI': 'http://gateway.marvel.com/v1/public/characters/1017100/events', 'items': [], 'returned': 0}, 'urls': [{'type': 'detail', 'url': 'http://marvel.com/comics/characters/1017100/a-bomb_has?utm_campaign=apiRef&utm_source=e2f3b83c35270fe9a4d95708f6e71dee'}, {'type': 'comiclink', 'url': 'http://marvel.com/comics/characters/1017100/a-bomb_has?utm_campaign=apiRef&utm_source=e2f3b83c35270fe9a4d95708f6e71dee'}]}, {'id': 1009144, 'name': 'A.I.M.', 'description': 'AIM is a terrorist organization bent on destroying the world.', 'modified': '2013-10-17T14:41:30-0400', 'thumbnail': {'path': 'http://i.annihil.us/u/prod/marvel/i/mg/6/20/52602f21f29ec', 'extension': 'jpg'}, 'resourceURI': 'http://gateway.marvel.com/v1/public/characters/1009144', 'comics': {'available': 49, 'collectionURI': 'http://gateway.marvel.com/v1/public/characters/1009144/comics', 'items': [{'resourceURI': 'http://gateway.marvel.com/v1/public/comics/36763', 'name': 'Ant-Man & the Wasp (2010) #3'}, {'resourceURI': 'http://gateway.marvel.com/v1/public/comics/17553', 'name': 'Avengers (1998) #67'}, {'resourceURI': 'http://gateway.marvel.com/v1/public/comics/7340', 'name': 'Avengers (1963) #87'}, {'resourceURI': 'http://gateway.marvel.com/v1/public/comics/4214', 'name': 'Avengers and Power Pack Assemble! (2006) #2'}, {'resourceURI': 'http://gateway.marvel.com/v1/public/comics/63217', 'name': 'Avengers and Power Pack (2017) #3'}, {'resourceURI': 'http://gateway.marvel.com/v1/public/comics/63218', 'name': 'Avengers and Power Pack (2017) #4'}, {'resourceURI': 'http://gateway.marvel.com/v1/public/comics/63219', 'name': 'Avengers and Power Pack (2017) #5'}, {'resourceURI': 'http://gateway.marvel.com/v1/public/comics/63220', 'name': 'Avengers and Power Pack (2017) #6'}, {'resourceURI': 'http://gateway.marvel.com/v1/public/comics/64790', 'name': 'Avengers by Brian Michael Bendis: The Complete Collection Vol. 2 (Trade Paperback)'}, {'resourceURI': 'http://gateway.marvel.com/v1/public/comics/1170', 'name': 'Avengers Vol. 2: Red Zone (Trade Paperback)'}, {'resourceURI': 'http://gateway.marvel.com/v1/public/comics/1214', 'name': 'Avengers Vol. II: Red Zone (Trade Paperback)'}, {'resourceURI': 'http://gateway.marvel.com/v1/public/comics/12787', 'name': 'Captain America (1998) #28'}, {'resourceURI': 'http://gateway.marvel.com/v1/public/comics/7513', 'name': 'Captain America (1968) #132'}, {'resourceURI': 'http://gateway.marvel.com/v1/public/comics/7514', 'name': 'Captain America (1968) #133'}, {'resourceURI': 'http://gateway.marvel.com/v1/public/comics/65466', 'name': 'Captain America by Mark Waid, Ron Garney & Andy Kubert (Hardcover)'}, {'resourceURI': 'http://gateway.marvel.com/v1/public/comics/20367', 'name': 'Defenders (1972) #57'}, {'resourceURI': 'http://gateway.marvel.com/v1/public/comics/31068', 'name': 'Incredible Hulks (2010) #606 (VARIANT)'}, {'resourceURI': 'http://gateway.marvel.com/v1/public/comics/46168', 'name': 'Indestructible Hulk (2012) #3'}, {'resourceURI': 'http://gateway.marvel.com/v1/public/comics/43944', 'name': 'Iron Man (2012) #1'}, {'resourceURI': 'http://gateway.marvel.com/v1/public/comics/9544', 'name': 'Iron Man (1968) #295'}], 'returned': 20}, 'series': {'available': 33, 'collectionURI': 'http://gateway.marvel.com/v1/public/characters/1009144/series', 'items': [{'resourceURI': 'http://gateway.marvel.com/v1/public/series/13082', 'name': 'Ant-Man & the Wasp (2010 - 2011)'}, {'resourceURI': 'http://gateway.marvel.com/v1/public/series/354', 'name': 'Avengers (1998 - 2004)'}, {'resourceURI': 'http://gateway.marvel.com/v1/public/series/1991', 'name': 'Avengers (1963 - 1996)'}, {'resourceURI': 'http://gateway.marvel.com/v1/public/series/23123', 'name': 'Avengers and Power Pack (2017)'}, {'resourceURI': 'http://gateway.marvel.com/v1/public/series/1046', 'name': 'Avengers and Power Pack Assemble! (2006)'}, {'resourceURI': 'http://gateway.marvel.com/v1/public/series/23600', 'name': 'Avengers by Brian Michael Bendis: The Complete Collection Vol. 2 (2017)'}, {'resourceURI': 'http://gateway.marvel.com/v1/public/series/227', 'name': 'Avengers Vol. 2: Red Zone (2003)'}, {'resourceURI': 'http://gateway.marvel.com/v1/public/series/271', 'name': 'Avengers Vol. II: Red Zone (2003)'}, {'resourceURI': 'http://gateway.marvel.com/v1/public/series/1997', 'name': 'Captain America (1998 - 2002)'}, {'resourceURI': 'http://gateway.marvel.com/v1/public/series/1996', 'name': 'Captain America (1968 - 1996)'}, {'resourceURI': 'http://gateway.marvel.com/v1/public/series/23810', 'name': 'Captain America by Mark Waid, Ron Garney & Andy Kubert (2017)'}, {'resourceURI': 'http://gateway.marvel.com/v1/public/series/3743', 'name': 'Defenders (1972 - 1986)'}, {'resourceURI': 'http://gateway.marvel.com/v1/public/series/8842', 'name': 'Incredible Hulks (2010 - 2011)'}, {'resourceURI': 'http://gateway.marvel.com/v1/public/series/16583', 'name': 'Indestructible Hulk (2012 - 2014)'}, {'resourceURI': 'http://gateway.marvel.com/v1/public/series/2029', 'name': 'Iron Man (1968 - 1996)'}, {'resourceURI': 'http://gateway.marvel.com/v1/public/series/16593', 'name': 'Iron Man (2012 - 2014)'}, {'resourceURI': 'http://gateway.marvel.com/v1/public/series/23915', 'name': 'Iron Man Epic Collection: Doom (2018)'}, {'resourceURI': 'http://gateway.marvel.com/v1/public/series/9718', 'name': 'Marvel Adventures Super Heroes (2010 - 2012)'}, {'resourceURI': 'http://gateway.marvel.com/v1/public/series/1506', 'name': 'Marvel Masterworks: Captain America Vol. (2005)'}, {'resourceURI': 'http://gateway.marvel.com/v1/public/series/189', 'name': 'Marvel Masterworks: Captain America Vol. 1 - 2nd Edition (2003)'}], 'returned': 20}, 'stories': {'available': 52, 'collectionURI': 'http://gateway.marvel.com/v1/public/characters/1009144/stories', 'items': [{'resourceURI': 'http://gateway.marvel.com/v1/public/stories/5800', 'name': 'Avengers and Power Pack Assemble! (2006) #2', 'type': 'cover'}, {'resourceURI': 'http://gateway.marvel.com/v1/public/stories/5801', 'name': '2 of 4 - 4XLS', 'type': 'interiorStory'}, {'resourceURI': 'http://gateway.marvel.com/v1/public/stories/10253', 'name': 'When the Unliving Strike', 'type': 'interiorStory'}, {'resourceURI': 'http://gateway.marvel.com/v1/public/stories/10255', 'name': 'Cover #10255', 'type': 'cover'}, {'resourceURI': 'http://gateway.marvel.com/v1/public/stories/10256', 'name': 'The Enemy Within!', 'type': 'interiorStory'}, {'resourceURI': 'http://gateway.marvel.com/v1/public/stories/10259', 'name': 'Death Before Dishonor!', 'type': 'interiorStory'}, {'resourceURI': 'http://gateway.marvel.com/v1/public/stories/10261', 'name': 'Cover #10261', 'type': 'cover'}, {'resourceURI': 'http://gateway.marvel.com/v1/public/stories/10262', 'name': 'The End of A.I.M.!', 'type': 'interiorStory'}, {'resourceURI': 'http://gateway.marvel.com/v1/public/stories/11921', 'name': 'The Red Skull Lives!', 'type': 'interiorStory'}, {'resourceURI': 'http://gateway.marvel.com/v1/public/stories/11930', 'name': 'He Who Holds the Cosmic Cube', 'type': 'interiorStory'}, {'resourceURI': 'http://gateway.marvel.com/v1/public/stories/11936', 'name': 'The Maddening Mystery of the Inconceivable Adaptoid!', 'type': 'interiorStory'}, {'resourceURI': 'http://gateway.marvel.com/v1/public/stories/11981', 'name': 'If This Be... Modok', 'type': 'interiorStory'}, {'resourceURI': 'http://gateway.marvel.com/v1/public/stories/11984', 'name': 'A Time to Die -- A Time to Live!', 'type': 'interiorStory'}, {'resourceURI': 'http://gateway.marvel.com/v1/public/stories/11995', 'name': 'At the Mercy of the Maggia', 'type': 'interiorStory'}, {'resourceURI': 'http://gateway.marvel.com/v1/public/stories/15243', 'name': 'Look Homeward, Avenger', 'type': 'interiorStory'}, {'resourceURI': 'http://gateway.marvel.com/v1/public/stories/17518', 'name': 'Captain America (1968) #132', 'type': 'cover'}, {'resourceURI': 'http://gateway.marvel.com/v1/public/stories/17519', 'name': 'The Fearful Secret of Bucky Barnes', 'type': 'interiorStory'}, {'resourceURI': 'http://gateway.marvel.com/v1/public/stories/17520', 'name': 'Captain America (1968) #133', 'type': 'cover'}, {'resourceURI': 'http://gateway.marvel.com/v1/public/stories/17521', 'name': 'Madness In the Slums', 'type': 'interiorStory'}, {'resourceURI': 'http://gateway.marvel.com/v1/public/stories/28233', 'name': 'In Sin Airy X', 'type': 'interiorStory'}], 'returned': 20}, 'events': {'available': 0, 'collectionURI': 'http://gateway.marvel.com/v1/public/characters/1009144/events', 'items': [], 'returned': 0}, 'urls': [{'type': 'detail', 'url': 'http://marvel.com/comics/characters/1009144/aim.?utm_campaign=apiRef&utm_source=e2f3b83c35270fe9a4d95708f6e71dee'}, {'type': 'wiki', 'url': 'http://marvel.com/universe/A.I.M.?utm_campaign=apiRef&utm_source=e2f3b83c35270fe9a4d95708f6e71dee'}, {'type': 'comiclink', 'url': 'http://marvel.com/comics/characters/1009144/aim.?utm_campaign=apiRef&utm_source=e2f3b83c35270fe9a4d95708f6e71dee'}]}, {'id': 1010699, 'name': 'Aaron Stack', 'description': '', 'modified': '1969-12-31T19:00:00-0500', 'thumbnail': {'path': 'http://i.annihil.us/u/prod/marvel/i/mg/b/40/image_not_available', 'extension': 'jpg'}, 'resourceURI': 'http://gateway.marvel.com/v1/public/characters/1010699', 'comics': {'available': 14, 'collectionURI': 'http://gateway.marvel.com/v1/public/characters/1010699/comics', 'items': [{'resourceURI': 'http://gateway.marvel.com/v1/public/comics/40776', 'name': 'Dark Avengers (2012) #177'}, {'resourceURI': 'http://gateway.marvel.com/v1/public/comics/40773', 'name': 'Dark Avengers (2012) #179'}, {'resourceURI': 'http://gateway.marvel.com/v1/public/comics/40774', 'name': 'Dark Avengers (2012) #180'}, {'resourceURI': 'http://gateway.marvel.com/v1/public/comics/40778', 'name': 'Dark Avengers (2012) #181'}, {'resourceURI': 'http://gateway.marvel.com/v1/public/comics/40787', 'name': 'Dark Avengers (2012) #182'}, {'resourceURI': 'http://gateway.marvel.com/v1/public/comics/40786', 'name': 'Dark Avengers (2012) #183'}, {'resourceURI': 'http://gateway.marvel.com/v1/public/comics/38073', 'name': 'Hulk (2008) #43'}, {'resourceURI': 'http://gateway.marvel.com/v1/public/comics/11910', 'name': 'Universe X (2000) #6'}, {'resourceURI': 'http://gateway.marvel.com/v1/public/comics/11911', 'name': 'Universe X (2000) #7'}, {'resourceURI': 'http://gateway.marvel.com/v1/public/comics/11912', 'name': 'Universe X (2000) #8'}, {'resourceURI': 'http://gateway.marvel.com/v1/public/comics/11913', 'name': 'Universe X (2000) #9'}, {'resourceURI': 'http://gateway.marvel.com/v1/public/comics/11903', 'name': 'Universe X (2000) #10'}, {'resourceURI': 'http://gateway.marvel.com/v1/public/comics/11904', 'name': 'Universe X (2000) #11'}, {'resourceURI': 'http://gateway.marvel.com/v1/public/comics/11905', 'name': 'Universe X (2000) #12'}], 'returned': 14}, 'series': {'available': 3, 'collectionURI': 'http://gateway.marvel.com/v1/public/characters/1010699/series', 'items': [{'resourceURI': 'http://gateway.marvel.com/v1/public/series/789', 'name': 'Dark Avengers (2012 - 2013)'}, {'resourceURI': 'http://gateway.marvel.com/v1/public/series/3374', 'name': 'Hulk (2008 - 2012)'}, {'resourceURI': 'http://gateway.marvel.com/v1/public/series/2085', 'name': 'Universe X (2000 - 2001)'}], 'returned': 3}, 'stories': {'available': 27, 'collectionURI': 'http://gateway.marvel.com/v1/public/characters/1010699/stories', 'items': [{'resourceURI': 'http://gateway.marvel.com/v1/public/stories/25634', 'name': 'Universe X (2000) #10', 'type': 'cover'}, {'resourceURI': 'http://gateway.marvel.com/v1/public/stories/25635', 'name': 'Interior #25635', 'type': 'interiorStory'}, {'resourceURI': 'http://gateway.marvel.com/v1/public/stories/25637', 'name': 'Universe X (2000) #12', 'type': 'cover'}, {'resourceURI': 'http://gateway.marvel.com/v1/public/stories/25638', 'name': 'Interior #25638', 'type': 'interiorStory'}, {'resourceURI': 'http://gateway.marvel.com/v1/public/stories/25647', 'name': 'Universe X (2000) #6', 'type': 'cover'}, {'resourceURI': 'http://gateway.marvel.com/v1/public/stories/25648', 'name': 'Interior #25648', 'type': 'interiorStory'}, {'resourceURI': 'http://gateway.marvel.com/v1/public/stories/25649', 'name': 'Universe X (2000) #7', 'type': 'cover'}, {'resourceURI': 'http://gateway.marvel.com/v1/public/stories/25650', 'name': 'Interior #25650', 'type': 'interiorStory'}, {'resourceURI': 'http://gateway.marvel.com/v1/public/stories/25651', 'name': 'Universe X (2000) #8', 'type': 'cover'}, {'resourceURI': 'http://gateway.marvel.com/v1/public/stories/25652', 'name': 'Interior #25652', 'type': 'interiorStory'}, {'resourceURI': 'http://gateway.marvel.com/v1/public/stories/25653', 'name': 'Universe X (2000) #9', 'type': 'cover'}, {'resourceURI': 'http://gateway.marvel.com/v1/public/stories/25654', 'name': 'Interior #25654', 'type': 'interiorStory'}, {'resourceURI': 'http://gateway.marvel.com/v1/public/stories/67100', 'name': 'Universe X (2000) #11', 'type': 'cover'}, {'resourceURI': 'http://gateway.marvel.com/v1/public/stories/89190', 'name': 'Hulk (2008) #43', 'type': 'cover'}, {'resourceURI': 'http://gateway.marvel.com/v1/public/stories/90002', 'name': 'Interior #90002', 'type': 'interiorStory'}, {'resourceURI': 'http://gateway.marvel.com/v1/public/stories/92370', 'name': 'Dark Avengers (2012) #179', 'type': 'cover'}, {'resourceURI': 'http://gateway.marvel.com/v1/public/stories/92371', 'name': 'Interior #92371', 'type': 'interiorStory'}, {'resourceURI': 'http://gateway.marvel.com/v1/public/stories/92372', 'name': 'Dark Avengers (2012) #180', 'type': 'cover'}, {'resourceURI': 'http://gateway.marvel.com/v1/public/stories/92373', 'name': 'Interior #92373', 'type': 'interiorStory'}, {'resourceURI': 'http://gateway.marvel.com/v1/public/stories/92376', 'name': 'Dark Avengers (2012) #177', 'type': 'cover'}], 'returned': 20}, 'events': {'available': 0, 'collectionURI': 'http://gateway.marvel.com/v1/public/characters/1010699/events', 'items': [], 'returned': 0}, 'urls': [{'type': 'detail', 'url': 'http://marvel.com/comics/characters/1010699/aaron_stack?utm_campaign=apiRef&utm_source=e2f3b83c35270fe9a4d95708f6e71dee'}, {'type': 'comiclink', 'url': 'http://marvel.com/comics/characters/1010699/aaron_stack?utm_campaign=apiRef&utm_source=e2f3b83c35270fe9a4d95708f6e71dee'}]}, {'id': 1009146, 'name': 'Abomination (Emil Blonsky)', 'description': 'Formerly known as Emil Blonsky, a spy of Soviet Yugoslavian origin working for the KGB, the Abomination gained his powers after receiving a dose of gamma radiation similar to that which transformed Bruce Banner into the incredible Hulk.', 'modified': '2012-03-20T12:32:12-0400', 'thumbnail': {'path': 'http://i.annihil.us/u/prod/marvel/i/mg/9/50/4ce18691cbf04', 'extension': 'jpg'}, 'resourceURI': 'http://gateway.marvel.com/v1/public/characters/1009146', 'comics': {'available': 53, 'collectionURI': 'http://gateway.marvel.com/v1/public/characters/1009146/comics', 'items': [{'resourceURI': 'http://gateway.marvel.com/v1/public/comics/17547', 'name': 'Avengers (1998) #61'}, {'resourceURI': 'http://gateway.marvel.com/v1/public/comics/17548', 'name': 'Avengers (1998) #62'}, {'resourceURI': 'http://gateway.marvel.com/v1/public/comics/1098', 'name': 'Avengers Vol. 1: World Trust (Trade Paperback)'}, {'resourceURI': 'http://gateway.marvel.com/v1/public/comics/8557', 'name': 'Earth X (1999) #7'}, {'resourceURI': 'http://gateway.marvel.com/v1/public/comics/4241', 'name': 'Earth X (New (Trade Paperback)'}, {'resourceURI': 'http://gateway.marvel.com/v1/public/comics/20863', 'name': 'Hulk (2008) #3'}, {'resourceURI': 'http://gateway.marvel.com/v1/public/comics/2499', 'name': 'Hulk: Destruction (2005) #4'}, {'resourceURI': 'http://gateway.marvel.com/v1/public/comics/14424', 'name': 'Hulk (1999) #24'}, {'resourceURI': 'http://gateway.marvel.com/v1/public/comics/14425', 'name': 'Hulk (1999) #25'}, {'resourceURI': 'http://gateway.marvel.com/v1/public/comics/14428', 'name': 'Hulk (1999) #28'}, {'resourceURI': 'http://gateway.marvel.com/v1/public/comics/14450', 'name': 'Hulk (1999) #50'}, {'resourceURI': 'http://gateway.marvel.com/v1/public/comics/14451', 'name': 'Hulk (1999) #51'}, {'resourceURI': 'http://gateway.marvel.com/v1/public/comics/14453', 'name': 'Hulk (1999) #53'}, {'resourceURI': 'http://gateway.marvel.com/v1/public/comics/14454', 'name': 'Hulk (1999) #54'}, {'resourceURI': 'http://gateway.marvel.com/v1/public/comics/8948', 'name': 'Incredible Hulk (1962) #137'}, {'resourceURI': 'http://gateway.marvel.com/v1/public/comics/8982', 'name': 'Incredible Hulk (1962) #171'}, {'resourceURI': 'http://gateway.marvel.com/v1/public/comics/9005', 'name': 'Incredible Hulk (1962) #194'}, {'resourceURI': 'http://gateway.marvel.com/v1/public/comics/9006', 'name': 'Incredible Hulk (1962) #195'}, {'resourceURI': 'http://gateway.marvel.com/v1/public/comics/9007', 'name': 'Incredible Hulk (1962) #196'}, {'resourceURI': 'http://gateway.marvel.com/v1/public/comics/9011', 'name': 'Incredible Hulk (1962) #200'}], 'returned': 20}, 'series': {'available': 26, 'collectionURI': 'http://gateway.marvel.com/v1/public/characters/1009146/series', 'items': [{'resourceURI': 'http://gateway.marvel.com/v1/public/series/354', 'name': 'Avengers (1998 - 2004)'}, {'resourceURI': 'http://gateway.marvel.com/v1/public/series/158', 'name': 'Avengers Vol. 1: World Trust (2003)'}, {'resourceURI': 'http://gateway.marvel.com/v1/public/series/378', 'name': 'Earth X (1999)'}, {'resourceURI': 'http://gateway.marvel.com/v1/public/series/1806', 'name': 'Earth X (New (2006)'}, {'resourceURI': 'http://gateway.marvel.com/v1/public/series/3374', 'name': 'Hulk (2008 - 2012)'}, {'resourceURI': 'http://gateway.marvel.com/v1/public/series/465', 'name': 'Hulk (1999 - 2008)'}, {'resourceURI': 'http://gateway.marvel.com/v1/public/series/924', 'name': 'Hulk: Destruction (2005)'}, {'resourceURI': 'http://gateway.marvel.com/v1/public/series/2021', 'name': 'Incredible Hulk (1962 - 1999)'}, {'resourceURI': 'http://gateway.marvel.com/v1/public/series/2983', 'name': 'Incredible Hulk Annual (1976 - 1994)'}, {'resourceURI': 'http://gateway.marvel.com/v1/public/series/22424', 'name': 'Incredible Hulk Epic Collection: The Hulk Must Die (2017)'}, {'resourceURI': 'http://gateway.marvel.com/v1/public/series/212', 'name': 'Incredible Hulk Vol. 4: Abominable (2003)'}, {'resourceURI': 'http://gateway.marvel.com/v1/public/series/244', 'name': 'Incredible Hulk Vol. IV: Abominable (2003)'}, {'resourceURI': 'http://gateway.marvel.com/v1/public/series/8842', 'name': 'Incredible Hulks (2010 - 2011)'}, {'resourceURI': 'http://gateway.marvel.com/v1/public/series/2572', 'name': 'Iron Man (1998 - 2004)'}, {'resourceURI': 'http://gateway.marvel.com/v1/public/series/977', 'name': 'Irredeemable Ant-Man (2006 - 2007)'}, {'resourceURI': 'http://gateway.marvel.com/v1/public/series/2423', 'name': 'Irredeemable Ant-Man Vol. 1: Low-Life (2007)'}, {'resourceURI': 'http://gateway.marvel.com/v1/public/series/3722', 'name': 'Killraven (2002 - 2003)'}, {'resourceURI': 'http://gateway.marvel.com/v1/public/series/2437', 'name': 'Killraven Premiere (2007)'}, {'resourceURI': 'http://gateway.marvel.com/v1/public/series/21675', 'name': 'Marvel Cinematic Universe Guidebook: The Avengers Initiative (2017)'}, {'resourceURI': 'http://gateway.marvel.com/v1/public/series/22327', 'name': 'Marvel Masterworks: The Incredible Hulk Vol. 11 (2017)'}], 'returned': 20}, 'stories': {'available': 63, 'collectionURI': 'http://gateway.marvel.com/v1/public/characters/1009146/stories', 'items': [{'resourceURI': 'http://gateway.marvel.com/v1/public/stories/4946', 'name': '4 of 4 - 4XLS', 'type': 'cover'}, {'resourceURI': 'http://gateway.marvel.com/v1/public/stories/5496', 'name': 'Irredeemable Ant-Man (2006) #1', 'type': 'cover'}, {'resourceURI': 'http://gateway.marvel.com/v1/public/stories/12370', 'name': 'Cover #12370', 'type': 'cover'}, {'resourceURI': 'http://gateway.marvel.com/v1/public/stories/12372', 'name': 'Whosoever Harms the Hulk..!', 'type': 'interiorStory'}, {'resourceURI': 'http://gateway.marvel.com/v1/public/stories/18419', 'name': '[none]', 'type': 'cover'}, {'resourceURI': 'http://gateway.marvel.com/v1/public/stories/18420', 'name': 'The Stars Mine Enemy', 'type': 'interiorStory'}, {'resourceURI': 'http://gateway.marvel.com/v1/public/stories/18488', 'name': 'Incredible Hulk (1962) #171', 'type': 'cover'}, {'resourceURI': 'http://gateway.marvel.com/v1/public/stories/18489', 'name': 'Revenge', 'type': ''}, {'resourceURI': 'http://gateway.marvel.com/v1/public/stories/18534', 'name': 'Incredible Hulk (1962) #194', 'type': 'cover'}, {'resourceURI': 'http://gateway.marvel.com/v1/public/stories/18535', 'name': 'The Day of the Locust!', 'type': 'interiorStory'}, {'resourceURI': 'http://gateway.marvel.com/v1/public/stories/18536', 'name': 'Incredible Hulk (1962) #195', 'type': 'cover'}, {'resourceURI': 'http://gateway.marvel.com/v1/public/stories/18537', 'name': 'Warfare In Wonderland!', 'type': 'interiorStory'}, {'resourceURI': 'http://gateway.marvel.com/v1/public/stories/18538', 'name': 'Incredible Hulk (1962) #196', 'type': 'cover'}, {'resourceURI': 'http://gateway.marvel.com/v1/public/stories/18539', 'name': 'The Abomination Proclamation!', 'type': 'interiorStory'}, {'resourceURI': 'http://gateway.marvel.com/v1/public/stories/18546', 'name': 'Incredible Hulk (1962) #200', 'type': 'cover'}, {'resourceURI': 'http://gateway.marvel.com/v1/public/stories/18547', 'name': 'An Intruder In the Mind!', 'type': 'interiorStory'}, {'resourceURI': 'http://gateway.marvel.com/v1/public/stories/18776', 'name': 'Cover #18776', 'type': 'cover'}, {'resourceURI': 'http://gateway.marvel.com/v1/public/stories/18877', 'name': 'Incredible Hulk (1962) #364', 'type': 'cover'}, {'resourceURI': 'http://gateway.marvel.com/v1/public/stories/18878', 'name': 'Countdown Part 4: The Abomination', 'type': 'interiorStory'}, {'resourceURI': 'http://gateway.marvel.com/v1/public/stories/18881', 'name': 'Incredible Hulk (1962) #366', 'type': 'cover'}], 'returned': 20}, 'events': {'available': 1, 'collectionURI': 'http://gateway.marvel.com/v1/public/characters/1009146/events', 'items': [{'resourceURI': 'http://gateway.marvel.com/v1/public/events/296', 'name': 'Chaos War'}], 'returned': 1}, 'urls': [{'type': 'detail', 'url': 'http://marvel.com/comics/characters/1009146/abomination_emil_blonsky?utm_campaign=apiRef&utm_source=e2f3b83c35270fe9a4d95708f6e71dee'}, {'type': 'wiki', 'url': 'http://marvel.com/universe/Abomination?utm_campaign=apiRef&utm_source=e2f3b83c35270fe9a4d95708f6e71dee'}, {'type': 'comiclink', 'url': 'http://marvel.com/comics/characters/1009146/abomination_emil_blonsky?utm_campaign=apiRef&utm_source=e2f3b83c35270fe9a4d95708f6e71dee'}]}, {'id': 1016823, 'name': 'Abomination (Ultimate)', 'description': '', 'modified': '2012-07-10T19:11:52-0400', 'thumbnail': {'path': 'http://i.annihil.us/u/prod/marvel/i/mg/b/40/image_not_available', 'extension': 'jpg'}, 'resourceURI': 'http://gateway.marvel.com/v1/public/characters/1016823', 'comics': {'available': 2, 'collectionURI': 'http://gateway.marvel.com/v1/public/characters/1016823/comics', 'items': [{'resourceURI': 'http://gateway.marvel.com/v1/public/comics/40638', 'name': 'Hulk (2008) #50'}, {'resourceURI': 'http://gateway.marvel.com/v1/public/comics/15717', 'name': 'Ultimate X-Men (2000) #26'}], 'returned': 2}, 'series': {'available': 2, 'collectionURI': 'http://gateway.marvel.com/v1/public/characters/1016823/series', 'items': [{'resourceURI': 'http://gateway.marvel.com/v1/public/series/3374', 'name': 'Hulk (2008 - 2012)'}, {'resourceURI': 'http://gateway.marvel.com/v1/public/series/474', 'name': 'Ultimate X-Men (2000 - 2009)'}], 'returned': 2}, 'stories': {'available': 3, 'collectionURI': 'http://gateway.marvel.com/v1/public/characters/1016823/stories', 'items': [{'resourceURI': 'http://gateway.marvel.com/v1/public/stories/31883', 'name': 'Free Preview of THE INCREDIBLE HULK #50', 'type': 'interiorStory'}, {'resourceURI': 'http://gateway.marvel.com/v1/public/stories/92098', 'name': 'Hulk (2008) #50', 'type': 'cover'}, {'resourceURI': 'http://gateway.marvel.com/v1/public/stories/92099', 'name': 'Interior #92099', 'type': 'interiorStory'}], 'returned': 3}, 'events': {'available': 0, 'collectionURI': 'http://gateway.marvel.com/v1/public/characters/1016823/events', 'items': [], 'returned': 0}, 'urls': [{'type': 'detail', 'url': 'http://marvel.com/comics/characters/1016823/abomination_ultimate?utm_campaign=apiRef&utm_source=e2f3b83c35270fe9a4d95708f6e71dee'}, {'type': 'comiclink', 'url': 'http://marvel.com/comics/characters/1016823/abomination_ultimate?utm_campaign=apiRef&utm_source=e2f3b83c35270fe9a4d95708f6e71dee'}]}, {'id': 1009148, 'name': 'Absorbing Man', 'description': '', 'modified': '2013-10-24T14:32:08-0400', 'thumbnail': {'path': 'http://i.annihil.us/u/prod/marvel/i/mg/1/b0/5269678709fb7', 'extension': 'jpg'}, 'resourceURI': 'http://gateway.marvel.com/v1/public/characters/1009148', 'comics': {'available': 91, 'collectionURI': 'http://gateway.marvel.com/v1/public/characters/1009148/comics', 'items': [{'resourceURI': 'http://gateway.marvel.com/v1/public/comics/43507', 'name': 'A+X (2012) #8'}, {'resourceURI': 'http://gateway.marvel.com/v1/public/comics/7045', 'name': 'Avengers (1963) #183'}, {'resourceURI': 'http://gateway.marvel.com/v1/public/comics/7046', 'name': 'Avengers (1963) #184'}, {'resourceURI': 'http://gateway.marvel.com/v1/public/comics/7142', 'name': 'Avengers (1963) #270'}, {'resourceURI': 'http://gateway.marvel.com/v1/public/comics/36481', 'name': 'Avengers Academy (2010) #16'}, {'resourceURI': 'http://gateway.marvel.com/v1/public/comics/36480', 'name': 'Avengers Academy (2010) #17'}, {'resourceURI': 'http://gateway.marvel.com/v1/public/comics/36479', 'name': 'Avengers Academy (2010) #18'}, {'resourceURI': 'http://gateway.marvel.com/v1/public/comics/36484', 'name': 'Avengers Academy (2010) #19'}, {'resourceURI': 'http://gateway.marvel.com/v1/public/comics/17776', 'name': 'Avengers Annual (1967) #20'}, {'resourceURI': 'http://gateway.marvel.com/v1/public/comics/63662', 'name': 'Black Bolt (2017) #3'}, {'resourceURI': 'http://gateway.marvel.com/v1/public/comics/64278', 'name': 'Black Bolt (2017) #4'}, {'resourceURI': 'http://gateway.marvel.com/v1/public/comics/66533', 'name': 'Black Bolt (2017) #11'}, {'resourceURI': 'http://gateway.marvel.com/v1/public/comics/65327', 'name': 'Black Bolt Vol. 1: Hard Time (Trade Paperback)'}, {'resourceURI': 'http://gateway.marvel.com/v1/public/comics/12783', 'name': 'Captain America (1998) #24'}, {'resourceURI': 'http://gateway.marvel.com/v1/public/comics/20427', 'name': 'Dazzler (1981) #18'}, {'resourceURI': 'http://gateway.marvel.com/v1/public/comics/20428', 'name': 'Dazzler (1981) #19'}, {'resourceURI': 'http://gateway.marvel.com/v1/public/comics/8499', 'name': 'Deadpool (1997) #43'}, {'resourceURI': 'http://gateway.marvel.com/v1/public/comics/15541', 'name': 'Fantastic Four (1998) #22'}, {'resourceURI': 'http://gateway.marvel.com/v1/public/comics/13151', 'name': 'Fantastic Four (1961) #330'}, {'resourceURI': 'http://gateway.marvel.com/v1/public/comics/41433', 'name': 'Fear Itself (2010) #2 (3rd Printing Variant)'}], 'returned': 20}, 'series': {'available': 47, 'collectionURI': 'http://gateway.marvel.com/v1/public/characters/1009148/series', 'items': [{'resourceURI': 'http://gateway.marvel.com/v1/public/series/16450', 'name': 'A+X (2012 - 2014)'}, {'resourceURI': 'http://gateway.marvel.com/v1/public/series/1991', 'name': 'Avengers (1963 - 1996)'}, {'resourceURI': 'http://gateway.marvel.com/v1/public/series/9086', 'name': 'Avengers Academy (2010 - 2012)'}, {'resourceURI': 'http://gateway.marvel.com/v1/public/series/1988', 'name': 'Avengers Annual (1967 - 1994)'}, {'resourceURI': 'http://gateway.marvel.com/v1/public/series/23121', 'name': 'Black Bolt (2017 - 2018)'}, {'resourceURI': 'http://gateway.marvel.com/v1/public/series/23778', 'name': 'Black Bolt Vol. 1: Hard Time (2017)'}, {'resourceURI': 'http://gateway.marvel.com/v1/public/series/1997', 'name': 'Captain America (1998 - 2002)'}, {'resourceURI': 'http://gateway.marvel.com/v1/public/series/3745', 'name': 'Dazzler (1981 - 1986)'}, {'resourceURI': 'http://gateway.marvel.com/v1/public/series/2005', 'name': 'Deadpool (1997 - 2002)'}, {'resourceURI': 'http://gateway.marvel.com/v1/public/series/2121', 'name': 'Fantastic Four (1961 - 1998)'}, {'resourceURI': 'http://gateway.marvel.com/v1/public/series/421', 'name': 'Fantastic Four (1998 - 2012)'}, {'resourceURI': 'http://gateway.marvel.com/v1/public/series/13691', 'name': 'Fear Itself (2010 - 2011)'}, {'resourceURI': 'http://gateway.marvel.com/v1/public/series/13857', 'name': 'Fear Itself: Fellowship of Fear (2011)'}, {'resourceURI': 'http://gateway.marvel.com/v1/public/series/13827', 'name': 'Fear Itself: The Worthy (2011)'}, {'resourceURI': 'http://gateway.marvel.com/v1/public/series/20084', 'name': 'Heroes for Hire (1997 - 1999)'}, {'resourceURI': 'http://gateway.marvel.com/v1/public/series/465', 'name': 'Hulk (1999 - 2008)'}, {'resourceURI': 'http://gateway.marvel.com/v1/public/series/20552', 'name': 'Illuminati (2015 - 2016)'}, {'resourceURI': 'http://gateway.marvel.com/v1/public/series/24278', 'name': 'Immortal Hulk (2018 - Present)'}, {'resourceURI': 'http://gateway.marvel.com/v1/public/series/24891', 'name': 'Immortal Hulk Vol. 2: The Green Door (2019)'}, {'resourceURI': 'http://gateway.marvel.com/v1/public/series/2021', 'name': 'Incredible Hulk (1962 - 1999)'}], 'returned': 20}, 'stories': {'available': 104, 'collectionURI': 'http://gateway.marvel.com/v1/public/characters/1009148/stories', 'items': [{'resourceURI': 'http://gateway.marvel.com/v1/public/stories/4988', 'name': '1 of 1', 'type': 'cover'}, {'resourceURI': 'http://gateway.marvel.com/v1/public/stories/7866', 'name': 'Punisher War Journal (2006) #4', 'type': 'cover'}, {'resourceURI': 'http://gateway.marvel.com/v1/public/stories/10997', 'name': 'Journey Into Mystery (1952) #114', 'type': 'cover'}, {'resourceURI': 'http://gateway.marvel.com/v1/public/stories/10998', 'name': 'The Stronger I Am, the Sooner I Die', 'type': 'interiorStory'}, {'resourceURI': 'http://gateway.marvel.com/v1/public/stories/11000', 'name': 'Journey Into Mystery (1952) #115', 'type': 'cover'}, {'resourceURI': 'http://gateway.marvel.com/v1/public/stories/11001', 'name': 'The Vengeance of the Thunder God', 'type': 'interiorStory'}, {'resourceURI': 'http://gateway.marvel.com/v1/public/stories/11022', 'name': 'Journey Into Mystery (1952) #120', 'type': 'cover'}, {'resourceURI': 'http://gateway.marvel.com/v1/public/stories/11023', 'name': 'With My Hammer In Hand', 'type': 'interiorStory'}, {'resourceURI': 'http://gateway.marvel.com/v1/public/stories/11025', 'name': 'Journey Into Mystery (1952) #121', 'type': 'cover'}, {'resourceURI': 'http://gateway.marvel.com/v1/public/stories/11026', 'name': 'The Power!  The Passion!  The Pride!', 'type': 'interiorStory'}, {'resourceURI': 'http://gateway.marvel.com/v1/public/stories/11028', 'name': 'Journey Into Mystery (1952) #122', 'type': 'cover'}, {'resourceURI': 'http://gateway.marvel.com/v1/public/stories/11029', 'name': 'Where Mortals Fear To Tread!', 'type': 'interiorStory'}, {'resourceURI': 'http://gateway.marvel.com/v1/public/stories/11031', 'name': 'Journey Into Mystery (1952) #123', 'type': 'cover'}, {'resourceURI': 'http://gateway.marvel.com/v1/public/stories/11032', 'name': 'While a Universe Trembles', 'type': 'interiorStory'}, {'resourceURI': 'http://gateway.marvel.com/v1/public/stories/12951', 'name': 'Fantastic Four (1961) #330', 'type': 'cover'}, {'resourceURI': 'http://gateway.marvel.com/v1/public/stories/12952', 'name': 'Good Dreams!', 'type': 'interiorStory'}, {'resourceURI': 'http://gateway.marvel.com/v1/public/stories/14628', 'name': 'Avengers (1963) #183', 'type': 'cover'}, {'resourceURI': 'http://gateway.marvel.com/v1/public/stories/14630', 'name': 'Avengers (1963) #184', 'type': 'cover'}, {'resourceURI': 'http://gateway.marvel.com/v1/public/stories/14823', 'name': 'Avengers (1963) #270', 'type': 'cover'}, {'resourceURI': 'http://gateway.marvel.com/v1/public/stories/16688', 'name': 'Thor (1966) #206', 'type': 'cover'}], 'returned': 20}, 'events': {'available': 4, 'collectionURI': 'http://gateway.marvel.com/v1/public/characters/1009148/events', 'items': [{'resourceURI': 'http://gateway.marvel.com/v1/public/events/238', 'name': 'Civil War'}, {'resourceURI': 'http://gateway.marvel.com/v1/public/events/302', 'name': 'Fear Itself'}, {'resourceURI': 'http://gateway.marvel.com/v1/public/events/270', 'name': 'Secret Wars'}, {'resourceURI': 'http://gateway.marvel.com/v1/public/events/273', 'name': 'Siege'}], 'returned': 4}, 'urls': [{'type': 'detail', 'url': 'http://marvel.com/comics/characters/1009148/absorbing_man?utm_campaign=apiRef&utm_source=e2f3b83c35270fe9a4d95708f6e71dee'}, {'type': 'wiki', 'url': 'http://marvel.com/universe/Absorbing_Man?utm_campaign=apiRef&utm_source=e2f3b83c35270fe9a4d95708f6e71dee'}, {'type': 'comiclink', 'url': 'http://marvel.com/comics/characters/1009148/absorbing_man?utm_campaign=apiRef&utm_source=e2f3b83c35270fe9a4d95708f6e71dee'}]}, {'id': 1009149, 'name': 'Abyss', 'description': '', 'modified': '2014-04-29T14:10:43-0400', 'thumbnail': {'path': 'http://i.annihil.us/u/prod/marvel/i/mg/9/30/535feab462a64', 'extension': 'jpg'}, 'resourceURI': 'http://gateway.marvel.com/v1/public/characters/1009149', 'comics': {'available': 8, 'collectionURI': 'http://gateway.marvel.com/v1/public/characters/1009149/comics', 'items': [{'resourceURI': 'http://gateway.marvel.com/v1/public/comics/13943', 'name': 'Uncanny X-Men (1963) #402'}, {'resourceURI': 'http://gateway.marvel.com/v1/public/comics/13945', 'name': 'Uncanny X-Men (1963) #404'}, {'resourceURI': 'http://gateway.marvel.com/v1/public/comics/13946', 'name': 'Uncanny X-Men (1963) #405'}, {'resourceURI': 'http://gateway.marvel.com/v1/public/comics/13947', 'name': 'Uncanny X-Men (1963) #406'}, {'resourceURI': 'http://gateway.marvel.com/v1/public/comics/13970', 'name': 'Uncanny X-Men (1963) #429'}, {'resourceURI': 'http://gateway.marvel.com/v1/public/comics/13972', 'name': 'Uncanny X-Men (1963) #431'}, {'resourceURI': 'http://gateway.marvel.com/v1/public/comics/12386', 'name': 'X-Men: Alpha (1995) #1'}, {'resourceURI': 'http://gateway.marvel.com/v1/public/comics/2539', 'name': 'X-Men: The Complete Age of Apocalypse Epic Book 2 (Trade Paperback)'}], 'returned': 8}, 'series': {'available': 3, 'collectionURI': 'http://gateway.marvel.com/v1/public/characters/1009149/series', 'items': [{'resourceURI': 'http://gateway.marvel.com/v1/public/series/2258', 'name': 'Uncanny X-Men (1963 - 2011)'}, {'resourceURI': 'http://gateway.marvel.com/v1/public/series/2104', 'name': 'X-Men: Alpha (1995)'}, {'resourceURI': 'http://gateway.marvel.com/v1/public/series/1583', 'name': 'X-Men: The Complete Age of Apocalypse Epic Book 2 (2005)'}], 'returned': 3}, 'stories': {'available': 8, 'collectionURI': 'http://gateway.marvel.com/v1/public/characters/1009149/stories', 'items': [{'resourceURI': 'http://gateway.marvel.com/v1/public/stories/26281', 'name': 'A Beginning', 'type': 'interiorStory'}, {'resourceURI': 'http://gateway.marvel.com/v1/public/stories/28352', 'name': 'Utility of Myth', 'type': 'interiorStory'}, {'resourceURI': 'http://gateway.marvel.com/v1/public/stories/28356', 'name': 'Army Ants', 'type': 'interiorStory'}, {'resourceURI': 'http://gateway.marvel.com/v1/public/stories/28358', 'name': 'Ballroom Blitzkrieg', 'type': 'interiorStory'}, {'resourceURI': 'http://gateway.marvel.com/v1/public/stories/28360', 'name': 'Staring Contests are for Suckers', 'type': 'interiorStory'}, {'resourceURI': 'http://gateway.marvel.com/v1/public/stories/28407', 'name': 'The Draco Part One: Sins of the Father', 'type': 'interiorStory'}, {'resourceURI': 'http://gateway.marvel.com/v1/public/stories/28411', 'name': 'The Draco Part Three', 'type': 'interiorStory'}, {'resourceURI': 'http://gateway.marvel.com/v1/public/stories/28413', 'name': 'The Draco Part Four', 'type': 'interiorStory'}], 'returned': 8}, 'events': {'available': 1, 'collectionURI': 'http://gateway.marvel.com/v1/public/characters/1009149/events', 'items': [{'resourceURI': 'http://gateway.marvel.com/v1/public/events/227', 'name': 'Age of Apocalypse'}], 'returned': 1}, 'urls': [{'type': 'detail', 'url': 'http://marvel.com/comics/characters/1009149/abyss?utm_campaign=apiRef&utm_source=e2f3b83c35270fe9a4d95708f6e71dee'}, {'type': 'wiki', 'url': 'http://marvel.com/universe/Abyss_(alien)?utm_campaign=apiRef&utm_source=e2f3b83c35270fe9a4d95708f6e71dee'}, {'type': 'comiclink', 'url': 'http://marvel.com/comics/characters/1009149/abyss?utm_campaign=apiRef&utm_source=e2f3b83c35270fe9a4d95708f6e71dee'}]}, {'id': 1010903, 'name': 'Abyss (Age of Apocalypse)', 'description': '', 'modified': '1969-12-31T19:00:00-0500', 'thumbnail': {'path': 'http://i.annihil.us/u/prod/marvel/i/mg/3/80/4c00358ec7548', 'extension': 'jpg'}, 'resourceURI': 'http://gateway.marvel.com/v1/public/characters/1010903', 'comics': {'available': 3, 'collectionURI': 'http://gateway.marvel.com/v1/public/characters/1010903/comics', 'items': [{'resourceURI': 'http://gateway.marvel.com/v1/public/comics/18099', 'name': 'Weapon X (1995) #1'}, {'resourceURI': 'http://gateway.marvel.com/v1/public/comics/12386', 'name': 'X-Men: Alpha (1995) #1'}, {'resourceURI': 'http://gateway.marvel.com/v1/public/comics/2539', 'name': 'X-Men: The Complete Age of Apocalypse Epic Book 2 (Trade Paperback)'}], 'returned': 3}, 'series': {'available': 3, 'collectionURI': 'http://gateway.marvel.com/v1/public/characters/1010903/series', 'items': [{'resourceURI': 'http://gateway.marvel.com/v1/public/series/3635', 'name': 'Weapon X (1995)'}, {'resourceURI': 'http://gateway.marvel.com/v1/public/series/2104', 'name': 'X-Men: Alpha (1995)'}, {'resourceURI': 'http://gateway.marvel.com/v1/public/series/1583', 'name': 'X-Men: The Complete Age of Apocalypse Epic Book 2 (2005)'}], 'returned': 3}, 'stories': {'available': 2, 'collectionURI': 'http://gateway.marvel.com/v1/public/characters/1010903/stories', 'items': [{'resourceURI': 'http://gateway.marvel.com/v1/public/stories/26280', 'name': 'X-Men: Alpha (1994) #1', 'type': 'cover'}, {'resourceURI': 'http://gateway.marvel.com/v1/public/stories/38448', 'name': 'X-Facts', 'type': ''}], 'returned': 2}, 'events': {'available': 1, 'collectionURI': 'http://gateway.marvel.com/v1/public/characters/1010903/events', 'items': [{'resourceURI': 'http://gateway.marvel.com/v1/public/events/227', 'name': 'Age of Apocalypse'}], 'returned': 1}, 'urls': [{'type': 'detail', 'url': 'http://marvel.com/comics/characters/1010903/abyss_age_of_apocalypse?utm_campaign=apiRef&utm_source=e2f3b83c35270fe9a4d95708f6e71dee'}, {'type': 'wiki', 'url': 'http://marvel.com/universe/Abyss_(Age_of_Apocalypse)?utm_campaign=apiRef&utm_source=e2f3b83c35270fe9a4d95708f6e71dee'}, {'type': 'comiclink', 'url': 'http://marvel.com/comics/characters/1010903/abyss_age_of_apocalypse?utm_campaign=apiRef&utm_source=e2f3b83c35270fe9a4d95708f6e71dee'}]}, {'id': 1011266, 'name': 'Adam Destine', 'description': '', 'modified': '1969-12-31T19:00:00-0500', 'thumbnail': {'path': 'http://i.annihil.us/u/prod/marvel/i/mg/b/40/image_not_available', 'extension': 'jpg'}, 'resourceURI': 'http://gateway.marvel.com/v1/public/characters/1011266', 'comics': {'available': 0, 'collectionURI': 'http://gateway.marvel.com/v1/public/characters/1011266/comics', 'items': [], 'returned': 0}, 'series': {'available': 0, 'collectionURI': 'http://gateway.marvel.com/v1/public/characters/1011266/series', 'items': [], 'returned': 0}, 'stories': {'available': 0, 'collectionURI': 'http://gateway.marvel.com/v1/public/characters/1011266/stories', 'items': [], 'returned': 0}, 'events': {'available': 0, 'collectionURI': 'http://gateway.marvel.com/v1/public/characters/1011266/events', 'items': [], 'returned': 0}, 'urls': [{'type': 'detail', 'url': 'http://marvel.com/characters/2902/adam_destine?utm_campaign=apiRef&utm_source=e2f3b83c35270fe9a4d95708f6e71dee'}, {'type': 'wiki', 'url': 'http://marvel.com/universe/Destine,_Adam?utm_campaign=apiRef&utm_source=e2f3b83c35270fe9a4d95708f6e71dee'}, {'type': 'comiclink', 'url': 'http://marvel.com/comics/characters/1011266/adam_destine?utm_campaign=apiRef&utm_source=e2f3b83c35270fe9a4d95708f6e71dee'}]}, {'id': 1010354, 'name': 'Adam Warlock', 'description': 'Adam Warlock is an artificially created human who was born in a cocoon at a scientific complex called The Beehive.', 'modified': '2013-08-07T13:49:06-0400', 'thumbnail': {'path': 'http://i.annihil.us/u/prod/marvel/i/mg/a/f0/5202887448860', 'extension': 'jpg'}, 'resourceURI': 'http://gateway.marvel.com/v1/public/characters/1010354', 'comics': {'available': 187, 'collectionURI': 'http://gateway.marvel.com/v1/public/characters/1010354/comics', 'items': [{'resourceURI': 'http://gateway.marvel.com/v1/public/comics/62151', 'name': 'All-New Guardians of the Galaxy Vol. 3: Infinity Quest (Trade Paperback)'}, {'resourceURI': 'http://gateway.marvel.com/v1/public/comics/17271', 'name': 'Annihilation: Conquest (2007) #1'}, {'resourceURI': 'http://gateway.marvel.com/v1/public/comics/17405', 'name': 'Annihilation: Conquest (2007) #2'}, {'resourceURI': 'http://gateway.marvel.com/v1/public/comics/17645', 'name': 'Annihilation: Conquest (2007) #3'}, {'resourceURI': 'http://gateway.marvel.com/v1/public/comics/20686', 'name': 'Annihilation: Conquest (2007) #4'}, {'resourceURI': 'http://gateway.marvel.com/v1/public/comics/20885', 'name': 'Annihilation: Conquest (2007) #5'}, {'resourceURI': 'http://gateway.marvel.com/v1/public/comics/21016', 'name': 'Annihilation: Conquest (2007) #6'}, {'resourceURI': 'http://gateway.marvel.com/v1/public/comics/12412', 'name': 'Avengers Forever (1998) #9'}, {'resourceURI': 'http://gateway.marvel.com/v1/public/comics/1033', 'name': 'Avengers Legends Vol. I: Avengers Forever (Trade Paperback)'}, {'resourceURI': 'http://gateway.marvel.com/v1/public/comics/20731', 'name': 'Clandestine Classic Premiere (Hardcover)'}, {'resourceURI': 'http://gateway.marvel.com/v1/public/comics/20187', 'name': 'Doctor Strange, Sorcerer Supreme (1988) #27'}, {'resourceURI': 'http://gateway.marvel.com/v1/public/comics/20193', 'name': 'Doctor Strange, Sorcerer Supreme (1988) #32'}, {'resourceURI': 'http://gateway.marvel.com/v1/public/comics/20197', 'name': 'Doctor Strange, Sorcerer Supreme (1988) #36'}, {'resourceURI': 'http://gateway.marvel.com/v1/public/comics/8552', 'name': 'Earth X (1999) #2'}, {'resourceURI': 'http://gateway.marvel.com/v1/public/comics/8550', 'name': 'Earth X (1999) #11'}, {'resourceURI': 'http://gateway.marvel.com/v1/public/comics/4241', 'name': 'Earth X (New (Trade Paperback)'}, {'resourceURI': 'http://gateway.marvel.com/v1/public/comics/12975', 'name': 'Fantastic Four (1961) #172'}, {'resourceURI': 'http://gateway.marvel.com/v1/public/comics/13195', 'name': 'Fantastic Four (1961) #370'}, {'resourceURI': 'http://gateway.marvel.com/v1/public/comics/25305', 'name': 'Guardians of the Galaxy (2008) #17'}, {'resourceURI': 'http://gateway.marvel.com/v1/public/comics/65547', 'name': 'All-New Guardians of the Galaxy (2017) #150'}], 'returned': 20}, 'series': {'available': 81, 'collectionURI': 'http://gateway.marvel.com/v1/public/characters/1010354/series', 'items': [{'resourceURI': 'http://gateway.marvel.com/v1/public/series/23058', 'name': 'All-New Guardians of the Galaxy (2017)'}, {'resourceURI': 'http://gateway.marvel.com/v1/public/series/22778', 'name': 'All-New Guardians of the Galaxy Vol. 3: Infinity Quest (2018)'}, {'resourceURI': 'http://gateway.marvel.com/v1/public/series/3061', 'name': 'Annihilation: Conquest (2007)'}, {'resourceURI': 'http://gateway.marvel.com/v1/public/series/2111', 'name': 'Avengers Forever (1998 - 2001)'}, {'resourceURI': 'http://gateway.marvel.com/v1/public/series/93', 'name': 'Avengers Legends Vol. I: Avengers Forever (2002)'}, {'resourceURI': 'http://gateway.marvel.com/v1/public/series/3874', 'name': 'Clandestine Classic Premiere (2008)'}, {'resourceURI': 'http://gateway.marvel.com/v1/public/series/3741', 'name': 'Doctor Strange, Sorcerer Supreme (1988 - 1996)'}, {'resourceURI': 'http://gateway.marvel.com/v1/public/series/378', 'name': 'Earth X (1999)'}, {'resourceURI': 'http://gateway.marvel.com/v1/public/series/1806', 'name': 'Earth X (New (2006)'}, {'resourceURI': 'http://gateway.marvel.com/v1/public/series/2121', 'name': 'Fantastic Four (1961 - 1998)'}, {'resourceURI': 'http://gateway.marvel.com/v1/public/series/4885', 'name': 'Guardians of the Galaxy (2008 - 2010)'}, {'resourceURI': 'http://gateway.marvel.com/v1/public/series/27554', 'name': 'Guardians Of The Galaxy Annual (2019)'}, {'resourceURI': 'http://gateway.marvel.com/v1/public/series/22422', 'name': 'GUARDIANS OF THE GALAXY: ROAD TO ANNIHILATION VOL. 2 TPB (2017)'}, {'resourceURI': 'http://gateway.marvel.com/v1/public/series/2021', 'name': 'Incredible Hulk (1962 - 1999)'}, {'resourceURI': 'http://gateway.marvel.com/v1/public/series/2983', 'name': 'Incredible Hulk Annual (1976 - 1994)'}, {'resourceURI': 'http://gateway.marvel.com/v1/public/series/26307', 'name': 'Infinity By Starlin & Hickman (2019)'}, {'resourceURI': 'http://gateway.marvel.com/v1/public/series/24050', 'name': 'Infinity Countdown (2018)'}, {'resourceURI': 'http://gateway.marvel.com/v1/public/series/24300', 'name': 'Infinity Countdown Prime (2018)'}, {'resourceURI': 'http://gateway.marvel.com/v1/public/series/23991', 'name': 'Infinity Countdown: Adam Warlock (2018)'}, {'resourceURI': 'http://gateway.marvel.com/v1/public/series/24051', 'name': 'Infinity Crusade (2018)'}], 'returned': 20}, 'stories': {'available': 217, 'collectionURI': 'http://gateway.marvel.com/v1/public/characters/1010354/stories', 'items': [{'resourceURI': 'http://gateway.marvel.com/v1/public/stories/1412', 'name': 'Cover #1412', 'type': 'cover'}, {'resourceURI': 'http://gateway.marvel.com/v1/public/stories/1602', 'name': 'Cover #1602', 'type': 'cover'}, {'resourceURI': 'http://gateway.marvel.com/v1/public/stories/1800', 'name': 'Cover #1800', 'type': 'cover'}, {'resourceURI': 'http://gateway.marvel.com/v1/public/stories/1842', 'name': 'Cover #1842', 'type': 'cover'}, {'resourceURI': 'http://gateway.marvel.com/v1/public/stories/3758', 'name': 'WARLOCK (2004) #3', 'type': 'cover'}, {'resourceURI': 'http://gateway.marvel.com/v1/public/stories/3760', 'name': 'WARLOCK (2004) #1', 'type': 'cover'}, {'resourceURI': 'http://gateway.marvel.com/v1/public/stories/3762', 'name': 'WARLOCK (2004) #2', 'type': 'cover'}, {'resourceURI': 'http://gateway.marvel.com/v1/public/stories/3764', 'name': 'WARLOCK (2004) #4', 'type': 'cover'}, {'resourceURI': 'http://gateway.marvel.com/v1/public/stories/12568', 'name': 'Fantastic Four (1961) #172', 'type': 'cover'}, {'resourceURI': 'http://gateway.marvel.com/v1/public/stories/12569', 'name': 'Cry, the Bedeviled Planet!', 'type': 'interiorStory'}, {'resourceURI': 'http://gateway.marvel.com/v1/public/stories/13121', 'name': 'Forever Evil', 'type': 'interiorStory'}, {'resourceURI': 'http://gateway.marvel.com/v1/public/stories/18500', 'name': 'Incredible Hulk (1962) #177', 'type': 'cover'}, {'resourceURI': 'http://gateway.marvel.com/v1/public/stories/18501', 'name': 'Peril of the Paired Planets', 'type': ''}, {'resourceURI': 'http://gateway.marvel.com/v1/public/stories/18503', 'name': 'Triumph On Terra-Two', 'type': ''}, {'resourceURI': 'http://gateway.marvel.com/v1/public/stories/19847', 'name': 'Cover #19847', 'type': 'cover'}, {'resourceURI': 'http://gateway.marvel.com/v1/public/stories/19848', 'name': 'Performance', 'type': 'interiorStory'}, {'resourceURI': 'http://gateway.marvel.com/v1/public/stories/19859', 'name': 'Days of Future Present Part 4', 'type': 'cover'}, {'resourceURI': 'http://gateway.marvel.com/v1/public/stories/19860', 'name': 'You Must Remember This', 'type': 'interiorStory'}, {'resourceURI': 'http://gateway.marvel.com/v1/public/stories/19883', 'name': 'The Adventures of Lockheed the Space Dragon and His Pet Girl, Kitty', 'type': 'interiorStory'}, {'resourceURI': 'http://gateway.marvel.com/v1/public/stories/19884', 'name': 'The Saga of Storm: Goddess of Thunder', 'type': 'cover'}], 'returned': 20}, 'events': {'available': 8, 'collectionURI': 'http://gateway.marvel.com/v1/public/characters/1010354/events', 'items': [{'resourceURI': 'http://gateway.marvel.com/v1/public/events/293', 'name': 'Annihilation: Conquest'}, {'resourceURI': 'http://gateway.marvel.com/v1/public/events/233', 'name': 'Atlantis Attacks'}, {'resourceURI': 'http://gateway.marvel.com/v1/public/events/235', 'name': 'Blood and Thunder'}, {'resourceURI': 'http://gateway.marvel.com/v1/public/events/240', 'name': 'Days of Future Present'}, {'resourceURI': 'http://gateway.marvel.com/v1/public/events/29', 'name': 'Infinity War'}, {'resourceURI': 'http://gateway.marvel.com/v1/public/events/263', 'name': 'Mutant Massacre'}, {'resourceURI': 'http://gateway.marvel.com/v1/public/events/271', 'name': 'Secret Wars II'}, {'resourceURI': 'http://gateway.marvel.com/v1/public/events/280', 'name': 'X-Tinction Agenda'}], 'returned': 8}, 'urls': [{'type': 'detail', 'url': 'http://marvel.com/comics/characters/1010354/adam_warlock?utm_campaign=apiRef&utm_source=e2f3b83c35270fe9a4d95708f6e71dee'}, {'type': 'wiki', 'url': 'http://marvel.com/universe/Warlock,_Adam?utm_campaign=apiRef&utm_source=e2f3b83c35270fe9a4d95708f6e71dee'}, {'type': 'comiclink', 'url': 'http://marvel.com/comics/characters/1010354/adam_warlock?utm_campaign=apiRef&utm_source=e2f3b83c35270fe9a4d95708f6e71dee'}]}, {'id': 1010846, 'name': 'Aegis (Trey Rollins)', 'description': '', 'modified': '1969-12-31T19:00:00-0500', 'thumbnail': {'path': 'http://i.annihil.us/u/prod/marvel/i/mg/5/e0/4c0035c9c425d', 'extension': 'gif'}, 'resourceURI': 'http://gateway.marvel.com/v1/public/characters/1010846', 'comics': {'available': 0, 'collectionURI': 'http://gateway.marvel.com/v1/public/characters/1010846/comics', 'items': [], 'returned': 0}, 'series': {'available': 0, 'collectionURI': 'http://gateway.marvel.com/v1/public/characters/1010846/series', 'items': [], 'returned': 0}, 'stories': {'available': 0, 'collectionURI': 'http://gateway.marvel.com/v1/public/characters/1010846/stories', 'items': [], 'returned': 0}, 'events': {'available': 0, 'collectionURI': 'http://gateway.marvel.com/v1/public/characters/1010846/events', 'items': [], 'returned': 0}, 'urls': [{'type': 'detail', 'url': 'http://marvel.com/characters/95/aegis?utm_campaign=apiRef&utm_source=e2f3b83c35270fe9a4d95708f6e71dee'}, {'type': 'wiki', 'url': 'http://marvel.com/universe/Aegis_%28Trey_Rollins%29?utm_campaign=apiRef&utm_source=e2f3b83c35270fe9a4d95708f6e71dee'}, {'type': 'comiclink', 'url': 'http://marvel.com/comics/characters/1010846/aegis_trey_rollins?utm_campaign=apiRef&utm_source=e2f3b83c35270fe9a4d95708f6e71dee'}]}, {'id': 1011297, 'name': 'Agent Brand', 'description': '', 'modified': '2013-10-24T13:09:30-0400', 'thumbnail': {'path': 'http://i.annihil.us/u/prod/marvel/i/mg/4/60/52695285d6e7e', 'extension': 'jpg'}, 'resourceURI': 'http://gateway.marvel.com/v1/public/characters/1011297', 'comics': {'available': 17, 'collectionURI': 'http://gateway.marvel.com/v1/public/characters/1011297/comics', 'items': [{'resourceURI': 'http://gateway.marvel.com/v1/public/comics/5477', 'name': 'Astonishing X-Men (2004) #19 (Variant)'}, {'resourceURI': 'http://gateway.marvel.com/v1/public/comics/6120', 'name': 'Astonishing X-Men (2004) #21'}, {'resourceURI': 'http://gateway.marvel.com/v1/public/comics/6309', 'name': 'Astonishing X-Men (2004) #22'}, {'resourceURI': 'http://gateway.marvel.com/v1/public/comics/16119', 'name': 'Astonishing X-Men (2004) #23'}, {'resourceURI': 'http://gateway.marvel.com/v1/public/comics/17353', 'name': 'Astonishing X-Men (2004) #24'}, {'resourceURI': 'http://gateway.marvel.com/v1/public/comics/24503', 'name': 'Astonishing X-Men (2004) #32'}, {'resourceURI': 'http://gateway.marvel.com/v1/public/comics/24504', 'name': 'Astonishing X-Men (2004) #33'}, {'resourceURI': 'http://gateway.marvel.com/v1/public/comics/38318', 'name': 'Astonishing X-Men (2004) #38'}, {'resourceURI': 'http://gateway.marvel.com/v1/public/comics/38319', 'name': 'Astonishing X-Men (2004) #40'}, {'resourceURI': 'http://gateway.marvel.com/v1/public/comics/40024', 'name': 'Astonishing X-Men (2004) #40 (I Am Captain America Variant)'}, {'resourceURI': 'http://gateway.marvel.com/v1/public/comics/45950', 'name': 'Cable and X-Force (2012) #8'}, {'resourceURI': 'http://gateway.marvel.com/v1/public/comics/39890', 'name': 'Heralds (Trade Paperback)'}, {'resourceURI': 'http://gateway.marvel.com/v1/public/comics/26232', 'name': 'S.W.O.R.D. (2009) #2'}, {'resourceURI': 'http://gateway.marvel.com/v1/public/comics/26233', 'name': 'S.W.O.R.D. (2009) #3'}, {'resourceURI': 'http://gateway.marvel.com/v1/public/comics/26234', 'name': 'S.W.O.R.D. (2009) #4'}, {'resourceURI': 'http://gateway.marvel.com/v1/public/comics/30518', 'name': 'S.W.O.R.D. (2009) #5'}, {'resourceURI': 'http://gateway.marvel.com/v1/public/comics/61430', 'name': 'The Mighty Captain Marvel (2017) #5'}], 'returned': 17}, 'series': {'available': 5, 'collectionURI': 'http://gateway.marvel.com/v1/public/characters/1011297/series', 'items': [{'resourceURI': 'http://gateway.marvel.com/v1/public/series/744', 'name': 'Astonishing X-Men (2004 - 2013)'}, {'resourceURI': 'http://gateway.marvel.com/v1/public/series/16907', 'name': 'Cable and X-Force (2012 - 2014)'}, {'resourceURI': 'http://gateway.marvel.com/v1/public/series/13065', 'name': 'Heralds (2010)'}, {'resourceURI': 'http://gateway.marvel.com/v1/public/series/8233', 'name': 'S.W.O.R.D. (2009 - 2010)'}, {'resourceURI': 'http://gateway.marvel.com/v1/public/series/22551', 'name': 'The Mighty Captain Marvel (2017 - 2018)'}], 'returned': 5}, 'stories': {'available': 20, 'collectionURI': 'http://gateway.marvel.com/v1/public/characters/1011297/stories', 'items': [{'resourceURI': 'http://gateway.marvel.com/v1/public/stories/3353', 'name': 'Interior #3353', 'type': 'interiorStory'}, {'resourceURI': 'http://gateway.marvel.com/v1/public/stories/7670', 'name': 'ASTONISHING X-MEN (2004) #21', 'type': 'cover'}, {'resourceURI': 'http://gateway.marvel.com/v1/public/stories/8144', 'name': 'ASTONISHING X-MEN (2004) #22', 'type': 'cover'}, {'resourceURI': 'http://gateway.marvel.com/v1/public/stories/32919', 'name': 'ASTONISHING X-MEN (2004) #23', 'type': 'cover'}, {'resourceURI': 'http://gateway.marvel.com/v1/public/stories/36374', 'name': 'ASTONISHING X-MEN (2004) #24', 'type': 'cover'}, {'resourceURI': 'http://gateway.marvel.com/v1/public/stories/54039', 'name': 'ASTONISHING X-MEN (2004) #32', 'type': 'cover'}, {'resourceURI': 'http://gateway.marvel.com/v1/public/stories/54041', 'name': 'ASTONISHING X-MEN (2004) #33', 'type': 'cover'}, {'resourceURI': 'http://gateway.marvel.com/v1/public/stories/57763', 'name': 'S.W.O.R.D. (2009) #2', 'type': 'cover'}, {'resourceURI': 'http://gateway.marvel.com/v1/public/stories/57765', 'name': 'S.W.O.R.D. (2009) #3', 'type': 'cover'}, {'resourceURI': 'http://gateway.marvel.com/v1/public/stories/57767', 'name': 'S.W.O.R.D. (2009) #4', 'type': 'cover'}, {'resourceURI': 'http://gateway.marvel.com/v1/public/stories/69862', 'name': 'S.W.O.R.D. (2009) #5', 'type': 'cover'}, {'resourceURI': 'http://gateway.marvel.com/v1/public/stories/89830', 'name': 'ASTONISHING X-MEN (2004) #38', 'type': 'cover'}, {'resourceURI': 'http://gateway.marvel.com/v1/public/stories/89900', 'name': 'Astonishing X-Men (2004) #38', 'type': 'interiorStory'}, {'resourceURI': 'http://gateway.marvel.com/v1/public/stories/90548', 'name': 'Heralds TPB', 'type': 'cover'}, {'resourceURI': 'http://gateway.marvel.com/v1/public/stories/90819', 'name': 'Interior #90819', 'type': 'interiorStory'}, {'resourceURI': 'http://gateway.marvel.com/v1/public/stories/90853', 'name': ' Interior  Astonishing X-Men (2004) #40', 'type': 'interiorStory'}, {'resourceURI': 'http://gateway.marvel.com/v1/public/stories/90944', 'name': 'ASTONISHING X-MEN (2004) #40', 'type': 'cover'}, {'resourceURI': 'http://gateway.marvel.com/v1/public/stories/103418', 'name': 'Cable and X-Force (2012) #8', 'type': 'cover'}, {'resourceURI': 'http://gateway.marvel.com/v1/public/stories/103419', 'name': 'story from Cable and X-Force (2012) #8', 'type': 'interiorStory'}, {'resourceURI': 'http://gateway.marvel.com/v1/public/stories/133289', 'name': 'cover from Captain Marvel (2016) #5', 'type': 'cover'}], 'returned': 20}, 'events': {'available': 0, 'collectionURI': 'http://gateway.marvel.com/v1/public/characters/1011297/events', 'items': [], 'returned': 0}, 'urls': [{'type': 'detail', 'url': 'http://marvel.com/comics/characters/1011297/agent_brand?utm_campaign=apiRef&utm_source=e2f3b83c35270fe9a4d95708f6e71dee'}, {'type': 'wiki', 'url': 'http://marvel.com/universe/Agent_Brand?utm_campaign=apiRef&utm_source=e2f3b83c35270fe9a4d95708f6e71dee'}, {'type': 'comiclink', 'url': 'http://marvel.com/comics/characters/1011297/agent_brand?utm_campaign=apiRef&utm_source=e2f3b83c35270fe9a4d95708f6e71dee'}]}, {'id': 1011031, 'name': 'Agent X (Nijo)', 'description': \"Originally a partner of the mind-altering assassin Black Swan, Nijo spied on Deadpool as part of the Swan's plan to exact revenge for Deadpool falsely taking credit for the Swan's assassination of the Four Winds crime family, which included Nijo's brother.\", 'modified': '1969-12-31T19:00:00-0500', 'thumbnail': {'path': 'http://i.annihil.us/u/prod/marvel/i/mg/b/40/image_not_available', 'extension': 'jpg'}, 'resourceURI': 'http://gateway.marvel.com/v1/public/characters/1011031', 'comics': {'available': 18, 'collectionURI': 'http://gateway.marvel.com/v1/public/characters/1011031/comics', 'items': [{'resourceURI': 'http://gateway.marvel.com/v1/public/comics/17702', 'name': 'Agent X (2002) #1'}, {'resourceURI': 'http://gateway.marvel.com/v1/public/comics/17709', 'name': 'Agent X (2002) #2'}, {'resourceURI': 'http://gateway.marvel.com/v1/public/comics/17710', 'name': 'Agent X (2002) #3'}, {'resourceURI': 'http://gateway.marvel.com/v1/public/comics/17711', 'name': 'Agent X (2002) #4'}, {'resourceURI': 'http://gateway.marvel.com/v1/public/comics/17712', 'name': 'Agent X (2002) #5'}, {'resourceURI': 'http://gateway.marvel.com/v1/public/comics/17713', 'name': 'Agent X (2002) #6'}, {'resourceURI': 'http://gateway.marvel.com/v1/public/comics/17714', 'name': 'Agent X (2002) #7'}, {'resourceURI': 'http://gateway.marvel.com/v1/public/comics/17715', 'name': 'Agent X (2002) #8'}, {'resourceURI': 'http://gateway.marvel.com/v1/public/comics/17716', 'name': 'Agent X (2002) #9'}, {'resourceURI': 'http://gateway.marvel.com/v1/public/comics/17703', 'name': 'Agent X (2002) #10'}, {'resourceURI': 'http://gateway.marvel.com/v1/public/comics/17704', 'name': 'Agent X (2002) #11'}, {'resourceURI': 'http://gateway.marvel.com/v1/public/comics/17705', 'name': 'Agent X (2002) #12'}, {'resourceURI': 'http://gateway.marvel.com/v1/public/comics/17706', 'name': 'Agent X (2002) #13'}, {'resourceURI': 'http://gateway.marvel.com/v1/public/comics/17707', 'name': 'Agent X (2002) #14'}, {'resourceURI': 'http://gateway.marvel.com/v1/public/comics/394', 'name': 'Agent X (2002) #15'}, {'resourceURI': 'http://gateway.marvel.com/v1/public/comics/1649', 'name': 'Cable & Deadpool (2004) #12'}, {'resourceURI': 'http://gateway.marvel.com/v1/public/comics/21845', 'name': 'Cable & Deadpool (2004) #46 (Zombie Variant)'}, {'resourceURI': 'http://gateway.marvel.com/v1/public/comics/5761', 'name': 'Cable & Deadpool Vol. 2: The Burnt Offering (Trade Paperback)'}], 'returned': 18}, 'series': {'available': 3, 'collectionURI': 'http://gateway.marvel.com/v1/public/characters/1011031/series', 'items': [{'resourceURI': 'http://gateway.marvel.com/v1/public/series/459', 'name': 'Agent X (2002 - 2004)'}, {'resourceURI': 'http://gateway.marvel.com/v1/public/series/693', 'name': 'Cable & Deadpool (2004 - 2008)'}, {'resourceURI': 'http://gateway.marvel.com/v1/public/series/1338', 'name': 'Cable & Deadpool Vol. 2: The Burnt Offering (2007)'}], 'returned': 3}, 'stories': {'available': 23, 'collectionURI': 'http://gateway.marvel.com/v1/public/characters/1011031/stories', 'items': [{'resourceURI': 'http://gateway.marvel.com/v1/public/stories/1135', 'name': 'AGENT X (2002) #15', 'type': 'cover'}, {'resourceURI': 'http://gateway.marvel.com/v1/public/stories/2484', 'name': 'CABLE & DEADPOOL (2004) #12', 'type': 'cover'}, {'resourceURI': 'http://gateway.marvel.com/v1/public/stories/37514', 'name': 'AGENT X (2002) #1', 'type': 'cover'}, {'resourceURI': 'http://gateway.marvel.com/v1/public/stories/37515', 'name': \"Dead Man's Switch Part One\", 'type': 'interiorStory'}, {'resourceURI': 'http://gateway.marvel.com/v1/public/stories/37516', 'name': 'AGENT X (2002) #10', 'type': 'cover'}, {'resourceURI': 'http://gateway.marvel.com/v1/public/stories/37518', 'name': 'AGENT X (2002) #11', 'type': 'cover'}, {'resourceURI': 'http://gateway.marvel.com/v1/public/stories/37521', 'name': 'AGENT X (2002) #13', 'type': 'cover'}, {'resourceURI': 'http://gateway.marvel.com/v1/public/stories/37523', 'name': 'AGENT X (2002) #14', 'type': 'cover'}, {'resourceURI': 'http://gateway.marvel.com/v1/public/stories/37525', 'name': 'AGENT X (2002) #2', 'type': 'cover'}, {'resourceURI': 'http://gateway.marvel.com/v1/public/stories/37526', 'name': \"Dead Man's Switch Part Two\", 'type': 'interiorStory'}, {'resourceURI': 'http://gateway.marvel.com/v1/public/stories/37527', 'name': 'AGENT X (2002) #3', 'type': 'cover'}, {'resourceURI': 'http://gateway.marvel.com/v1/public/stories/37528', 'name': \"Dead Man's Switch Part Three\", 'type': 'interiorStory'}, {'resourceURI': 'http://gateway.marvel.com/v1/public/stories/37529', 'name': 'AGENT X (2002) #4', 'type': 'cover'}, {'resourceURI': 'http://gateway.marvel.com/v1/public/stories/37530', 'name': \"Dead Man's Switch Part Four\", 'type': 'interiorStory'}, {'resourceURI': 'http://gateway.marvel.com/v1/public/stories/37531', 'name': 'AGENT X (2002) #5', 'type': 'cover'}, {'resourceURI': 'http://gateway.marvel.com/v1/public/stories/37532', 'name': \"Dead Man's Switch Part Five\", 'type': 'interiorStory'}, {'resourceURI': 'http://gateway.marvel.com/v1/public/stories/37533', 'name': 'AGENT X (2002) #6', 'type': 'cover'}, {'resourceURI': 'http://gateway.marvel.com/v1/public/stories/37534', 'name': \"Dead Man's Switch Part Six\", 'type': 'interiorStory'}, {'resourceURI': 'http://gateway.marvel.com/v1/public/stories/37535', 'name': 'AGENT X (2002) #7', 'type': 'cover'}, {'resourceURI': 'http://gateway.marvel.com/v1/public/stories/67703', 'name': 'AGENT X (2002) #12', 'type': 'cover'}], 'returned': 20}, 'events': {'available': 0, 'collectionURI': 'http://gateway.marvel.com/v1/public/characters/1011031/events', 'items': [], 'returned': 0}, 'urls': [{'type': 'detail', 'url': 'http://marvel.com/comics/characters/1011031/agent_x_nijo?utm_campaign=apiRef&utm_source=e2f3b83c35270fe9a4d95708f6e71dee'}, {'type': 'wiki', 'url': 'http://marvel.com/universe/Agent_X_(Nijo)?utm_campaign=apiRef&utm_source=e2f3b83c35270fe9a4d95708f6e71dee'}, {'type': 'comiclink', 'url': 'http://marvel.com/comics/characters/1011031/agent_x_nijo?utm_campaign=apiRef&utm_source=e2f3b83c35270fe9a4d95708f6e71dee'}]}, {'id': 1009150, 'name': 'Agent Zero', 'description': '', 'modified': '1969-12-31T19:00:00-0500', 'thumbnail': {'path': 'http://i.annihil.us/u/prod/marvel/i/mg/f/60/4c0042121d790', 'extension': 'jpg'}, 'resourceURI': 'http://gateway.marvel.com/v1/public/characters/1009150', 'comics': {'available': 27, 'collectionURI': 'http://gateway.marvel.com/v1/public/characters/1009150/comics', 'items': [{'resourceURI': 'http://gateway.marvel.com/v1/public/comics/18082', 'name': 'Weapon X (2002) #2'}, {'resourceURI': 'http://gateway.marvel.com/v1/public/comics/18092', 'name': 'Weapon X (2002) #3'}, {'resourceURI': 'http://gateway.marvel.com/v1/public/comics/18074', 'name': 'Weapon X (2002) #12'}, {'resourceURI': 'http://gateway.marvel.com/v1/public/comics/246', 'name': 'Weapon X (2002) #13'}, {'resourceURI': 'http://gateway.marvel.com/v1/public/comics/3357', 'name': 'Weapon X: Days of Future Now (Trade Paperback)'}, {'resourceURI': 'http://gateway.marvel.com/v1/public/comics/2204', 'name': 'Weapon X: Days of Future Now (2005) #1'}, {'resourceURI': 'http://gateway.marvel.com/v1/public/comics/2324', 'name': 'Weapon X: Days of Future Now (2005) #2'}, {'resourceURI': 'http://gateway.marvel.com/v1/public/comics/2438', 'name': 'Weapon X: Days of Future Now (2005) #3'}, {'resourceURI': 'http://gateway.marvel.com/v1/public/comics/2439', 'name': 'Weapon X: Days of Future Now (2005) #4'}, {'resourceURI': 'http://gateway.marvel.com/v1/public/comics/3016', 'name': 'Weapon X: Days of Future Now (2005) #5'}, {'resourceURI': 'http://gateway.marvel.com/v1/public/comics/14182', 'name': 'Wolverine (1988) #60'}, {'resourceURI': 'http://gateway.marvel.com/v1/public/comics/14183', 'name': 'Wolverine (1988) #61'}, {'resourceURI': 'http://gateway.marvel.com/v1/public/comics/14184', 'name': 'Wolverine (1988) #62'}, {'resourceURI': 'http://gateway.marvel.com/v1/public/comics/14185', 'name': 'Wolverine (1988) #63'}, {'resourceURI': 'http://gateway.marvel.com/v1/public/comics/14186', 'name': 'Wolverine (1988) #64'}, {'resourceURI': 'http://gateway.marvel.com/v1/public/comics/14189', 'name': 'Wolverine (1988) #67'}, {'resourceURI': 'http://gateway.marvel.com/v1/public/comics/14190', 'name': 'Wolverine (1988) #68'}, {'resourceURI': 'http://gateway.marvel.com/v1/public/comics/14211', 'name': 'Wolverine (1988) #87'}, {'resourceURI': 'http://gateway.marvel.com/v1/public/comics/14107', 'name': 'Wolverine (1988) #163'}, {'resourceURI': 'http://gateway.marvel.com/v1/public/comics/14110', 'name': 'Wolverine (1988) #166'}], 'returned': 20}, 'series': {'available': 8, 'collectionURI': 'http://gateway.marvel.com/v1/public/characters/1009150/series', 'items': [{'resourceURI': 'http://gateway.marvel.com/v1/public/series/543', 'name': 'Weapon X (2002 - 2004)'}, {'resourceURI': 'http://gateway.marvel.com/v1/public/series/1478', 'name': 'Weapon X: Days of Future Now (2006)'}, {'resourceURI': 'http://gateway.marvel.com/v1/public/series/869', 'name': 'Weapon X: Days of Future Now (2005)'}, {'resourceURI': 'http://gateway.marvel.com/v1/public/series/2262', 'name': 'Wolverine (1988 - 2003)'}, {'resourceURI': 'http://gateway.marvel.com/v1/public/series/84', 'name': 'Wolverine/Deadpool: Weapon X (1999)'}, {'resourceURI': 'http://gateway.marvel.com/v1/public/series/3643', 'name': 'X-Man (1995 - 2000)'}, {'resourceURI': 'http://gateway.marvel.com/v1/public/series/2265', 'name': 'X-Men (1991 - 2001)'}, {'resourceURI': 'http://gateway.marvel.com/v1/public/series/3637', 'name': 'X-Men Unlimited (1993 - 2003)'}], 'returned': 8}, 'stories': {'available': 29, 'collectionURI': 'http://gateway.marvel.com/v1/public/characters/1009150/stories', 'items': [{'resourceURI': 'http://gateway.marvel.com/v1/public/stories/1131', 'name': 'WEAPON X (2002) #13', 'type': 'cover'}, {'resourceURI': 'http://gateway.marvel.com/v1/public/stories/4602', 'name': '1 of 5 - 5XLS', 'type': 'cover'}, {'resourceURI': 'http://gateway.marvel.com/v1/public/stories/4604', 'name': '2 of 5 - 5XLS', 'type': 'cover'}, {'resourceURI': 'http://gateway.marvel.com/v1/public/stories/4606', 'name': '3 of 5 - 5XLS', 'type': 'cover'}, {'resourceURI': 'http://gateway.marvel.com/v1/public/stories/4608', 'name': '4 of 5 - 5XLS', 'type': 'cover'}, {'resourceURI': 'http://gateway.marvel.com/v1/public/stories/4610', 'name': '5 of 5 - 5XLS', 'type': 'cover'}, {'resourceURI': 'http://gateway.marvel.com/v1/public/stories/28706', 'name': 'The Hunted Part 2', 'type': 'interiorStory'}, {'resourceURI': 'http://gateway.marvel.com/v1/public/stories/28712', 'name': 'The Hunted Part 5', 'type': 'interiorStory'}, {'resourceURI': 'http://gateway.marvel.com/v1/public/stories/28738', 'name': 'The Logan Files Epilogue', 'type': 'interiorStory'}, {'resourceURI': 'http://gateway.marvel.com/v1/public/stories/28881', 'name': 'Counting Coup', 'type': 'interiorStory'}, {'resourceURI': 'http://gateway.marvel.com/v1/public/stories/28883', 'name': 'Nightmare Quest!', 'type': 'interiorStory'}, {'resourceURI': 'http://gateway.marvel.com/v1/public/stories/28885', 'name': 'Reunion!', 'type': 'interiorStory'}, {'resourceURI': 'http://gateway.marvel.com/v1/public/stories/28887', 'name': 'Bastions of Glory!', 'type': 'interiorStory'}, {'resourceURI': 'http://gateway.marvel.com/v1/public/stories/28889', 'name': 'What Goes Around...', 'type': 'interiorStory'}, {'resourceURI': 'http://gateway.marvel.com/v1/public/stories/28895', 'name': \"Valley O' Death\", 'type': 'interiorStory'}, {'resourceURI': 'http://gateway.marvel.com/v1/public/stories/28897', 'name': 'Epsilon Red', 'type': 'interiorStory'}, {'resourceURI': 'http://gateway.marvel.com/v1/public/stories/28941', 'name': 'Showdown In Lowtown', 'type': 'interiorStory'}, {'resourceURI': 'http://gateway.marvel.com/v1/public/stories/29125', 'name': 'Last Stand', 'type': 'interiorStory'}, {'resourceURI': 'http://gateway.marvel.com/v1/public/stories/29139', 'name': 'Over...Again', 'type': 'interiorStory'}, {'resourceURI': 'http://gateway.marvel.com/v1/public/stories/38511', 'name': 'Second Contact', 'type': 'interiorStory'}], 'returned': 20}, 'events': {'available': 0, 'collectionURI': 'http://gateway.marvel.com/v1/public/characters/1009150/events', 'items': [], 'returned': 0}, 'urls': [{'type': 'detail', 'url': 'http://marvel.com/comics/characters/1009150/agent_zero?utm_campaign=apiRef&utm_source=e2f3b83c35270fe9a4d95708f6e71dee'}, {'type': 'wiki', 'url': 'http://marvel.com/universe/Agent_Zero?utm_campaign=apiRef&utm_source=e2f3b83c35270fe9a4d95708f6e71dee'}, {'type': 'comiclink', 'url': 'http://marvel.com/comics/characters/1009150/agent_zero?utm_campaign=apiRef&utm_source=e2f3b83c35270fe9a4d95708f6e71dee'}]}, {'id': 1011198, 'name': 'Agents of Atlas', 'description': '', 'modified': '2010-11-17T14:36:25-0500', 'thumbnail': {'path': 'http://i.annihil.us/u/prod/marvel/i/mg/9/a0/4ce18a834b7f5', 'extension': 'jpg'}, 'resourceURI': 'http://gateway.marvel.com/v1/public/characters/1011198', 'comics': {'available': 41, 'collectionURI': 'http://gateway.marvel.com/v1/public/characters/1011198/comics', 'items': [{'resourceURI': 'http://gateway.marvel.com/v1/public/comics/77001', 'name': 'Agents of Atlas (2019) #1'}, {'resourceURI': 'http://gateway.marvel.com/v1/public/comics/23659', 'name': 'Agents of Atlas (2009) #1'}, {'resourceURI': 'http://gateway.marvel.com/v1/public/comics/4801', 'name': 'Agents of Atlas (2006) #1'}, {'resourceURI': 'http://gateway.marvel.com/v1/public/comics/23660', 'name': 'Agents of Atlas (2009) #1 (50/50 COVER)'}, {'resourceURI': 'http://gateway.marvel.com/v1/public/comics/5089', 'name': 'Agents of Atlas (2006) #2'}, {'resourceURI': 'http://gateway.marvel.com/v1/public/comics/23825', 'name': 'Agents of Atlas (2009) #2'}, {'resourceURI': 'http://gateway.marvel.com/v1/public/comics/27402', 'name': 'Agents of Atlas (2009) #2 (BACHALO 2ND PRINTING VARIANT)'}, {'resourceURI': 'http://gateway.marvel.com/v1/public/comics/23824', 'name': 'Agents of Atlas (2009) #2 (MCGUINNESS VARIANT)'}, {'resourceURI': 'http://gateway.marvel.com/v1/public/comics/24015', 'name': 'Agents of Atlas (2009) #3'}, {'resourceURI': 'http://gateway.marvel.com/v1/public/comics/5241', 'name': 'Agents of Atlas (2006) #3'}, {'resourceURI': 'http://gateway.marvel.com/v1/public/comics/24016', 'name': 'Agents of Atlas (2009) #3 (MCGUINNESS VARIANT)'}, {'resourceURI': 'http://gateway.marvel.com/v1/public/comics/24017', 'name': 'Agents of Atlas (2009) #3 (Wolverine Art Appreciation Variant)'}, {'resourceURI': 'http://gateway.marvel.com/v1/public/comics/5404', 'name': 'Agents of Atlas (2006) #4'}, {'resourceURI': 'http://gateway.marvel.com/v1/public/comics/24219', 'name': 'Agents of Atlas (2009) #4'}, {'resourceURI': 'http://gateway.marvel.com/v1/public/comics/5665', 'name': 'Agents of Atlas (2006) #5'}, {'resourceURI': 'http://gateway.marvel.com/v1/public/comics/24221', 'name': 'Agents of Atlas (2009) #5'}, {'resourceURI': 'http://gateway.marvel.com/v1/public/comics/24222', 'name': 'Agents of Atlas (2009) #5 (MCGUINNESS VARIANT)'}, {'resourceURI': 'http://gateway.marvel.com/v1/public/comics/5842', 'name': 'Agents of Atlas (2006) #6'}, {'resourceURI': 'http://gateway.marvel.com/v1/public/comics/24360', 'name': 'Agents of Atlas (2009) #6'}, {'resourceURI': 'http://gateway.marvel.com/v1/public/comics/24361', 'name': 'Agents of Atlas (2009) #7'}], 'returned': 20}, 'series': {'available': 11, 'collectionURI': 'http://gateway.marvel.com/v1/public/characters/1011198/series', 'items': [{'resourceURI': 'http://gateway.marvel.com/v1/public/series/1097', 'name': 'Agents of Atlas (2006 - 2007)'}, {'resourceURI': 'http://gateway.marvel.com/v1/public/series/6807', 'name': 'Agents of Atlas (2009)'}, {'resourceURI': 'http://gateway.marvel.com/v1/public/series/27624', 'name': 'Agents of Atlas (2019)'}, {'resourceURI': 'http://gateway.marvel.com/v1/public/series/1980', 'name': 'AGENTS OF ATLAS PREMIERE HC (2007)'}, {'resourceURI': 'http://gateway.marvel.com/v1/public/series/24134', 'name': 'Agents of Atlas: The Complete Collection Vol. 1 (2018)'}, {'resourceURI': 'http://gateway.marvel.com/v1/public/series/9782', 'name': 'Atlas (2010)'}, {'resourceURI': 'http://gateway.marvel.com/v1/public/series/9181', 'name': 'Avengers Vs. Atlas (2010)'}, {'resourceURI': 'http://gateway.marvel.com/v1/public/series/6415', 'name': 'Dark Reign: New Nation (2008)'}, {'resourceURI': 'http://gateway.marvel.com/v1/public/series/27505', 'name': 'War of the Realms: New Agents of Atlas (2019)'}, {'resourceURI': 'http://gateway.marvel.com/v1/public/series/27374', 'name': 'War Of The Realms: New Agents Of Atlas (2019)'}, {'resourceURI': 'http://gateway.marvel.com/v1/public/series/22365', 'name': 'Wolverine: Prehistory (2017)'}], 'returned': 11}, 'stories': {'available': 48, 'collectionURI': 'http://gateway.marvel.com/v1/public/characters/1011198/stories', 'items': [{'resourceURI': 'http://gateway.marvel.com/v1/public/stories/6008', 'name': '1 of 6 - 6 XLS-', 'type': 'cover'}, {'resourceURI': 'http://gateway.marvel.com/v1/public/stories/6009', 'name': '1 of 6 - 6 XLS-', 'type': 'interiorStory'}, {'resourceURI': 'http://gateway.marvel.com/v1/public/stories/6010', 'name': '2 of 6 - 6 XLS -', 'type': 'cover'}, {'resourceURI': 'http://gateway.marvel.com/v1/public/stories/6011', 'name': '2 of 6 - 6 XLS -', 'type': 'interiorStory'}, {'resourceURI': 'http://gateway.marvel.com/v1/public/stories/6012', 'name': '3 of 6 - 6 XLS -', 'type': 'cover'}, {'resourceURI': 'http://gateway.marvel.com/v1/public/stories/6013', 'name': '3 of 6 - 6 XLS -', 'type': 'interiorStory'}, {'resourceURI': 'http://gateway.marvel.com/v1/public/stories/6014', 'name': '4 of 6 - 6 XLS -', 'type': 'cover'}, {'resourceURI': 'http://gateway.marvel.com/v1/public/stories/6015', 'name': '4 of 6 - 6 XLS -', 'type': 'interiorStory'}, {'resourceURI': 'http://gateway.marvel.com/v1/public/stories/6016', 'name': '5 of 6 - 6 XLS -', 'type': 'cover'}, {'resourceURI': 'http://gateway.marvel.com/v1/public/stories/6017', 'name': '5 of 6 - 6 XLS -', 'type': 'interiorStory'}, {'resourceURI': 'http://gateway.marvel.com/v1/public/stories/6018', 'name': '5 of 6 - Story A - 6XLS', 'type': 'cover'}, {'resourceURI': 'http://gateway.marvel.com/v1/public/stories/6019', 'name': '5 of 6 - Story A - 6XLS', 'type': 'interiorStory'}, {'resourceURI': 'http://gateway.marvel.com/v1/public/stories/51050', 'name': '1 of 1', 'type': 'cover'}, {'resourceURI': 'http://gateway.marvel.com/v1/public/stories/52393', 'name': '1 of 3', 'type': 'interiorStory'}, {'resourceURI': 'http://gateway.marvel.com/v1/public/stories/52395', 'name': '1 of 3', 'type': 'interiorStory'}, {'resourceURI': 'http://gateway.marvel.com/v1/public/stories/52861', 'name': '2 of 3', 'type': 'interiorStory'}, {'resourceURI': 'http://gateway.marvel.com/v1/public/stories/52863', 'name': '2 of 3', 'type': 'interiorStory'}, {'resourceURI': 'http://gateway.marvel.com/v1/public/stories/53263', 'name': '3 of 3', 'type': 'interiorStory'}, {'resourceURI': 'http://gateway.marvel.com/v1/public/stories/53265', 'name': '3 of 3', 'type': 'interiorStory'}, {'resourceURI': 'http://gateway.marvel.com/v1/public/stories/53266', 'name': '3 of 3', 'type': 'interiorStory'}], 'returned': 20}, 'events': {'available': 1, 'collectionURI': 'http://gateway.marvel.com/v1/public/characters/1011198/events', 'items': [{'resourceURI': 'http://gateway.marvel.com/v1/public/events/318', 'name': 'Dark Reign'}], 'returned': 1}, 'urls': [{'type': 'detail', 'url': 'http://marvel.com/comics/characters/1011198/agents_of_atlas?utm_campaign=apiRef&utm_source=e2f3b83c35270fe9a4d95708f6e71dee'}, {'type': 'wiki', 'url': 'http://marvel.com/universe/Agents_of_Atlas?utm_campaign=apiRef&utm_source=e2f3b83c35270fe9a4d95708f6e71dee'}, {'type': 'comiclink', 'url': 'http://marvel.com/comics/characters/1011198/agents_of_atlas?utm_campaign=apiRef&utm_source=e2f3b83c35270fe9a4d95708f6e71dee'}]}, {'id': 1011175, 'name': 'Aginar', 'description': '', 'modified': '1969-12-31T19:00:00-0500', 'thumbnail': {'path': 'http://i.annihil.us/u/prod/marvel/i/mg/b/40/image_not_available', 'extension': 'jpg'}, 'resourceURI': 'http://gateway.marvel.com/v1/public/characters/1011175', 'comics': {'available': 0, 'collectionURI': 'http://gateway.marvel.com/v1/public/characters/1011175/comics', 'items': [], 'returned': 0}, 'series': {'available': 0, 'collectionURI': 'http://gateway.marvel.com/v1/public/characters/1011175/series', 'items': [], 'returned': 0}, 'stories': {'available': 0, 'collectionURI': 'http://gateway.marvel.com/v1/public/characters/1011175/stories', 'items': [], 'returned': 0}, 'events': {'available': 0, 'collectionURI': 'http://gateway.marvel.com/v1/public/characters/1011175/events', 'items': [], 'returned': 0}, 'urls': [{'type': 'detail', 'url': 'http://marvel.com/characters/105/aginar?utm_campaign=apiRef&utm_source=e2f3b83c35270fe9a4d95708f6e71dee'}, {'type': 'wiki', 'url': 'http://marvel.com/universe/Aginar?utm_campaign=apiRef&utm_source=e2f3b83c35270fe9a4d95708f6e71dee'}, {'type': 'comiclink', 'url': 'http://marvel.com/comics/characters/1011175/aginar?utm_campaign=apiRef&utm_source=e2f3b83c35270fe9a4d95708f6e71dee'}]}, {'id': 1011136, 'name': 'Air-Walker (Gabriel Lan)', 'description': '', 'modified': '1969-12-31T19:00:00-0500', 'thumbnail': {'path': 'http://i.annihil.us/u/prod/marvel/i/mg/b/40/image_not_available', 'extension': 'jpg'}, 'resourceURI': 'http://gateway.marvel.com/v1/public/characters/1011136', 'comics': {'available': 4, 'collectionURI': 'http://gateway.marvel.com/v1/public/characters/1011136/comics', 'items': [{'resourceURI': 'http://gateway.marvel.com/v1/public/comics/4108', 'name': 'Annihilation: Silver Surfer (2006) #1'}, {'resourceURI': 'http://gateway.marvel.com/v1/public/comics/5589', 'name': 'Heroes Reborn: Iron Man (Trade Paperback)'}, {'resourceURI': 'http://gateway.marvel.com/v1/public/comics/16330', 'name': 'Iron Man (1996) #11'}, {'resourceURI': 'http://gateway.marvel.com/v1/public/comics/16331', 'name': 'Iron Man (1996) #12'}], 'returned': 4}, 'series': {'available': 3, 'collectionURI': 'http://gateway.marvel.com/v1/public/characters/1011136/series', 'items': [{'resourceURI': 'http://gateway.marvel.com/v1/public/series/1078', 'name': 'Annihilation: Silver Surfer (2006)'}, {'resourceURI': 'http://gateway.marvel.com/v1/public/series/1814', 'name': 'Heroes Reborn: Iron Man (2006)'}, {'resourceURI': 'http://gateway.marvel.com/v1/public/series/13577', 'name': 'Iron Man (1996 - 1998)'}], 'returned': 3}, 'stories': {'available': 3, 'collectionURI': 'http://gateway.marvel.com/v1/public/characters/1011136/stories', 'items': [{'resourceURI': 'http://gateway.marvel.com/v1/public/stories/5925', 'name': 'Annihilation: Silver Surfer (2006) #1', 'type': 'cover'}, {'resourceURI': 'http://gateway.marvel.com/v1/public/stories/34082', 'name': 'Magical Mystery Tour', 'type': 'interiorStory'}, {'resourceURI': 'http://gateway.marvel.com/v1/public/stories/34085', 'name': 'Matters of the Heart', 'type': 'interiorStory'}], 'returned': 3}, 'events': {'available': 1, 'collectionURI': 'http://gateway.marvel.com/v1/public/characters/1011136/events', 'items': [{'resourceURI': 'http://gateway.marvel.com/v1/public/events/229', 'name': 'Annihilation'}], 'returned': 1}, 'urls': [{'type': 'detail', 'url': 'http://marvel.com/comics/characters/1011136/air-walker_gabriel_lan?utm_campaign=apiRef&utm_source=e2f3b83c35270fe9a4d95708f6e71dee'}, {'type': 'wiki', 'url': 'http://marvel.com/universe/Air-Walker_(Gabriel_Lan)?utm_campaign=apiRef&utm_source=e2f3b83c35270fe9a4d95708f6e71dee'}, {'type': 'comiclink', 'url': 'http://marvel.com/comics/characters/1011136/air-walker_gabriel_lan?utm_campaign=apiRef&utm_source=e2f3b83c35270fe9a4d95708f6e71dee'}]}, {'id': 1011176, 'name': 'Ajak', 'description': '', 'modified': '1969-12-31T19:00:00-0500', 'thumbnail': {'path': 'http://i.annihil.us/u/prod/marvel/i/mg/2/80/4c002f35c5215', 'extension': 'jpg'}, 'resourceURI': 'http://gateway.marvel.com/v1/public/characters/1011176', 'comics': {'available': 4, 'collectionURI': 'http://gateway.marvel.com/v1/public/characters/1011176/comics', 'items': [{'resourceURI': 'http://gateway.marvel.com/v1/public/comics/21175', 'name': 'Incredible Hercules (2008) #117'}, {'resourceURI': 'http://gateway.marvel.com/v1/public/comics/21324', 'name': 'Incredible Hercules (2008) #118'}, {'resourceURI': 'http://gateway.marvel.com/v1/public/comics/21505', 'name': 'Incredible Hercules (2008) #119'}, {'resourceURI': 'http://gateway.marvel.com/v1/public/comics/21707', 'name': 'Incredible Hercules (2008) #120'}], 'returned': 4}, 'series': {'available': 1, 'collectionURI': 'http://gateway.marvel.com/v1/public/characters/1011176/series', 'items': [{'resourceURI': 'http://gateway.marvel.com/v1/public/series/3762', 'name': 'Incredible Hercules (2008 - 2010)'}], 'returned': 1}, 'stories': {'available': 8, 'collectionURI': 'http://gateway.marvel.com/v1/public/characters/1011176/stories', 'items': [{'resourceURI': 'http://gateway.marvel.com/v1/public/stories/46776', 'name': 'Incredible Hercules (2008) #117', 'type': 'cover'}, {'resourceURI': 'http://gateway.marvel.com/v1/public/stories/46777', 'name': 'Interior #46777', 'type': 'interiorStory'}, {'resourceURI': 'http://gateway.marvel.com/v1/public/stories/47097', 'name': 'Incredible Hercules (2008) #118', 'type': 'cover'}, {'resourceURI': 'http://gateway.marvel.com/v1/public/stories/47098', 'name': 'Interior #47098', 'type': 'interiorStory'}, {'resourceURI': 'http://gateway.marvel.com/v1/public/stories/47415', 'name': 'Incredible Hercules (2008) #119', 'type': 'cover'}, {'resourceURI': 'http://gateway.marvel.com/v1/public/stories/47416', 'name': '3 of 4 - Secret Invasion', 'type': 'interiorStory'}, {'resourceURI': 'http://gateway.marvel.com/v1/public/stories/47721', 'name': 'Incredible Hercules (2008) #120', 'type': 'cover'}, {'resourceURI': 'http://gateway.marvel.com/v1/public/stories/47722', 'name': '4 of 4 - Secret Invasion', 'type': 'interiorStory'}], 'returned': 8}, 'events': {'available': 1, 'collectionURI': 'http://gateway.marvel.com/v1/public/characters/1011176/events', 'items': [{'resourceURI': 'http://gateway.marvel.com/v1/public/events/269', 'name': 'Secret Invasion'}], 'returned': 1}, 'urls': [{'type': 'detail', 'url': 'http://marvel.com/comics/characters/1011176/ajak?utm_campaign=apiRef&utm_source=e2f3b83c35270fe9a4d95708f6e71dee'}, {'type': 'wiki', 'url': 'http://marvel.com/universe/Ajak?utm_campaign=apiRef&utm_source=e2f3b83c35270fe9a4d95708f6e71dee'}, {'type': 'comiclink', 'url': 'http://marvel.com/comics/characters/1011176/ajak?utm_campaign=apiRef&utm_source=e2f3b83c35270fe9a4d95708f6e71dee'}]}, {'id': 1010870, 'name': 'Ajaxis', 'description': '', 'modified': '1969-12-31T19:00:00-0500', 'thumbnail': {'path': 'http://i.annihil.us/u/prod/marvel/i/mg/b/70/4c0035adc7d3a', 'extension': 'jpg'}, 'resourceURI': 'http://gateway.marvel.com/v1/public/characters/1010870', 'comics': {'available': 0, 'collectionURI': 'http://gateway.marvel.com/v1/public/characters/1010870/comics', 'items': [], 'returned': 0}, 'series': {'available': 0, 'collectionURI': 'http://gateway.marvel.com/v1/public/characters/1010870/series', 'items': [], 'returned': 0}, 'stories': {'available': 0, 'collectionURI': 'http://gateway.marvel.com/v1/public/characters/1010870/stories', 'items': [], 'returned': 0}, 'events': {'available': 0, 'collectionURI': 'http://gateway.marvel.com/v1/public/characters/1010870/events', 'items': [], 'returned': 0}, 'urls': [{'type': 'detail', 'url': 'http://marvel.com/characters/113/ajaxis?utm_campaign=apiRef&utm_source=e2f3b83c35270fe9a4d95708f6e71dee'}, {'type': 'wiki', 'url': 'http://marvel.com/universe/Ajaxis?utm_campaign=apiRef&utm_source=e2f3b83c35270fe9a4d95708f6e71dee'}, {'type': 'comiclink', 'url': 'http://marvel.com/comics/characters/1010870/ajaxis?utm_campaign=apiRef&utm_source=e2f3b83c35270fe9a4d95708f6e71dee'}]}]}}\n"
     ]
    }
   ],
   "source": [
    "data = {'code': 200, 'status': 'Ok', 'copyright': '© 2019 MARVEL', 'attributionText': 'Data provided by Marvel. © 2019 MARVEL', 'attributionHTML': '<a href=\"http://marvel.com\">Data provided by Marvel. © 2019 MARVEL</a>', 'etag': 'de3a9d337f08bd90ae6585d8520adc1c02ce1f6c', 'data': {'offset': 0, 'limit': 20, 'total': 1493, 'count': 20, 'results': [{'id': 1011334, 'name': '3-D Man', 'description': '', 'modified': '2014-04-29T14:18:17-0400', 'thumbnail': {'path': 'http://i.annihil.us/u/prod/marvel/i/mg/c/e0/535fecbbb9784', 'extension': 'jpg'}, 'resourceURI': 'http://gateway.marvel.com/v1/public/characters/1011334', 'comics': {'available': 12, 'collectionURI': 'http://gateway.marvel.com/v1/public/characters/1011334/comics', 'items': [{'resourceURI': 'http://gateway.marvel.com/v1/public/comics/21366', 'name': 'Avengers: The Initiative (2007) #14'}, {'resourceURI': 'http://gateway.marvel.com/v1/public/comics/24571', 'name': 'Avengers: The Initiative (2007) #14 (SPOTLIGHT VARIANT)'}, {'resourceURI': 'http://gateway.marvel.com/v1/public/comics/21546', 'name': 'Avengers: The Initiative (2007) #15'}, {'resourceURI': 'http://gateway.marvel.com/v1/public/comics/21741', 'name': 'Avengers: The Initiative (2007) #16'}, {'resourceURI': 'http://gateway.marvel.com/v1/public/comics/21975', 'name': 'Avengers: The Initiative (2007) #17'}, {'resourceURI': 'http://gateway.marvel.com/v1/public/comics/22299', 'name': 'Avengers: The Initiative (2007) #18'}, {'resourceURI': 'http://gateway.marvel.com/v1/public/comics/22300', 'name': 'Avengers: The Initiative (2007) #18 (ZOMBIE VARIANT)'}, {'resourceURI': 'http://gateway.marvel.com/v1/public/comics/22506', 'name': 'Avengers: The Initiative (2007) #19'}, {'resourceURI': 'http://gateway.marvel.com/v1/public/comics/8500', 'name': 'Deadpool (1997) #44'}, {'resourceURI': 'http://gateway.marvel.com/v1/public/comics/10223', 'name': 'Marvel Premiere (1972) #35'}, {'resourceURI': 'http://gateway.marvel.com/v1/public/comics/10224', 'name': 'Marvel Premiere (1972) #36'}, {'resourceURI': 'http://gateway.marvel.com/v1/public/comics/10225', 'name': 'Marvel Premiere (1972) #37'}], 'returned': 12}, 'series': {'available': 3, 'collectionURI': 'http://gateway.marvel.com/v1/public/characters/1011334/series', 'items': [{'resourceURI': 'http://gateway.marvel.com/v1/public/series/1945', 'name': 'Avengers: The Initiative (2007 - 2010)'}, {'resourceURI': 'http://gateway.marvel.com/v1/public/series/2005', 'name': 'Deadpool (1997 - 2002)'}, {'resourceURI': 'http://gateway.marvel.com/v1/public/series/2045', 'name': 'Marvel Premiere (1972 - 1981)'}], 'returned': 3}, 'stories': {'available': 21, 'collectionURI': 'http://gateway.marvel.com/v1/public/characters/1011334/stories', 'items': [{'resourceURI': 'http://gateway.marvel.com/v1/public/stories/19947', 'name': 'Cover #19947', 'type': 'cover'}, {'resourceURI': 'http://gateway.marvel.com/v1/public/stories/19948', 'name': 'The 3-D Man!', 'type': 'interiorStory'}, {'resourceURI': 'http://gateway.marvel.com/v1/public/stories/19949', 'name': 'Cover #19949', 'type': 'cover'}, {'resourceURI': 'http://gateway.marvel.com/v1/public/stories/19950', 'name': \"The Devil's Music!\", 'type': 'interiorStory'}, {'resourceURI': 'http://gateway.marvel.com/v1/public/stories/19951', 'name': 'Cover #19951', 'type': 'cover'}, {'resourceURI': 'http://gateway.marvel.com/v1/public/stories/19952', 'name': 'Code-Name:  The Cold Warrior!', 'type': 'interiorStory'}, {'resourceURI': 'http://gateway.marvel.com/v1/public/stories/47184', 'name': 'AVENGERS: THE INITIATIVE (2007) #14', 'type': 'cover'}, {'resourceURI': 'http://gateway.marvel.com/v1/public/stories/47185', 'name': 'Avengers: The Initiative (2007) #14 - Int', 'type': 'interiorStory'}, {'resourceURI': 'http://gateway.marvel.com/v1/public/stories/47498', 'name': 'AVENGERS: THE INITIATIVE (2007) #15', 'type': 'cover'}, {'resourceURI': 'http://gateway.marvel.com/v1/public/stories/47499', 'name': 'Avengers: The Initiative (2007) #15 - Int', 'type': 'interiorStory'}, {'resourceURI': 'http://gateway.marvel.com/v1/public/stories/47792', 'name': 'AVENGERS: THE INITIATIVE (2007) #16', 'type': 'cover'}, {'resourceURI': 'http://gateway.marvel.com/v1/public/stories/47793', 'name': 'Avengers: The Initiative (2007) #16 - Int', 'type': 'interiorStory'}, {'resourceURI': 'http://gateway.marvel.com/v1/public/stories/48361', 'name': 'AVENGERS: THE INITIATIVE (2007) #17', 'type': 'cover'}, {'resourceURI': 'http://gateway.marvel.com/v1/public/stories/48362', 'name': 'Avengers: The Initiative (2007) #17 - Int', 'type': 'interiorStory'}, {'resourceURI': 'http://gateway.marvel.com/v1/public/stories/49103', 'name': 'AVENGERS: THE INITIATIVE (2007) #18', 'type': 'cover'}, {'resourceURI': 'http://gateway.marvel.com/v1/public/stories/49104', 'name': 'Avengers: The Initiative (2007) #18 - Int', 'type': 'interiorStory'}, {'resourceURI': 'http://gateway.marvel.com/v1/public/stories/49106', 'name': 'Avengers: The Initiative (2007) #18, Zombie Variant - Int', 'type': 'interiorStory'}, {'resourceURI': 'http://gateway.marvel.com/v1/public/stories/49888', 'name': 'AVENGERS: THE INITIATIVE (2007) #19', 'type': 'cover'}, {'resourceURI': 'http://gateway.marvel.com/v1/public/stories/49889', 'name': 'Avengers: The Initiative (2007) #19 - Int', 'type': 'interiorStory'}, {'resourceURI': 'http://gateway.marvel.com/v1/public/stories/54371', 'name': 'Avengers: The Initiative (2007) #14, Spotlight Variant - Int', 'type': 'interiorStory'}], 'returned': 20}, 'events': {'available': 1, 'collectionURI': 'http://gateway.marvel.com/v1/public/characters/1011334/events', 'items': [{'resourceURI': 'http://gateway.marvel.com/v1/public/events/269', 'name': 'Secret Invasion'}], 'returned': 1}, 'urls': [{'type': 'detail', 'url': 'http://marvel.com/comics/characters/1011334/3-d_man?utm_campaign=apiRef&utm_source=e2f3b83c35270fe9a4d95708f6e71dee'}, {'type': 'wiki', 'url': 'http://marvel.com/universe/3-D_Man_(Chandler)?utm_campaign=apiRef&utm_source=e2f3b83c35270fe9a4d95708f6e71dee'}, {'type': 'comiclink', 'url': 'http://marvel.com/comics/characters/1011334/3-d_man?utm_campaign=apiRef&utm_source=e2f3b83c35270fe9a4d95708f6e71dee'}]}, {'id': 1017100, 'name': 'A-Bomb (HAS)', 'description': \"Rick Jones has been Hulk's best bud since day one, but now he's more than a friend...he's a teammate! Transformed by a Gamma energy explosion, A-Bomb's thick, armored skin is just as strong and powerful as it is blue. And when he curls into action, he uses it like a giant bowling ball of destruction! \", 'modified': '2013-09-18T15:54:04-0400', 'thumbnail': {'path': 'http://i.annihil.us/u/prod/marvel/i/mg/3/20/5232158de5b16', 'extension': 'jpg'}, 'resourceURI': 'http://gateway.marvel.com/v1/public/characters/1017100', 'comics': {'available': 3, 'collectionURI': 'http://gateway.marvel.com/v1/public/characters/1017100/comics', 'items': [{'resourceURI': 'http://gateway.marvel.com/v1/public/comics/40632', 'name': 'Hulk (2008) #53'}, {'resourceURI': 'http://gateway.marvel.com/v1/public/comics/40630', 'name': 'Hulk (2008) #54'}, {'resourceURI': 'http://gateway.marvel.com/v1/public/comics/40628', 'name': 'Hulk (2008) #55'}], 'returned': 3}, 'series': {'available': 2, 'collectionURI': 'http://gateway.marvel.com/v1/public/characters/1017100/series', 'items': [{'resourceURI': 'http://gateway.marvel.com/v1/public/series/17765', 'name': 'FREE COMIC BOOK DAY 2013 1 (2013)'}, {'resourceURI': 'http://gateway.marvel.com/v1/public/series/3374', 'name': 'Hulk (2008 - 2012)'}], 'returned': 2}, 'stories': {'available': 7, 'collectionURI': 'http://gateway.marvel.com/v1/public/characters/1017100/stories', 'items': [{'resourceURI': 'http://gateway.marvel.com/v1/public/stories/92078', 'name': 'Hulk (2008) #55', 'type': 'cover'}, {'resourceURI': 'http://gateway.marvel.com/v1/public/stories/92079', 'name': 'Interior #92079', 'type': 'interiorStory'}, {'resourceURI': 'http://gateway.marvel.com/v1/public/stories/92082', 'name': 'Hulk (2008) #54', 'type': 'cover'}, {'resourceURI': 'http://gateway.marvel.com/v1/public/stories/92083', 'name': 'Interior #92083', 'type': 'interiorStory'}, {'resourceURI': 'http://gateway.marvel.com/v1/public/stories/92086', 'name': 'Hulk (2008) #53', 'type': 'cover'}, {'resourceURI': 'http://gateway.marvel.com/v1/public/stories/92087', 'name': 'Interior #92087', 'type': 'interiorStory'}, {'resourceURI': 'http://gateway.marvel.com/v1/public/stories/105929', 'name': 'cover from Free Comic Book Day 2013 (Avengers/Hulk) (2013) #1', 'type': 'cover'}], 'returned': 7}, 'events': {'available': 0, 'collectionURI': 'http://gateway.marvel.com/v1/public/characters/1017100/events', 'items': [], 'returned': 0}, 'urls': [{'type': 'detail', 'url': 'http://marvel.com/comics/characters/1017100/a-bomb_has?utm_campaign=apiRef&utm_source=e2f3b83c35270fe9a4d95708f6e71dee'}, {'type': 'comiclink', 'url': 'http://marvel.com/comics/characters/1017100/a-bomb_has?utm_campaign=apiRef&utm_source=e2f3b83c35270fe9a4d95708f6e71dee'}]}, {'id': 1009144, 'name': 'A.I.M.', 'description': 'AIM is a terrorist organization bent on destroying the world.', 'modified': '2013-10-17T14:41:30-0400', 'thumbnail': {'path': 'http://i.annihil.us/u/prod/marvel/i/mg/6/20/52602f21f29ec', 'extension': 'jpg'}, 'resourceURI': 'http://gateway.marvel.com/v1/public/characters/1009144', 'comics': {'available': 49, 'collectionURI': 'http://gateway.marvel.com/v1/public/characters/1009144/comics', 'items': [{'resourceURI': 'http://gateway.marvel.com/v1/public/comics/36763', 'name': 'Ant-Man & the Wasp (2010) #3'}, {'resourceURI': 'http://gateway.marvel.com/v1/public/comics/17553', 'name': 'Avengers (1998) #67'}, {'resourceURI': 'http://gateway.marvel.com/v1/public/comics/7340', 'name': 'Avengers (1963) #87'}, {'resourceURI': 'http://gateway.marvel.com/v1/public/comics/4214', 'name': 'Avengers and Power Pack Assemble! (2006) #2'}, {'resourceURI': 'http://gateway.marvel.com/v1/public/comics/63217', 'name': 'Avengers and Power Pack (2017) #3'}, {'resourceURI': 'http://gateway.marvel.com/v1/public/comics/63218', 'name': 'Avengers and Power Pack (2017) #4'}, {'resourceURI': 'http://gateway.marvel.com/v1/public/comics/63219', 'name': 'Avengers and Power Pack (2017) #5'}, {'resourceURI': 'http://gateway.marvel.com/v1/public/comics/63220', 'name': 'Avengers and Power Pack (2017) #6'}, {'resourceURI': 'http://gateway.marvel.com/v1/public/comics/64790', 'name': 'Avengers by Brian Michael Bendis: The Complete Collection Vol. 2 (Trade Paperback)'}, {'resourceURI': 'http://gateway.marvel.com/v1/public/comics/1170', 'name': 'Avengers Vol. 2: Red Zone (Trade Paperback)'}, {'resourceURI': 'http://gateway.marvel.com/v1/public/comics/1214', 'name': 'Avengers Vol. II: Red Zone (Trade Paperback)'}, {'resourceURI': 'http://gateway.marvel.com/v1/public/comics/12787', 'name': 'Captain America (1998) #28'}, {'resourceURI': 'http://gateway.marvel.com/v1/public/comics/7513', 'name': 'Captain America (1968) #132'}, {'resourceURI': 'http://gateway.marvel.com/v1/public/comics/7514', 'name': 'Captain America (1968) #133'}, {'resourceURI': 'http://gateway.marvel.com/v1/public/comics/65466', 'name': 'Captain America by Mark Waid, Ron Garney & Andy Kubert (Hardcover)'}, {'resourceURI': 'http://gateway.marvel.com/v1/public/comics/20367', 'name': 'Defenders (1972) #57'}, {'resourceURI': 'http://gateway.marvel.com/v1/public/comics/31068', 'name': 'Incredible Hulks (2010) #606 (VARIANT)'}, {'resourceURI': 'http://gateway.marvel.com/v1/public/comics/46168', 'name': 'Indestructible Hulk (2012) #3'}, {'resourceURI': 'http://gateway.marvel.com/v1/public/comics/43944', 'name': 'Iron Man (2012) #1'}, {'resourceURI': 'http://gateway.marvel.com/v1/public/comics/9544', 'name': 'Iron Man (1968) #295'}], 'returned': 20}, 'series': {'available': 33, 'collectionURI': 'http://gateway.marvel.com/v1/public/characters/1009144/series', 'items': [{'resourceURI': 'http://gateway.marvel.com/v1/public/series/13082', 'name': 'Ant-Man & the Wasp (2010 - 2011)'}, {'resourceURI': 'http://gateway.marvel.com/v1/public/series/354', 'name': 'Avengers (1998 - 2004)'}, {'resourceURI': 'http://gateway.marvel.com/v1/public/series/1991', 'name': 'Avengers (1963 - 1996)'}, {'resourceURI': 'http://gateway.marvel.com/v1/public/series/23123', 'name': 'Avengers and Power Pack (2017)'}, {'resourceURI': 'http://gateway.marvel.com/v1/public/series/1046', 'name': 'Avengers and Power Pack Assemble! (2006)'}, {'resourceURI': 'http://gateway.marvel.com/v1/public/series/23600', 'name': 'Avengers by Brian Michael Bendis: The Complete Collection Vol. 2 (2017)'}, {'resourceURI': 'http://gateway.marvel.com/v1/public/series/227', 'name': 'Avengers Vol. 2: Red Zone (2003)'}, {'resourceURI': 'http://gateway.marvel.com/v1/public/series/271', 'name': 'Avengers Vol. II: Red Zone (2003)'}, {'resourceURI': 'http://gateway.marvel.com/v1/public/series/1997', 'name': 'Captain America (1998 - 2002)'}, {'resourceURI': 'http://gateway.marvel.com/v1/public/series/1996', 'name': 'Captain America (1968 - 1996)'}, {'resourceURI': 'http://gateway.marvel.com/v1/public/series/23810', 'name': 'Captain America by Mark Waid, Ron Garney & Andy Kubert (2017)'}, {'resourceURI': 'http://gateway.marvel.com/v1/public/series/3743', 'name': 'Defenders (1972 - 1986)'}, {'resourceURI': 'http://gateway.marvel.com/v1/public/series/8842', 'name': 'Incredible Hulks (2010 - 2011)'}, {'resourceURI': 'http://gateway.marvel.com/v1/public/series/16583', 'name': 'Indestructible Hulk (2012 - 2014)'}, {'resourceURI': 'http://gateway.marvel.com/v1/public/series/2029', 'name': 'Iron Man (1968 - 1996)'}, {'resourceURI': 'http://gateway.marvel.com/v1/public/series/16593', 'name': 'Iron Man (2012 - 2014)'}, {'resourceURI': 'http://gateway.marvel.com/v1/public/series/23915', 'name': 'Iron Man Epic Collection: Doom (2018)'}, {'resourceURI': 'http://gateway.marvel.com/v1/public/series/9718', 'name': 'Marvel Adventures Super Heroes (2010 - 2012)'}, {'resourceURI': 'http://gateway.marvel.com/v1/public/series/1506', 'name': 'Marvel Masterworks: Captain America Vol. (2005)'}, {'resourceURI': 'http://gateway.marvel.com/v1/public/series/189', 'name': 'Marvel Masterworks: Captain America Vol. 1 - 2nd Edition (2003)'}], 'returned': 20}, 'stories': {'available': 52, 'collectionURI': 'http://gateway.marvel.com/v1/public/characters/1009144/stories', 'items': [{'resourceURI': 'http://gateway.marvel.com/v1/public/stories/5800', 'name': 'Avengers and Power Pack Assemble! (2006) #2', 'type': 'cover'}, {'resourceURI': 'http://gateway.marvel.com/v1/public/stories/5801', 'name': '2 of 4 - 4XLS', 'type': 'interiorStory'}, {'resourceURI': 'http://gateway.marvel.com/v1/public/stories/10253', 'name': 'When the Unliving Strike', 'type': 'interiorStory'}, {'resourceURI': 'http://gateway.marvel.com/v1/public/stories/10255', 'name': 'Cover #10255', 'type': 'cover'}, {'resourceURI': 'http://gateway.marvel.com/v1/public/stories/10256', 'name': 'The Enemy Within!', 'type': 'interiorStory'}, {'resourceURI': 'http://gateway.marvel.com/v1/public/stories/10259', 'name': 'Death Before Dishonor!', 'type': 'interiorStory'}, {'resourceURI': 'http://gateway.marvel.com/v1/public/stories/10261', 'name': 'Cover #10261', 'type': 'cover'}, {'resourceURI': 'http://gateway.marvel.com/v1/public/stories/10262', 'name': 'The End of A.I.M.!', 'type': 'interiorStory'}, {'resourceURI': 'http://gateway.marvel.com/v1/public/stories/11921', 'name': 'The Red Skull Lives!', 'type': 'interiorStory'}, {'resourceURI': 'http://gateway.marvel.com/v1/public/stories/11930', 'name': 'He Who Holds the Cosmic Cube', 'type': 'interiorStory'}, {'resourceURI': 'http://gateway.marvel.com/v1/public/stories/11936', 'name': 'The Maddening Mystery of the Inconceivable Adaptoid!', 'type': 'interiorStory'}, {'resourceURI': 'http://gateway.marvel.com/v1/public/stories/11981', 'name': 'If This Be... Modok', 'type': 'interiorStory'}, {'resourceURI': 'http://gateway.marvel.com/v1/public/stories/11984', 'name': 'A Time to Die -- A Time to Live!', 'type': 'interiorStory'}, {'resourceURI': 'http://gateway.marvel.com/v1/public/stories/11995', 'name': 'At the Mercy of the Maggia', 'type': 'interiorStory'}, {'resourceURI': 'http://gateway.marvel.com/v1/public/stories/15243', 'name': 'Look Homeward, Avenger', 'type': 'interiorStory'}, {'resourceURI': 'http://gateway.marvel.com/v1/public/stories/17518', 'name': 'Captain America (1968) #132', 'type': 'cover'}, {'resourceURI': 'http://gateway.marvel.com/v1/public/stories/17519', 'name': 'The Fearful Secret of Bucky Barnes', 'type': 'interiorStory'}, {'resourceURI': 'http://gateway.marvel.com/v1/public/stories/17520', 'name': 'Captain America (1968) #133', 'type': 'cover'}, {'resourceURI': 'http://gateway.marvel.com/v1/public/stories/17521', 'name': 'Madness In the Slums', 'type': 'interiorStory'}, {'resourceURI': 'http://gateway.marvel.com/v1/public/stories/28233', 'name': 'In Sin Airy X', 'type': 'interiorStory'}], 'returned': 20}, 'events': {'available': 0, 'collectionURI': 'http://gateway.marvel.com/v1/public/characters/1009144/events', 'items': [], 'returned': 0}, 'urls': [{'type': 'detail', 'url': 'http://marvel.com/comics/characters/1009144/aim.?utm_campaign=apiRef&utm_source=e2f3b83c35270fe9a4d95708f6e71dee'}, {'type': 'wiki', 'url': 'http://marvel.com/universe/A.I.M.?utm_campaign=apiRef&utm_source=e2f3b83c35270fe9a4d95708f6e71dee'}, {'type': 'comiclink', 'url': 'http://marvel.com/comics/characters/1009144/aim.?utm_campaign=apiRef&utm_source=e2f3b83c35270fe9a4d95708f6e71dee'}]}, {'id': 1010699, 'name': 'Aaron Stack', 'description': '', 'modified': '1969-12-31T19:00:00-0500', 'thumbnail': {'path': 'http://i.annihil.us/u/prod/marvel/i/mg/b/40/image_not_available', 'extension': 'jpg'}, 'resourceURI': 'http://gateway.marvel.com/v1/public/characters/1010699', 'comics': {'available': 14, 'collectionURI': 'http://gateway.marvel.com/v1/public/characters/1010699/comics', 'items': [{'resourceURI': 'http://gateway.marvel.com/v1/public/comics/40776', 'name': 'Dark Avengers (2012) #177'}, {'resourceURI': 'http://gateway.marvel.com/v1/public/comics/40773', 'name': 'Dark Avengers (2012) #179'}, {'resourceURI': 'http://gateway.marvel.com/v1/public/comics/40774', 'name': 'Dark Avengers (2012) #180'}, {'resourceURI': 'http://gateway.marvel.com/v1/public/comics/40778', 'name': 'Dark Avengers (2012) #181'}, {'resourceURI': 'http://gateway.marvel.com/v1/public/comics/40787', 'name': 'Dark Avengers (2012) #182'}, {'resourceURI': 'http://gateway.marvel.com/v1/public/comics/40786', 'name': 'Dark Avengers (2012) #183'}, {'resourceURI': 'http://gateway.marvel.com/v1/public/comics/38073', 'name': 'Hulk (2008) #43'}, {'resourceURI': 'http://gateway.marvel.com/v1/public/comics/11910', 'name': 'Universe X (2000) #6'}, {'resourceURI': 'http://gateway.marvel.com/v1/public/comics/11911', 'name': 'Universe X (2000) #7'}, {'resourceURI': 'http://gateway.marvel.com/v1/public/comics/11912', 'name': 'Universe X (2000) #8'}, {'resourceURI': 'http://gateway.marvel.com/v1/public/comics/11913', 'name': 'Universe X (2000) #9'}, {'resourceURI': 'http://gateway.marvel.com/v1/public/comics/11903', 'name': 'Universe X (2000) #10'}, {'resourceURI': 'http://gateway.marvel.com/v1/public/comics/11904', 'name': 'Universe X (2000) #11'}, {'resourceURI': 'http://gateway.marvel.com/v1/public/comics/11905', 'name': 'Universe X (2000) #12'}], 'returned': 14}, 'series': {'available': 3, 'collectionURI': 'http://gateway.marvel.com/v1/public/characters/1010699/series', 'items': [{'resourceURI': 'http://gateway.marvel.com/v1/public/series/789', 'name': 'Dark Avengers (2012 - 2013)'}, {'resourceURI': 'http://gateway.marvel.com/v1/public/series/3374', 'name': 'Hulk (2008 - 2012)'}, {'resourceURI': 'http://gateway.marvel.com/v1/public/series/2085', 'name': 'Universe X (2000 - 2001)'}], 'returned': 3}, 'stories': {'available': 27, 'collectionURI': 'http://gateway.marvel.com/v1/public/characters/1010699/stories', 'items': [{'resourceURI': 'http://gateway.marvel.com/v1/public/stories/25634', 'name': 'Universe X (2000) #10', 'type': 'cover'}, {'resourceURI': 'http://gateway.marvel.com/v1/public/stories/25635', 'name': 'Interior #25635', 'type': 'interiorStory'}, {'resourceURI': 'http://gateway.marvel.com/v1/public/stories/25637', 'name': 'Universe X (2000) #12', 'type': 'cover'}, {'resourceURI': 'http://gateway.marvel.com/v1/public/stories/25638', 'name': 'Interior #25638', 'type': 'interiorStory'}, {'resourceURI': 'http://gateway.marvel.com/v1/public/stories/25647', 'name': 'Universe X (2000) #6', 'type': 'cover'}, {'resourceURI': 'http://gateway.marvel.com/v1/public/stories/25648', 'name': 'Interior #25648', 'type': 'interiorStory'}, {'resourceURI': 'http://gateway.marvel.com/v1/public/stories/25649', 'name': 'Universe X (2000) #7', 'type': 'cover'}, {'resourceURI': 'http://gateway.marvel.com/v1/public/stories/25650', 'name': 'Interior #25650', 'type': 'interiorStory'}, {'resourceURI': 'http://gateway.marvel.com/v1/public/stories/25651', 'name': 'Universe X (2000) #8', 'type': 'cover'}, {'resourceURI': 'http://gateway.marvel.com/v1/public/stories/25652', 'name': 'Interior #25652', 'type': 'interiorStory'}, {'resourceURI': 'http://gateway.marvel.com/v1/public/stories/25653', 'name': 'Universe X (2000) #9', 'type': 'cover'}, {'resourceURI': 'http://gateway.marvel.com/v1/public/stories/25654', 'name': 'Interior #25654', 'type': 'interiorStory'}, {'resourceURI': 'http://gateway.marvel.com/v1/public/stories/67100', 'name': 'Universe X (2000) #11', 'type': 'cover'}, {'resourceURI': 'http://gateway.marvel.com/v1/public/stories/89190', 'name': 'Hulk (2008) #43', 'type': 'cover'}, {'resourceURI': 'http://gateway.marvel.com/v1/public/stories/90002', 'name': 'Interior #90002', 'type': 'interiorStory'}, {'resourceURI': 'http://gateway.marvel.com/v1/public/stories/92370', 'name': 'Dark Avengers (2012) #179', 'type': 'cover'}, {'resourceURI': 'http://gateway.marvel.com/v1/public/stories/92371', 'name': 'Interior #92371', 'type': 'interiorStory'}, {'resourceURI': 'http://gateway.marvel.com/v1/public/stories/92372', 'name': 'Dark Avengers (2012) #180', 'type': 'cover'}, {'resourceURI': 'http://gateway.marvel.com/v1/public/stories/92373', 'name': 'Interior #92373', 'type': 'interiorStory'}, {'resourceURI': 'http://gateway.marvel.com/v1/public/stories/92376', 'name': 'Dark Avengers (2012) #177', 'type': 'cover'}], 'returned': 20}, 'events': {'available': 0, 'collectionURI': 'http://gateway.marvel.com/v1/public/characters/1010699/events', 'items': [], 'returned': 0}, 'urls': [{'type': 'detail', 'url': 'http://marvel.com/comics/characters/1010699/aaron_stack?utm_campaign=apiRef&utm_source=e2f3b83c35270fe9a4d95708f6e71dee'}, {'type': 'comiclink', 'url': 'http://marvel.com/comics/characters/1010699/aaron_stack?utm_campaign=apiRef&utm_source=e2f3b83c35270fe9a4d95708f6e71dee'}]}, {'id': 1009146, 'name': 'Abomination (Emil Blonsky)', 'description': 'Formerly known as Emil Blonsky, a spy of Soviet Yugoslavian origin working for the KGB, the Abomination gained his powers after receiving a dose of gamma radiation similar to that which transformed Bruce Banner into the incredible Hulk.', 'modified': '2012-03-20T12:32:12-0400', 'thumbnail': {'path': 'http://i.annihil.us/u/prod/marvel/i/mg/9/50/4ce18691cbf04', 'extension': 'jpg'}, 'resourceURI': 'http://gateway.marvel.com/v1/public/characters/1009146', 'comics': {'available': 53, 'collectionURI': 'http://gateway.marvel.com/v1/public/characters/1009146/comics', 'items': [{'resourceURI': 'http://gateway.marvel.com/v1/public/comics/17547', 'name': 'Avengers (1998) #61'}, {'resourceURI': 'http://gateway.marvel.com/v1/public/comics/17548', 'name': 'Avengers (1998) #62'}, {'resourceURI': 'http://gateway.marvel.com/v1/public/comics/1098', 'name': 'Avengers Vol. 1: World Trust (Trade Paperback)'}, {'resourceURI': 'http://gateway.marvel.com/v1/public/comics/8557', 'name': 'Earth X (1999) #7'}, {'resourceURI': 'http://gateway.marvel.com/v1/public/comics/4241', 'name': 'Earth X (New (Trade Paperback)'}, {'resourceURI': 'http://gateway.marvel.com/v1/public/comics/20863', 'name': 'Hulk (2008) #3'}, {'resourceURI': 'http://gateway.marvel.com/v1/public/comics/2499', 'name': 'Hulk: Destruction (2005) #4'}, {'resourceURI': 'http://gateway.marvel.com/v1/public/comics/14424', 'name': 'Hulk (1999) #24'}, {'resourceURI': 'http://gateway.marvel.com/v1/public/comics/14425', 'name': 'Hulk (1999) #25'}, {'resourceURI': 'http://gateway.marvel.com/v1/public/comics/14428', 'name': 'Hulk (1999) #28'}, {'resourceURI': 'http://gateway.marvel.com/v1/public/comics/14450', 'name': 'Hulk (1999) #50'}, {'resourceURI': 'http://gateway.marvel.com/v1/public/comics/14451', 'name': 'Hulk (1999) #51'}, {'resourceURI': 'http://gateway.marvel.com/v1/public/comics/14453', 'name': 'Hulk (1999) #53'}, {'resourceURI': 'http://gateway.marvel.com/v1/public/comics/14454', 'name': 'Hulk (1999) #54'}, {'resourceURI': 'http://gateway.marvel.com/v1/public/comics/8948', 'name': 'Incredible Hulk (1962) #137'}, {'resourceURI': 'http://gateway.marvel.com/v1/public/comics/8982', 'name': 'Incredible Hulk (1962) #171'}, {'resourceURI': 'http://gateway.marvel.com/v1/public/comics/9005', 'name': 'Incredible Hulk (1962) #194'}, {'resourceURI': 'http://gateway.marvel.com/v1/public/comics/9006', 'name': 'Incredible Hulk (1962) #195'}, {'resourceURI': 'http://gateway.marvel.com/v1/public/comics/9007', 'name': 'Incredible Hulk (1962) #196'}, {'resourceURI': 'http://gateway.marvel.com/v1/public/comics/9011', 'name': 'Incredible Hulk (1962) #200'}], 'returned': 20}, 'series': {'available': 26, 'collectionURI': 'http://gateway.marvel.com/v1/public/characters/1009146/series', 'items': [{'resourceURI': 'http://gateway.marvel.com/v1/public/series/354', 'name': 'Avengers (1998 - 2004)'}, {'resourceURI': 'http://gateway.marvel.com/v1/public/series/158', 'name': 'Avengers Vol. 1: World Trust (2003)'}, {'resourceURI': 'http://gateway.marvel.com/v1/public/series/378', 'name': 'Earth X (1999)'}, {'resourceURI': 'http://gateway.marvel.com/v1/public/series/1806', 'name': 'Earth X (New (2006)'}, {'resourceURI': 'http://gateway.marvel.com/v1/public/series/3374', 'name': 'Hulk (2008 - 2012)'}, {'resourceURI': 'http://gateway.marvel.com/v1/public/series/465', 'name': 'Hulk (1999 - 2008)'}, {'resourceURI': 'http://gateway.marvel.com/v1/public/series/924', 'name': 'Hulk: Destruction (2005)'}, {'resourceURI': 'http://gateway.marvel.com/v1/public/series/2021', 'name': 'Incredible Hulk (1962 - 1999)'}, {'resourceURI': 'http://gateway.marvel.com/v1/public/series/2983', 'name': 'Incredible Hulk Annual (1976 - 1994)'}, {'resourceURI': 'http://gateway.marvel.com/v1/public/series/22424', 'name': 'Incredible Hulk Epic Collection: The Hulk Must Die (2017)'}, {'resourceURI': 'http://gateway.marvel.com/v1/public/series/212', 'name': 'Incredible Hulk Vol. 4: Abominable (2003)'}, {'resourceURI': 'http://gateway.marvel.com/v1/public/series/244', 'name': 'Incredible Hulk Vol. IV: Abominable (2003)'}, {'resourceURI': 'http://gateway.marvel.com/v1/public/series/8842', 'name': 'Incredible Hulks (2010 - 2011)'}, {'resourceURI': 'http://gateway.marvel.com/v1/public/series/2572', 'name': 'Iron Man (1998 - 2004)'}, {'resourceURI': 'http://gateway.marvel.com/v1/public/series/977', 'name': 'Irredeemable Ant-Man (2006 - 2007)'}, {'resourceURI': 'http://gateway.marvel.com/v1/public/series/2423', 'name': 'Irredeemable Ant-Man Vol. 1: Low-Life (2007)'}, {'resourceURI': 'http://gateway.marvel.com/v1/public/series/3722', 'name': 'Killraven (2002 - 2003)'}, {'resourceURI': 'http://gateway.marvel.com/v1/public/series/2437', 'name': 'Killraven Premiere (2007)'}, {'resourceURI': 'http://gateway.marvel.com/v1/public/series/21675', 'name': 'Marvel Cinematic Universe Guidebook: The Avengers Initiative (2017)'}, {'resourceURI': 'http://gateway.marvel.com/v1/public/series/22327', 'name': 'Marvel Masterworks: The Incredible Hulk Vol. 11 (2017)'}], 'returned': 20}, 'stories': {'available': 63, 'collectionURI': 'http://gateway.marvel.com/v1/public/characters/1009146/stories', 'items': [{'resourceURI': 'http://gateway.marvel.com/v1/public/stories/4946', 'name': '4 of 4 - 4XLS', 'type': 'cover'}, {'resourceURI': 'http://gateway.marvel.com/v1/public/stories/5496', 'name': 'Irredeemable Ant-Man (2006) #1', 'type': 'cover'}, {'resourceURI': 'http://gateway.marvel.com/v1/public/stories/12370', 'name': 'Cover #12370', 'type': 'cover'}, {'resourceURI': 'http://gateway.marvel.com/v1/public/stories/12372', 'name': 'Whosoever Harms the Hulk..!', 'type': 'interiorStory'}, {'resourceURI': 'http://gateway.marvel.com/v1/public/stories/18419', 'name': '[none]', 'type': 'cover'}, {'resourceURI': 'http://gateway.marvel.com/v1/public/stories/18420', 'name': 'The Stars Mine Enemy', 'type': 'interiorStory'}, {'resourceURI': 'http://gateway.marvel.com/v1/public/stories/18488', 'name': 'Incredible Hulk (1962) #171', 'type': 'cover'}, {'resourceURI': 'http://gateway.marvel.com/v1/public/stories/18489', 'name': 'Revenge', 'type': ''}, {'resourceURI': 'http://gateway.marvel.com/v1/public/stories/18534', 'name': 'Incredible Hulk (1962) #194', 'type': 'cover'}, {'resourceURI': 'http://gateway.marvel.com/v1/public/stories/18535', 'name': 'The Day of the Locust!', 'type': 'interiorStory'}, {'resourceURI': 'http://gateway.marvel.com/v1/public/stories/18536', 'name': 'Incredible Hulk (1962) #195', 'type': 'cover'}, {'resourceURI': 'http://gateway.marvel.com/v1/public/stories/18537', 'name': 'Warfare In Wonderland!', 'type': 'interiorStory'}, {'resourceURI': 'http://gateway.marvel.com/v1/public/stories/18538', 'name': 'Incredible Hulk (1962) #196', 'type': 'cover'}, {'resourceURI': 'http://gateway.marvel.com/v1/public/stories/18539', 'name': 'The Abomination Proclamation!', 'type': 'interiorStory'}, {'resourceURI': 'http://gateway.marvel.com/v1/public/stories/18546', 'name': 'Incredible Hulk (1962) #200', 'type': 'cover'}, {'resourceURI': 'http://gateway.marvel.com/v1/public/stories/18547', 'name': 'An Intruder In the Mind!', 'type': 'interiorStory'}, {'resourceURI': 'http://gateway.marvel.com/v1/public/stories/18776', 'name': 'Cover #18776', 'type': 'cover'}, {'resourceURI': 'http://gateway.marvel.com/v1/public/stories/18877', 'name': 'Incredible Hulk (1962) #364', 'type': 'cover'}, {'resourceURI': 'http://gateway.marvel.com/v1/public/stories/18878', 'name': 'Countdown Part 4: The Abomination', 'type': 'interiorStory'}, {'resourceURI': 'http://gateway.marvel.com/v1/public/stories/18881', 'name': 'Incredible Hulk (1962) #366', 'type': 'cover'}], 'returned': 20}, 'events': {'available': 1, 'collectionURI': 'http://gateway.marvel.com/v1/public/characters/1009146/events', 'items': [{'resourceURI': 'http://gateway.marvel.com/v1/public/events/296', 'name': 'Chaos War'}], 'returned': 1}, 'urls': [{'type': 'detail', 'url': 'http://marvel.com/comics/characters/1009146/abomination_emil_blonsky?utm_campaign=apiRef&utm_source=e2f3b83c35270fe9a4d95708f6e71dee'}, {'type': 'wiki', 'url': 'http://marvel.com/universe/Abomination?utm_campaign=apiRef&utm_source=e2f3b83c35270fe9a4d95708f6e71dee'}, {'type': 'comiclink', 'url': 'http://marvel.com/comics/characters/1009146/abomination_emil_blonsky?utm_campaign=apiRef&utm_source=e2f3b83c35270fe9a4d95708f6e71dee'}]}, {'id': 1016823, 'name': 'Abomination (Ultimate)', 'description': '', 'modified': '2012-07-10T19:11:52-0400', 'thumbnail': {'path': 'http://i.annihil.us/u/prod/marvel/i/mg/b/40/image_not_available', 'extension': 'jpg'}, 'resourceURI': 'http://gateway.marvel.com/v1/public/characters/1016823', 'comics': {'available': 2, 'collectionURI': 'http://gateway.marvel.com/v1/public/characters/1016823/comics', 'items': [{'resourceURI': 'http://gateway.marvel.com/v1/public/comics/40638', 'name': 'Hulk (2008) #50'}, {'resourceURI': 'http://gateway.marvel.com/v1/public/comics/15717', 'name': 'Ultimate X-Men (2000) #26'}], 'returned': 2}, 'series': {'available': 2, 'collectionURI': 'http://gateway.marvel.com/v1/public/characters/1016823/series', 'items': [{'resourceURI': 'http://gateway.marvel.com/v1/public/series/3374', 'name': 'Hulk (2008 - 2012)'}, {'resourceURI': 'http://gateway.marvel.com/v1/public/series/474', 'name': 'Ultimate X-Men (2000 - 2009)'}], 'returned': 2}, 'stories': {'available': 3, 'collectionURI': 'http://gateway.marvel.com/v1/public/characters/1016823/stories', 'items': [{'resourceURI': 'http://gateway.marvel.com/v1/public/stories/31883', 'name': 'Free Preview of THE INCREDIBLE HULK #50', 'type': 'interiorStory'}, {'resourceURI': 'http://gateway.marvel.com/v1/public/stories/92098', 'name': 'Hulk (2008) #50', 'type': 'cover'}, {'resourceURI': 'http://gateway.marvel.com/v1/public/stories/92099', 'name': 'Interior #92099', 'type': 'interiorStory'}], 'returned': 3}, 'events': {'available': 0, 'collectionURI': 'http://gateway.marvel.com/v1/public/characters/1016823/events', 'items': [], 'returned': 0}, 'urls': [{'type': 'detail', 'url': 'http://marvel.com/comics/characters/1016823/abomination_ultimate?utm_campaign=apiRef&utm_source=e2f3b83c35270fe9a4d95708f6e71dee'}, {'type': 'comiclink', 'url': 'http://marvel.com/comics/characters/1016823/abomination_ultimate?utm_campaign=apiRef&utm_source=e2f3b83c35270fe9a4d95708f6e71dee'}]}, {'id': 1009148, 'name': 'Absorbing Man', 'description': '', 'modified': '2013-10-24T14:32:08-0400', 'thumbnail': {'path': 'http://i.annihil.us/u/prod/marvel/i/mg/1/b0/5269678709fb7', 'extension': 'jpg'}, 'resourceURI': 'http://gateway.marvel.com/v1/public/characters/1009148', 'comics': {'available': 91, 'collectionURI': 'http://gateway.marvel.com/v1/public/characters/1009148/comics', 'items': [{'resourceURI': 'http://gateway.marvel.com/v1/public/comics/43507', 'name': 'A+X (2012) #8'}, {'resourceURI': 'http://gateway.marvel.com/v1/public/comics/7045', 'name': 'Avengers (1963) #183'}, {'resourceURI': 'http://gateway.marvel.com/v1/public/comics/7046', 'name': 'Avengers (1963) #184'}, {'resourceURI': 'http://gateway.marvel.com/v1/public/comics/7142', 'name': 'Avengers (1963) #270'}, {'resourceURI': 'http://gateway.marvel.com/v1/public/comics/36481', 'name': 'Avengers Academy (2010) #16'}, {'resourceURI': 'http://gateway.marvel.com/v1/public/comics/36480', 'name': 'Avengers Academy (2010) #17'}, {'resourceURI': 'http://gateway.marvel.com/v1/public/comics/36479', 'name': 'Avengers Academy (2010) #18'}, {'resourceURI': 'http://gateway.marvel.com/v1/public/comics/36484', 'name': 'Avengers Academy (2010) #19'}, {'resourceURI': 'http://gateway.marvel.com/v1/public/comics/17776', 'name': 'Avengers Annual (1967) #20'}, {'resourceURI': 'http://gateway.marvel.com/v1/public/comics/63662', 'name': 'Black Bolt (2017) #3'}, {'resourceURI': 'http://gateway.marvel.com/v1/public/comics/64278', 'name': 'Black Bolt (2017) #4'}, {'resourceURI': 'http://gateway.marvel.com/v1/public/comics/66533', 'name': 'Black Bolt (2017) #11'}, {'resourceURI': 'http://gateway.marvel.com/v1/public/comics/65327', 'name': 'Black Bolt Vol. 1: Hard Time (Trade Paperback)'}, {'resourceURI': 'http://gateway.marvel.com/v1/public/comics/12783', 'name': 'Captain America (1998) #24'}, {'resourceURI': 'http://gateway.marvel.com/v1/public/comics/20427', 'name': 'Dazzler (1981) #18'}, {'resourceURI': 'http://gateway.marvel.com/v1/public/comics/20428', 'name': 'Dazzler (1981) #19'}, {'resourceURI': 'http://gateway.marvel.com/v1/public/comics/8499', 'name': 'Deadpool (1997) #43'}, {'resourceURI': 'http://gateway.marvel.com/v1/public/comics/15541', 'name': 'Fantastic Four (1998) #22'}, {'resourceURI': 'http://gateway.marvel.com/v1/public/comics/13151', 'name': 'Fantastic Four (1961) #330'}, {'resourceURI': 'http://gateway.marvel.com/v1/public/comics/41433', 'name': 'Fear Itself (2010) #2 (3rd Printing Variant)'}], 'returned': 20}, 'series': {'available': 47, 'collectionURI': 'http://gateway.marvel.com/v1/public/characters/1009148/series', 'items': [{'resourceURI': 'http://gateway.marvel.com/v1/public/series/16450', 'name': 'A+X (2012 - 2014)'}, {'resourceURI': 'http://gateway.marvel.com/v1/public/series/1991', 'name': 'Avengers (1963 - 1996)'}, {'resourceURI': 'http://gateway.marvel.com/v1/public/series/9086', 'name': 'Avengers Academy (2010 - 2012)'}, {'resourceURI': 'http://gateway.marvel.com/v1/public/series/1988', 'name': 'Avengers Annual (1967 - 1994)'}, {'resourceURI': 'http://gateway.marvel.com/v1/public/series/23121', 'name': 'Black Bolt (2017 - 2018)'}, {'resourceURI': 'http://gateway.marvel.com/v1/public/series/23778', 'name': 'Black Bolt Vol. 1: Hard Time (2017)'}, {'resourceURI': 'http://gateway.marvel.com/v1/public/series/1997', 'name': 'Captain America (1998 - 2002)'}, {'resourceURI': 'http://gateway.marvel.com/v1/public/series/3745', 'name': 'Dazzler (1981 - 1986)'}, {'resourceURI': 'http://gateway.marvel.com/v1/public/series/2005', 'name': 'Deadpool (1997 - 2002)'}, {'resourceURI': 'http://gateway.marvel.com/v1/public/series/2121', 'name': 'Fantastic Four (1961 - 1998)'}, {'resourceURI': 'http://gateway.marvel.com/v1/public/series/421', 'name': 'Fantastic Four (1998 - 2012)'}, {'resourceURI': 'http://gateway.marvel.com/v1/public/series/13691', 'name': 'Fear Itself (2010 - 2011)'}, {'resourceURI': 'http://gateway.marvel.com/v1/public/series/13857', 'name': 'Fear Itself: Fellowship of Fear (2011)'}, {'resourceURI': 'http://gateway.marvel.com/v1/public/series/13827', 'name': 'Fear Itself: The Worthy (2011)'}, {'resourceURI': 'http://gateway.marvel.com/v1/public/series/20084', 'name': 'Heroes for Hire (1997 - 1999)'}, {'resourceURI': 'http://gateway.marvel.com/v1/public/series/465', 'name': 'Hulk (1999 - 2008)'}, {'resourceURI': 'http://gateway.marvel.com/v1/public/series/20552', 'name': 'Illuminati (2015 - 2016)'}, {'resourceURI': 'http://gateway.marvel.com/v1/public/series/24278', 'name': 'Immortal Hulk (2018 - Present)'}, {'resourceURI': 'http://gateway.marvel.com/v1/public/series/24891', 'name': 'Immortal Hulk Vol. 2: The Green Door (2019)'}, {'resourceURI': 'http://gateway.marvel.com/v1/public/series/2021', 'name': 'Incredible Hulk (1962 - 1999)'}], 'returned': 20}, 'stories': {'available': 104, 'collectionURI': 'http://gateway.marvel.com/v1/public/characters/1009148/stories', 'items': [{'resourceURI': 'http://gateway.marvel.com/v1/public/stories/4988', 'name': '1 of 1', 'type': 'cover'}, {'resourceURI': 'http://gateway.marvel.com/v1/public/stories/7866', 'name': 'Punisher War Journal (2006) #4', 'type': 'cover'}, {'resourceURI': 'http://gateway.marvel.com/v1/public/stories/10997', 'name': 'Journey Into Mystery (1952) #114', 'type': 'cover'}, {'resourceURI': 'http://gateway.marvel.com/v1/public/stories/10998', 'name': 'The Stronger I Am, the Sooner I Die', 'type': 'interiorStory'}, {'resourceURI': 'http://gateway.marvel.com/v1/public/stories/11000', 'name': 'Journey Into Mystery (1952) #115', 'type': 'cover'}, {'resourceURI': 'http://gateway.marvel.com/v1/public/stories/11001', 'name': 'The Vengeance of the Thunder God', 'type': 'interiorStory'}, {'resourceURI': 'http://gateway.marvel.com/v1/public/stories/11022', 'name': 'Journey Into Mystery (1952) #120', 'type': 'cover'}, {'resourceURI': 'http://gateway.marvel.com/v1/public/stories/11023', 'name': 'With My Hammer In Hand', 'type': 'interiorStory'}, {'resourceURI': 'http://gateway.marvel.com/v1/public/stories/11025', 'name': 'Journey Into Mystery (1952) #121', 'type': 'cover'}, {'resourceURI': 'http://gateway.marvel.com/v1/public/stories/11026', 'name': 'The Power!  The Passion!  The Pride!', 'type': 'interiorStory'}, {'resourceURI': 'http://gateway.marvel.com/v1/public/stories/11028', 'name': 'Journey Into Mystery (1952) #122', 'type': 'cover'}, {'resourceURI': 'http://gateway.marvel.com/v1/public/stories/11029', 'name': 'Where Mortals Fear To Tread!', 'type': 'interiorStory'}, {'resourceURI': 'http://gateway.marvel.com/v1/public/stories/11031', 'name': 'Journey Into Mystery (1952) #123', 'type': 'cover'}, {'resourceURI': 'http://gateway.marvel.com/v1/public/stories/11032', 'name': 'While a Universe Trembles', 'type': 'interiorStory'}, {'resourceURI': 'http://gateway.marvel.com/v1/public/stories/12951', 'name': 'Fantastic Four (1961) #330', 'type': 'cover'}, {'resourceURI': 'http://gateway.marvel.com/v1/public/stories/12952', 'name': 'Good Dreams!', 'type': 'interiorStory'}, {'resourceURI': 'http://gateway.marvel.com/v1/public/stories/14628', 'name': 'Avengers (1963) #183', 'type': 'cover'}, {'resourceURI': 'http://gateway.marvel.com/v1/public/stories/14630', 'name': 'Avengers (1963) #184', 'type': 'cover'}, {'resourceURI': 'http://gateway.marvel.com/v1/public/stories/14823', 'name': 'Avengers (1963) #270', 'type': 'cover'}, {'resourceURI': 'http://gateway.marvel.com/v1/public/stories/16688', 'name': 'Thor (1966) #206', 'type': 'cover'}], 'returned': 20}, 'events': {'available': 4, 'collectionURI': 'http://gateway.marvel.com/v1/public/characters/1009148/events', 'items': [{'resourceURI': 'http://gateway.marvel.com/v1/public/events/238', 'name': 'Civil War'}, {'resourceURI': 'http://gateway.marvel.com/v1/public/events/302', 'name': 'Fear Itself'}, {'resourceURI': 'http://gateway.marvel.com/v1/public/events/270', 'name': 'Secret Wars'}, {'resourceURI': 'http://gateway.marvel.com/v1/public/events/273', 'name': 'Siege'}], 'returned': 4}, 'urls': [{'type': 'detail', 'url': 'http://marvel.com/comics/characters/1009148/absorbing_man?utm_campaign=apiRef&utm_source=e2f3b83c35270fe9a4d95708f6e71dee'}, {'type': 'wiki', 'url': 'http://marvel.com/universe/Absorbing_Man?utm_campaign=apiRef&utm_source=e2f3b83c35270fe9a4d95708f6e71dee'}, {'type': 'comiclink', 'url': 'http://marvel.com/comics/characters/1009148/absorbing_man?utm_campaign=apiRef&utm_source=e2f3b83c35270fe9a4d95708f6e71dee'}]}, {'id': 1009149, 'name': 'Abyss', 'description': '', 'modified': '2014-04-29T14:10:43-0400', 'thumbnail': {'path': 'http://i.annihil.us/u/prod/marvel/i/mg/9/30/535feab462a64', 'extension': 'jpg'}, 'resourceURI': 'http://gateway.marvel.com/v1/public/characters/1009149', 'comics': {'available': 8, 'collectionURI': 'http://gateway.marvel.com/v1/public/characters/1009149/comics', 'items': [{'resourceURI': 'http://gateway.marvel.com/v1/public/comics/13943', 'name': 'Uncanny X-Men (1963) #402'}, {'resourceURI': 'http://gateway.marvel.com/v1/public/comics/13945', 'name': 'Uncanny X-Men (1963) #404'}, {'resourceURI': 'http://gateway.marvel.com/v1/public/comics/13946', 'name': 'Uncanny X-Men (1963) #405'}, {'resourceURI': 'http://gateway.marvel.com/v1/public/comics/13947', 'name': 'Uncanny X-Men (1963) #406'}, {'resourceURI': 'http://gateway.marvel.com/v1/public/comics/13970', 'name': 'Uncanny X-Men (1963) #429'}, {'resourceURI': 'http://gateway.marvel.com/v1/public/comics/13972', 'name': 'Uncanny X-Men (1963) #431'}, {'resourceURI': 'http://gateway.marvel.com/v1/public/comics/12386', 'name': 'X-Men: Alpha (1995) #1'}, {'resourceURI': 'http://gateway.marvel.com/v1/public/comics/2539', 'name': 'X-Men: The Complete Age of Apocalypse Epic Book 2 (Trade Paperback)'}], 'returned': 8}, 'series': {'available': 3, 'collectionURI': 'http://gateway.marvel.com/v1/public/characters/1009149/series', 'items': [{'resourceURI': 'http://gateway.marvel.com/v1/public/series/2258', 'name': 'Uncanny X-Men (1963 - 2011)'}, {'resourceURI': 'http://gateway.marvel.com/v1/public/series/2104', 'name': 'X-Men: Alpha (1995)'}, {'resourceURI': 'http://gateway.marvel.com/v1/public/series/1583', 'name': 'X-Men: The Complete Age of Apocalypse Epic Book 2 (2005)'}], 'returned': 3}, 'stories': {'available': 8, 'collectionURI': 'http://gateway.marvel.com/v1/public/characters/1009149/stories', 'items': [{'resourceURI': 'http://gateway.marvel.com/v1/public/stories/26281', 'name': 'A Beginning', 'type': 'interiorStory'}, {'resourceURI': 'http://gateway.marvel.com/v1/public/stories/28352', 'name': 'Utility of Myth', 'type': 'interiorStory'}, {'resourceURI': 'http://gateway.marvel.com/v1/public/stories/28356', 'name': 'Army Ants', 'type': 'interiorStory'}, {'resourceURI': 'http://gateway.marvel.com/v1/public/stories/28358', 'name': 'Ballroom Blitzkrieg', 'type': 'interiorStory'}, {'resourceURI': 'http://gateway.marvel.com/v1/public/stories/28360', 'name': 'Staring Contests are for Suckers', 'type': 'interiorStory'}, {'resourceURI': 'http://gateway.marvel.com/v1/public/stories/28407', 'name': 'The Draco Part One: Sins of the Father', 'type': 'interiorStory'}, {'resourceURI': 'http://gateway.marvel.com/v1/public/stories/28411', 'name': 'The Draco Part Three', 'type': 'interiorStory'}, {'resourceURI': 'http://gateway.marvel.com/v1/public/stories/28413', 'name': 'The Draco Part Four', 'type': 'interiorStory'}], 'returned': 8}, 'events': {'available': 1, 'collectionURI': 'http://gateway.marvel.com/v1/public/characters/1009149/events', 'items': [{'resourceURI': 'http://gateway.marvel.com/v1/public/events/227', 'name': 'Age of Apocalypse'}], 'returned': 1}, 'urls': [{'type': 'detail', 'url': 'http://marvel.com/comics/characters/1009149/abyss?utm_campaign=apiRef&utm_source=e2f3b83c35270fe9a4d95708f6e71dee'}, {'type': 'wiki', 'url': 'http://marvel.com/universe/Abyss_(alien)?utm_campaign=apiRef&utm_source=e2f3b83c35270fe9a4d95708f6e71dee'}, {'type': 'comiclink', 'url': 'http://marvel.com/comics/characters/1009149/abyss?utm_campaign=apiRef&utm_source=e2f3b83c35270fe9a4d95708f6e71dee'}]}, {'id': 1010903, 'name': 'Abyss (Age of Apocalypse)', 'description': '', 'modified': '1969-12-31T19:00:00-0500', 'thumbnail': {'path': 'http://i.annihil.us/u/prod/marvel/i/mg/3/80/4c00358ec7548', 'extension': 'jpg'}, 'resourceURI': 'http://gateway.marvel.com/v1/public/characters/1010903', 'comics': {'available': 3, 'collectionURI': 'http://gateway.marvel.com/v1/public/characters/1010903/comics', 'items': [{'resourceURI': 'http://gateway.marvel.com/v1/public/comics/18099', 'name': 'Weapon X (1995) #1'}, {'resourceURI': 'http://gateway.marvel.com/v1/public/comics/12386', 'name': 'X-Men: Alpha (1995) #1'}, {'resourceURI': 'http://gateway.marvel.com/v1/public/comics/2539', 'name': 'X-Men: The Complete Age of Apocalypse Epic Book 2 (Trade Paperback)'}], 'returned': 3}, 'series': {'available': 3, 'collectionURI': 'http://gateway.marvel.com/v1/public/characters/1010903/series', 'items': [{'resourceURI': 'http://gateway.marvel.com/v1/public/series/3635', 'name': 'Weapon X (1995)'}, {'resourceURI': 'http://gateway.marvel.com/v1/public/series/2104', 'name': 'X-Men: Alpha (1995)'}, {'resourceURI': 'http://gateway.marvel.com/v1/public/series/1583', 'name': 'X-Men: The Complete Age of Apocalypse Epic Book 2 (2005)'}], 'returned': 3}, 'stories': {'available': 2, 'collectionURI': 'http://gateway.marvel.com/v1/public/characters/1010903/stories', 'items': [{'resourceURI': 'http://gateway.marvel.com/v1/public/stories/26280', 'name': 'X-Men: Alpha (1994) #1', 'type': 'cover'}, {'resourceURI': 'http://gateway.marvel.com/v1/public/stories/38448', 'name': 'X-Facts', 'type': ''}], 'returned': 2}, 'events': {'available': 1, 'collectionURI': 'http://gateway.marvel.com/v1/public/characters/1010903/events', 'items': [{'resourceURI': 'http://gateway.marvel.com/v1/public/events/227', 'name': 'Age of Apocalypse'}], 'returned': 1}, 'urls': [{'type': 'detail', 'url': 'http://marvel.com/comics/characters/1010903/abyss_age_of_apocalypse?utm_campaign=apiRef&utm_source=e2f3b83c35270fe9a4d95708f6e71dee'}, {'type': 'wiki', 'url': 'http://marvel.com/universe/Abyss_(Age_of_Apocalypse)?utm_campaign=apiRef&utm_source=e2f3b83c35270fe9a4d95708f6e71dee'}, {'type': 'comiclink', 'url': 'http://marvel.com/comics/characters/1010903/abyss_age_of_apocalypse?utm_campaign=apiRef&utm_source=e2f3b83c35270fe9a4d95708f6e71dee'}]}, {'id': 1011266, 'name': 'Adam Destine', 'description': '', 'modified': '1969-12-31T19:00:00-0500', 'thumbnail': {'path': 'http://i.annihil.us/u/prod/marvel/i/mg/b/40/image_not_available', 'extension': 'jpg'}, 'resourceURI': 'http://gateway.marvel.com/v1/public/characters/1011266', 'comics': {'available': 0, 'collectionURI': 'http://gateway.marvel.com/v1/public/characters/1011266/comics', 'items': [], 'returned': 0}, 'series': {'available': 0, 'collectionURI': 'http://gateway.marvel.com/v1/public/characters/1011266/series', 'items': [], 'returned': 0}, 'stories': {'available': 0, 'collectionURI': 'http://gateway.marvel.com/v1/public/characters/1011266/stories', 'items': [], 'returned': 0}, 'events': {'available': 0, 'collectionURI': 'http://gateway.marvel.com/v1/public/characters/1011266/events', 'items': [], 'returned': 0}, 'urls': [{'type': 'detail', 'url': 'http://marvel.com/characters/2902/adam_destine?utm_campaign=apiRef&utm_source=e2f3b83c35270fe9a4d95708f6e71dee'}, {'type': 'wiki', 'url': 'http://marvel.com/universe/Destine,_Adam?utm_campaign=apiRef&utm_source=e2f3b83c35270fe9a4d95708f6e71dee'}, {'type': 'comiclink', 'url': 'http://marvel.com/comics/characters/1011266/adam_destine?utm_campaign=apiRef&utm_source=e2f3b83c35270fe9a4d95708f6e71dee'}]}, {'id': 1010354, 'name': 'Adam Warlock', 'description': 'Adam Warlock is an artificially created human who was born in a cocoon at a scientific complex called The Beehive.', 'modified': '2013-08-07T13:49:06-0400', 'thumbnail': {'path': 'http://i.annihil.us/u/prod/marvel/i/mg/a/f0/5202887448860', 'extension': 'jpg'}, 'resourceURI': 'http://gateway.marvel.com/v1/public/characters/1010354', 'comics': {'available': 187, 'collectionURI': 'http://gateway.marvel.com/v1/public/characters/1010354/comics', 'items': [{'resourceURI': 'http://gateway.marvel.com/v1/public/comics/62151', 'name': 'All-New Guardians of the Galaxy Vol. 3: Infinity Quest (Trade Paperback)'}, {'resourceURI': 'http://gateway.marvel.com/v1/public/comics/17271', 'name': 'Annihilation: Conquest (2007) #1'}, {'resourceURI': 'http://gateway.marvel.com/v1/public/comics/17405', 'name': 'Annihilation: Conquest (2007) #2'}, {'resourceURI': 'http://gateway.marvel.com/v1/public/comics/17645', 'name': 'Annihilation: Conquest (2007) #3'}, {'resourceURI': 'http://gateway.marvel.com/v1/public/comics/20686', 'name': 'Annihilation: Conquest (2007) #4'}, {'resourceURI': 'http://gateway.marvel.com/v1/public/comics/20885', 'name': 'Annihilation: Conquest (2007) #5'}, {'resourceURI': 'http://gateway.marvel.com/v1/public/comics/21016', 'name': 'Annihilation: Conquest (2007) #6'}, {'resourceURI': 'http://gateway.marvel.com/v1/public/comics/12412', 'name': 'Avengers Forever (1998) #9'}, {'resourceURI': 'http://gateway.marvel.com/v1/public/comics/1033', 'name': 'Avengers Legends Vol. I: Avengers Forever (Trade Paperback)'}, {'resourceURI': 'http://gateway.marvel.com/v1/public/comics/20731', 'name': 'Clandestine Classic Premiere (Hardcover)'}, {'resourceURI': 'http://gateway.marvel.com/v1/public/comics/20187', 'name': 'Doctor Strange, Sorcerer Supreme (1988) #27'}, {'resourceURI': 'http://gateway.marvel.com/v1/public/comics/20193', 'name': 'Doctor Strange, Sorcerer Supreme (1988) #32'}, {'resourceURI': 'http://gateway.marvel.com/v1/public/comics/20197', 'name': 'Doctor Strange, Sorcerer Supreme (1988) #36'}, {'resourceURI': 'http://gateway.marvel.com/v1/public/comics/8552', 'name': 'Earth X (1999) #2'}, {'resourceURI': 'http://gateway.marvel.com/v1/public/comics/8550', 'name': 'Earth X (1999) #11'}, {'resourceURI': 'http://gateway.marvel.com/v1/public/comics/4241', 'name': 'Earth X (New (Trade Paperback)'}, {'resourceURI': 'http://gateway.marvel.com/v1/public/comics/12975', 'name': 'Fantastic Four (1961) #172'}, {'resourceURI': 'http://gateway.marvel.com/v1/public/comics/13195', 'name': 'Fantastic Four (1961) #370'}, {'resourceURI': 'http://gateway.marvel.com/v1/public/comics/25305', 'name': 'Guardians of the Galaxy (2008) #17'}, {'resourceURI': 'http://gateway.marvel.com/v1/public/comics/65547', 'name': 'All-New Guardians of the Galaxy (2017) #150'}], 'returned': 20}, 'series': {'available': 81, 'collectionURI': 'http://gateway.marvel.com/v1/public/characters/1010354/series', 'items': [{'resourceURI': 'http://gateway.marvel.com/v1/public/series/23058', 'name': 'All-New Guardians of the Galaxy (2017)'}, {'resourceURI': 'http://gateway.marvel.com/v1/public/series/22778', 'name': 'All-New Guardians of the Galaxy Vol. 3: Infinity Quest (2018)'}, {'resourceURI': 'http://gateway.marvel.com/v1/public/series/3061', 'name': 'Annihilation: Conquest (2007)'}, {'resourceURI': 'http://gateway.marvel.com/v1/public/series/2111', 'name': 'Avengers Forever (1998 - 2001)'}, {'resourceURI': 'http://gateway.marvel.com/v1/public/series/93', 'name': 'Avengers Legends Vol. I: Avengers Forever (2002)'}, {'resourceURI': 'http://gateway.marvel.com/v1/public/series/3874', 'name': 'Clandestine Classic Premiere (2008)'}, {'resourceURI': 'http://gateway.marvel.com/v1/public/series/3741', 'name': 'Doctor Strange, Sorcerer Supreme (1988 - 1996)'}, {'resourceURI': 'http://gateway.marvel.com/v1/public/series/378', 'name': 'Earth X (1999)'}, {'resourceURI': 'http://gateway.marvel.com/v1/public/series/1806', 'name': 'Earth X (New (2006)'}, {'resourceURI': 'http://gateway.marvel.com/v1/public/series/2121', 'name': 'Fantastic Four (1961 - 1998)'}, {'resourceURI': 'http://gateway.marvel.com/v1/public/series/4885', 'name': 'Guardians of the Galaxy (2008 - 2010)'}, {'resourceURI': 'http://gateway.marvel.com/v1/public/series/27554', 'name': 'Guardians Of The Galaxy Annual (2019)'}, {'resourceURI': 'http://gateway.marvel.com/v1/public/series/22422', 'name': 'GUARDIANS OF THE GALAXY: ROAD TO ANNIHILATION VOL. 2 TPB (2017)'}, {'resourceURI': 'http://gateway.marvel.com/v1/public/series/2021', 'name': 'Incredible Hulk (1962 - 1999)'}, {'resourceURI': 'http://gateway.marvel.com/v1/public/series/2983', 'name': 'Incredible Hulk Annual (1976 - 1994)'}, {'resourceURI': 'http://gateway.marvel.com/v1/public/series/26307', 'name': 'Infinity By Starlin & Hickman (2019)'}, {'resourceURI': 'http://gateway.marvel.com/v1/public/series/24050', 'name': 'Infinity Countdown (2018)'}, {'resourceURI': 'http://gateway.marvel.com/v1/public/series/24300', 'name': 'Infinity Countdown Prime (2018)'}, {'resourceURI': 'http://gateway.marvel.com/v1/public/series/23991', 'name': 'Infinity Countdown: Adam Warlock (2018)'}, {'resourceURI': 'http://gateway.marvel.com/v1/public/series/24051', 'name': 'Infinity Crusade (2018)'}], 'returned': 20}, 'stories': {'available': 217, 'collectionURI': 'http://gateway.marvel.com/v1/public/characters/1010354/stories', 'items': [{'resourceURI': 'http://gateway.marvel.com/v1/public/stories/1412', 'name': 'Cover #1412', 'type': 'cover'}, {'resourceURI': 'http://gateway.marvel.com/v1/public/stories/1602', 'name': 'Cover #1602', 'type': 'cover'}, {'resourceURI': 'http://gateway.marvel.com/v1/public/stories/1800', 'name': 'Cover #1800', 'type': 'cover'}, {'resourceURI': 'http://gateway.marvel.com/v1/public/stories/1842', 'name': 'Cover #1842', 'type': 'cover'}, {'resourceURI': 'http://gateway.marvel.com/v1/public/stories/3758', 'name': 'WARLOCK (2004) #3', 'type': 'cover'}, {'resourceURI': 'http://gateway.marvel.com/v1/public/stories/3760', 'name': 'WARLOCK (2004) #1', 'type': 'cover'}, {'resourceURI': 'http://gateway.marvel.com/v1/public/stories/3762', 'name': 'WARLOCK (2004) #2', 'type': 'cover'}, {'resourceURI': 'http://gateway.marvel.com/v1/public/stories/3764', 'name': 'WARLOCK (2004) #4', 'type': 'cover'}, {'resourceURI': 'http://gateway.marvel.com/v1/public/stories/12568', 'name': 'Fantastic Four (1961) #172', 'type': 'cover'}, {'resourceURI': 'http://gateway.marvel.com/v1/public/stories/12569', 'name': 'Cry, the Bedeviled Planet!', 'type': 'interiorStory'}, {'resourceURI': 'http://gateway.marvel.com/v1/public/stories/13121', 'name': 'Forever Evil', 'type': 'interiorStory'}, {'resourceURI': 'http://gateway.marvel.com/v1/public/stories/18500', 'name': 'Incredible Hulk (1962) #177', 'type': 'cover'}, {'resourceURI': 'http://gateway.marvel.com/v1/public/stories/18501', 'name': 'Peril of the Paired Planets', 'type': ''}, {'resourceURI': 'http://gateway.marvel.com/v1/public/stories/18503', 'name': 'Triumph On Terra-Two', 'type': ''}, {'resourceURI': 'http://gateway.marvel.com/v1/public/stories/19847', 'name': 'Cover #19847', 'type': 'cover'}, {'resourceURI': 'http://gateway.marvel.com/v1/public/stories/19848', 'name': 'Performance', 'type': 'interiorStory'}, {'resourceURI': 'http://gateway.marvel.com/v1/public/stories/19859', 'name': 'Days of Future Present Part 4', 'type': 'cover'}, {'resourceURI': 'http://gateway.marvel.com/v1/public/stories/19860', 'name': 'You Must Remember This', 'type': 'interiorStory'}, {'resourceURI': 'http://gateway.marvel.com/v1/public/stories/19883', 'name': 'The Adventures of Lockheed the Space Dragon and His Pet Girl, Kitty', 'type': 'interiorStory'}, {'resourceURI': 'http://gateway.marvel.com/v1/public/stories/19884', 'name': 'The Saga of Storm: Goddess of Thunder', 'type': 'cover'}], 'returned': 20}, 'events': {'available': 8, 'collectionURI': 'http://gateway.marvel.com/v1/public/characters/1010354/events', 'items': [{'resourceURI': 'http://gateway.marvel.com/v1/public/events/293', 'name': 'Annihilation: Conquest'}, {'resourceURI': 'http://gateway.marvel.com/v1/public/events/233', 'name': 'Atlantis Attacks'}, {'resourceURI': 'http://gateway.marvel.com/v1/public/events/235', 'name': 'Blood and Thunder'}, {'resourceURI': 'http://gateway.marvel.com/v1/public/events/240', 'name': 'Days of Future Present'}, {'resourceURI': 'http://gateway.marvel.com/v1/public/events/29', 'name': 'Infinity War'}, {'resourceURI': 'http://gateway.marvel.com/v1/public/events/263', 'name': 'Mutant Massacre'}, {'resourceURI': 'http://gateway.marvel.com/v1/public/events/271', 'name': 'Secret Wars II'}, {'resourceURI': 'http://gateway.marvel.com/v1/public/events/280', 'name': 'X-Tinction Agenda'}], 'returned': 8}, 'urls': [{'type': 'detail', 'url': 'http://marvel.com/comics/characters/1010354/adam_warlock?utm_campaign=apiRef&utm_source=e2f3b83c35270fe9a4d95708f6e71dee'}, {'type': 'wiki', 'url': 'http://marvel.com/universe/Warlock,_Adam?utm_campaign=apiRef&utm_source=e2f3b83c35270fe9a4d95708f6e71dee'}, {'type': 'comiclink', 'url': 'http://marvel.com/comics/characters/1010354/adam_warlock?utm_campaign=apiRef&utm_source=e2f3b83c35270fe9a4d95708f6e71dee'}]}, {'id': 1010846, 'name': 'Aegis (Trey Rollins)', 'description': '', 'modified': '1969-12-31T19:00:00-0500', 'thumbnail': {'path': 'http://i.annihil.us/u/prod/marvel/i/mg/5/e0/4c0035c9c425d', 'extension': 'gif'}, 'resourceURI': 'http://gateway.marvel.com/v1/public/characters/1010846', 'comics': {'available': 0, 'collectionURI': 'http://gateway.marvel.com/v1/public/characters/1010846/comics', 'items': [], 'returned': 0}, 'series': {'available': 0, 'collectionURI': 'http://gateway.marvel.com/v1/public/characters/1010846/series', 'items': [], 'returned': 0}, 'stories': {'available': 0, 'collectionURI': 'http://gateway.marvel.com/v1/public/characters/1010846/stories', 'items': [], 'returned': 0}, 'events': {'available': 0, 'collectionURI': 'http://gateway.marvel.com/v1/public/characters/1010846/events', 'items': [], 'returned': 0}, 'urls': [{'type': 'detail', 'url': 'http://marvel.com/characters/95/aegis?utm_campaign=apiRef&utm_source=e2f3b83c35270fe9a4d95708f6e71dee'}, {'type': 'wiki', 'url': 'http://marvel.com/universe/Aegis_%28Trey_Rollins%29?utm_campaign=apiRef&utm_source=e2f3b83c35270fe9a4d95708f6e71dee'}, {'type': 'comiclink', 'url': 'http://marvel.com/comics/characters/1010846/aegis_trey_rollins?utm_campaign=apiRef&utm_source=e2f3b83c35270fe9a4d95708f6e71dee'}]}, {'id': 1011297, 'name': 'Agent Brand', 'description': '', 'modified': '2013-10-24T13:09:30-0400', 'thumbnail': {'path': 'http://i.annihil.us/u/prod/marvel/i/mg/4/60/52695285d6e7e', 'extension': 'jpg'}, 'resourceURI': 'http://gateway.marvel.com/v1/public/characters/1011297', 'comics': {'available': 17, 'collectionURI': 'http://gateway.marvel.com/v1/public/characters/1011297/comics', 'items': [{'resourceURI': 'http://gateway.marvel.com/v1/public/comics/5477', 'name': 'Astonishing X-Men (2004) #19 (Variant)'}, {'resourceURI': 'http://gateway.marvel.com/v1/public/comics/6120', 'name': 'Astonishing X-Men (2004) #21'}, {'resourceURI': 'http://gateway.marvel.com/v1/public/comics/6309', 'name': 'Astonishing X-Men (2004) #22'}, {'resourceURI': 'http://gateway.marvel.com/v1/public/comics/16119', 'name': 'Astonishing X-Men (2004) #23'}, {'resourceURI': 'http://gateway.marvel.com/v1/public/comics/17353', 'name': 'Astonishing X-Men (2004) #24'}, {'resourceURI': 'http://gateway.marvel.com/v1/public/comics/24503', 'name': 'Astonishing X-Men (2004) #32'}, {'resourceURI': 'http://gateway.marvel.com/v1/public/comics/24504', 'name': 'Astonishing X-Men (2004) #33'}, {'resourceURI': 'http://gateway.marvel.com/v1/public/comics/38318', 'name': 'Astonishing X-Men (2004) #38'}, {'resourceURI': 'http://gateway.marvel.com/v1/public/comics/38319', 'name': 'Astonishing X-Men (2004) #40'}, {'resourceURI': 'http://gateway.marvel.com/v1/public/comics/40024', 'name': 'Astonishing X-Men (2004) #40 (I Am Captain America Variant)'}, {'resourceURI': 'http://gateway.marvel.com/v1/public/comics/45950', 'name': 'Cable and X-Force (2012) #8'}, {'resourceURI': 'http://gateway.marvel.com/v1/public/comics/39890', 'name': 'Heralds (Trade Paperback)'}, {'resourceURI': 'http://gateway.marvel.com/v1/public/comics/26232', 'name': 'S.W.O.R.D. (2009) #2'}, {'resourceURI': 'http://gateway.marvel.com/v1/public/comics/26233', 'name': 'S.W.O.R.D. (2009) #3'}, {'resourceURI': 'http://gateway.marvel.com/v1/public/comics/26234', 'name': 'S.W.O.R.D. (2009) #4'}, {'resourceURI': 'http://gateway.marvel.com/v1/public/comics/30518', 'name': 'S.W.O.R.D. (2009) #5'}, {'resourceURI': 'http://gateway.marvel.com/v1/public/comics/61430', 'name': 'The Mighty Captain Marvel (2017) #5'}], 'returned': 17}, 'series': {'available': 5, 'collectionURI': 'http://gateway.marvel.com/v1/public/characters/1011297/series', 'items': [{'resourceURI': 'http://gateway.marvel.com/v1/public/series/744', 'name': 'Astonishing X-Men (2004 - 2013)'}, {'resourceURI': 'http://gateway.marvel.com/v1/public/series/16907', 'name': 'Cable and X-Force (2012 - 2014)'}, {'resourceURI': 'http://gateway.marvel.com/v1/public/series/13065', 'name': 'Heralds (2010)'}, {'resourceURI': 'http://gateway.marvel.com/v1/public/series/8233', 'name': 'S.W.O.R.D. (2009 - 2010)'}, {'resourceURI': 'http://gateway.marvel.com/v1/public/series/22551', 'name': 'The Mighty Captain Marvel (2017 - 2018)'}], 'returned': 5}, 'stories': {'available': 20, 'collectionURI': 'http://gateway.marvel.com/v1/public/characters/1011297/stories', 'items': [{'resourceURI': 'http://gateway.marvel.com/v1/public/stories/3353', 'name': 'Interior #3353', 'type': 'interiorStory'}, {'resourceURI': 'http://gateway.marvel.com/v1/public/stories/7670', 'name': 'ASTONISHING X-MEN (2004) #21', 'type': 'cover'}, {'resourceURI': 'http://gateway.marvel.com/v1/public/stories/8144', 'name': 'ASTONISHING X-MEN (2004) #22', 'type': 'cover'}, {'resourceURI': 'http://gateway.marvel.com/v1/public/stories/32919', 'name': 'ASTONISHING X-MEN (2004) #23', 'type': 'cover'}, {'resourceURI': 'http://gateway.marvel.com/v1/public/stories/36374', 'name': 'ASTONISHING X-MEN (2004) #24', 'type': 'cover'}, {'resourceURI': 'http://gateway.marvel.com/v1/public/stories/54039', 'name': 'ASTONISHING X-MEN (2004) #32', 'type': 'cover'}, {'resourceURI': 'http://gateway.marvel.com/v1/public/stories/54041', 'name': 'ASTONISHING X-MEN (2004) #33', 'type': 'cover'}, {'resourceURI': 'http://gateway.marvel.com/v1/public/stories/57763', 'name': 'S.W.O.R.D. (2009) #2', 'type': 'cover'}, {'resourceURI': 'http://gateway.marvel.com/v1/public/stories/57765', 'name': 'S.W.O.R.D. (2009) #3', 'type': 'cover'}, {'resourceURI': 'http://gateway.marvel.com/v1/public/stories/57767', 'name': 'S.W.O.R.D. (2009) #4', 'type': 'cover'}, {'resourceURI': 'http://gateway.marvel.com/v1/public/stories/69862', 'name': 'S.W.O.R.D. (2009) #5', 'type': 'cover'}, {'resourceURI': 'http://gateway.marvel.com/v1/public/stories/89830', 'name': 'ASTONISHING X-MEN (2004) #38', 'type': 'cover'}, {'resourceURI': 'http://gateway.marvel.com/v1/public/stories/89900', 'name': 'Astonishing X-Men (2004) #38', 'type': 'interiorStory'}, {'resourceURI': 'http://gateway.marvel.com/v1/public/stories/90548', 'name': 'Heralds TPB', 'type': 'cover'}, {'resourceURI': 'http://gateway.marvel.com/v1/public/stories/90819', 'name': 'Interior #90819', 'type': 'interiorStory'}, {'resourceURI': 'http://gateway.marvel.com/v1/public/stories/90853', 'name': ' Interior  Astonishing X-Men (2004) #40', 'type': 'interiorStory'}, {'resourceURI': 'http://gateway.marvel.com/v1/public/stories/90944', 'name': 'ASTONISHING X-MEN (2004) #40', 'type': 'cover'}, {'resourceURI': 'http://gateway.marvel.com/v1/public/stories/103418', 'name': 'Cable and X-Force (2012) #8', 'type': 'cover'}, {'resourceURI': 'http://gateway.marvel.com/v1/public/stories/103419', 'name': 'story from Cable and X-Force (2012) #8', 'type': 'interiorStory'}, {'resourceURI': 'http://gateway.marvel.com/v1/public/stories/133289', 'name': 'cover from Captain Marvel (2016) #5', 'type': 'cover'}], 'returned': 20}, 'events': {'available': 0, 'collectionURI': 'http://gateway.marvel.com/v1/public/characters/1011297/events', 'items': [], 'returned': 0}, 'urls': [{'type': 'detail', 'url': 'http://marvel.com/comics/characters/1011297/agent_brand?utm_campaign=apiRef&utm_source=e2f3b83c35270fe9a4d95708f6e71dee'}, {'type': 'wiki', 'url': 'http://marvel.com/universe/Agent_Brand?utm_campaign=apiRef&utm_source=e2f3b83c35270fe9a4d95708f6e71dee'}, {'type': 'comiclink', 'url': 'http://marvel.com/comics/characters/1011297/agent_brand?utm_campaign=apiRef&utm_source=e2f3b83c35270fe9a4d95708f6e71dee'}]}, {'id': 1011031, 'name': 'Agent X (Nijo)', 'description': \"Originally a partner of the mind-altering assassin Black Swan, Nijo spied on Deadpool as part of the Swan's plan to exact revenge for Deadpool falsely taking credit for the Swan's assassination of the Four Winds crime family, which included Nijo's brother.\", 'modified': '1969-12-31T19:00:00-0500', 'thumbnail': {'path': 'http://i.annihil.us/u/prod/marvel/i/mg/b/40/image_not_available', 'extension': 'jpg'}, 'resourceURI': 'http://gateway.marvel.com/v1/public/characters/1011031', 'comics': {'available': 18, 'collectionURI': 'http://gateway.marvel.com/v1/public/characters/1011031/comics', 'items': [{'resourceURI': 'http://gateway.marvel.com/v1/public/comics/17702', 'name': 'Agent X (2002) #1'}, {'resourceURI': 'http://gateway.marvel.com/v1/public/comics/17709', 'name': 'Agent X (2002) #2'}, {'resourceURI': 'http://gateway.marvel.com/v1/public/comics/17710', 'name': 'Agent X (2002) #3'}, {'resourceURI': 'http://gateway.marvel.com/v1/public/comics/17711', 'name': 'Agent X (2002) #4'}, {'resourceURI': 'http://gateway.marvel.com/v1/public/comics/17712', 'name': 'Agent X (2002) #5'}, {'resourceURI': 'http://gateway.marvel.com/v1/public/comics/17713', 'name': 'Agent X (2002) #6'}, {'resourceURI': 'http://gateway.marvel.com/v1/public/comics/17714', 'name': 'Agent X (2002) #7'}, {'resourceURI': 'http://gateway.marvel.com/v1/public/comics/17715', 'name': 'Agent X (2002) #8'}, {'resourceURI': 'http://gateway.marvel.com/v1/public/comics/17716', 'name': 'Agent X (2002) #9'}, {'resourceURI': 'http://gateway.marvel.com/v1/public/comics/17703', 'name': 'Agent X (2002) #10'}, {'resourceURI': 'http://gateway.marvel.com/v1/public/comics/17704', 'name': 'Agent X (2002) #11'}, {'resourceURI': 'http://gateway.marvel.com/v1/public/comics/17705', 'name': 'Agent X (2002) #12'}, {'resourceURI': 'http://gateway.marvel.com/v1/public/comics/17706', 'name': 'Agent X (2002) #13'}, {'resourceURI': 'http://gateway.marvel.com/v1/public/comics/17707', 'name': 'Agent X (2002) #14'}, {'resourceURI': 'http://gateway.marvel.com/v1/public/comics/394', 'name': 'Agent X (2002) #15'}, {'resourceURI': 'http://gateway.marvel.com/v1/public/comics/1649', 'name': 'Cable & Deadpool (2004) #12'}, {'resourceURI': 'http://gateway.marvel.com/v1/public/comics/21845', 'name': 'Cable & Deadpool (2004) #46 (Zombie Variant)'}, {'resourceURI': 'http://gateway.marvel.com/v1/public/comics/5761', 'name': 'Cable & Deadpool Vol. 2: The Burnt Offering (Trade Paperback)'}], 'returned': 18}, 'series': {'available': 3, 'collectionURI': 'http://gateway.marvel.com/v1/public/characters/1011031/series', 'items': [{'resourceURI': 'http://gateway.marvel.com/v1/public/series/459', 'name': 'Agent X (2002 - 2004)'}, {'resourceURI': 'http://gateway.marvel.com/v1/public/series/693', 'name': 'Cable & Deadpool (2004 - 2008)'}, {'resourceURI': 'http://gateway.marvel.com/v1/public/series/1338', 'name': 'Cable & Deadpool Vol. 2: The Burnt Offering (2007)'}], 'returned': 3}, 'stories': {'available': 23, 'collectionURI': 'http://gateway.marvel.com/v1/public/characters/1011031/stories', 'items': [{'resourceURI': 'http://gateway.marvel.com/v1/public/stories/1135', 'name': 'AGENT X (2002) #15', 'type': 'cover'}, {'resourceURI': 'http://gateway.marvel.com/v1/public/stories/2484', 'name': 'CABLE & DEADPOOL (2004) #12', 'type': 'cover'}, {'resourceURI': 'http://gateway.marvel.com/v1/public/stories/37514', 'name': 'AGENT X (2002) #1', 'type': 'cover'}, {'resourceURI': 'http://gateway.marvel.com/v1/public/stories/37515', 'name': \"Dead Man's Switch Part One\", 'type': 'interiorStory'}, {'resourceURI': 'http://gateway.marvel.com/v1/public/stories/37516', 'name': 'AGENT X (2002) #10', 'type': 'cover'}, {'resourceURI': 'http://gateway.marvel.com/v1/public/stories/37518', 'name': 'AGENT X (2002) #11', 'type': 'cover'}, {'resourceURI': 'http://gateway.marvel.com/v1/public/stories/37521', 'name': 'AGENT X (2002) #13', 'type': 'cover'}, {'resourceURI': 'http://gateway.marvel.com/v1/public/stories/37523', 'name': 'AGENT X (2002) #14', 'type': 'cover'}, {'resourceURI': 'http://gateway.marvel.com/v1/public/stories/37525', 'name': 'AGENT X (2002) #2', 'type': 'cover'}, {'resourceURI': 'http://gateway.marvel.com/v1/public/stories/37526', 'name': \"Dead Man's Switch Part Two\", 'type': 'interiorStory'}, {'resourceURI': 'http://gateway.marvel.com/v1/public/stories/37527', 'name': 'AGENT X (2002) #3', 'type': 'cover'}, {'resourceURI': 'http://gateway.marvel.com/v1/public/stories/37528', 'name': \"Dead Man's Switch Part Three\", 'type': 'interiorStory'}, {'resourceURI': 'http://gateway.marvel.com/v1/public/stories/37529', 'name': 'AGENT X (2002) #4', 'type': 'cover'}, {'resourceURI': 'http://gateway.marvel.com/v1/public/stories/37530', 'name': \"Dead Man's Switch Part Four\", 'type': 'interiorStory'}, {'resourceURI': 'http://gateway.marvel.com/v1/public/stories/37531', 'name': 'AGENT X (2002) #5', 'type': 'cover'}, {'resourceURI': 'http://gateway.marvel.com/v1/public/stories/37532', 'name': \"Dead Man's Switch Part Five\", 'type': 'interiorStory'}, {'resourceURI': 'http://gateway.marvel.com/v1/public/stories/37533', 'name': 'AGENT X (2002) #6', 'type': 'cover'}, {'resourceURI': 'http://gateway.marvel.com/v1/public/stories/37534', 'name': \"Dead Man's Switch Part Six\", 'type': 'interiorStory'}, {'resourceURI': 'http://gateway.marvel.com/v1/public/stories/37535', 'name': 'AGENT X (2002) #7', 'type': 'cover'}, {'resourceURI': 'http://gateway.marvel.com/v1/public/stories/67703', 'name': 'AGENT X (2002) #12', 'type': 'cover'}], 'returned': 20}, 'events': {'available': 0, 'collectionURI': 'http://gateway.marvel.com/v1/public/characters/1011031/events', 'items': [], 'returned': 0}, 'urls': [{'type': 'detail', 'url': 'http://marvel.com/comics/characters/1011031/agent_x_nijo?utm_campaign=apiRef&utm_source=e2f3b83c35270fe9a4d95708f6e71dee'}, {'type': 'wiki', 'url': 'http://marvel.com/universe/Agent_X_(Nijo)?utm_campaign=apiRef&utm_source=e2f3b83c35270fe9a4d95708f6e71dee'}, {'type': 'comiclink', 'url': 'http://marvel.com/comics/characters/1011031/agent_x_nijo?utm_campaign=apiRef&utm_source=e2f3b83c35270fe9a4d95708f6e71dee'}]}, {'id': 1009150, 'name': 'Agent Zero', 'description': '', 'modified': '1969-12-31T19:00:00-0500', 'thumbnail': {'path': 'http://i.annihil.us/u/prod/marvel/i/mg/f/60/4c0042121d790', 'extension': 'jpg'}, 'resourceURI': 'http://gateway.marvel.com/v1/public/characters/1009150', 'comics': {'available': 27, 'collectionURI': 'http://gateway.marvel.com/v1/public/characters/1009150/comics', 'items': [{'resourceURI': 'http://gateway.marvel.com/v1/public/comics/18082', 'name': 'Weapon X (2002) #2'}, {'resourceURI': 'http://gateway.marvel.com/v1/public/comics/18092', 'name': 'Weapon X (2002) #3'}, {'resourceURI': 'http://gateway.marvel.com/v1/public/comics/18074', 'name': 'Weapon X (2002) #12'}, {'resourceURI': 'http://gateway.marvel.com/v1/public/comics/246', 'name': 'Weapon X (2002) #13'}, {'resourceURI': 'http://gateway.marvel.com/v1/public/comics/3357', 'name': 'Weapon X: Days of Future Now (Trade Paperback)'}, {'resourceURI': 'http://gateway.marvel.com/v1/public/comics/2204', 'name': 'Weapon X: Days of Future Now (2005) #1'}, {'resourceURI': 'http://gateway.marvel.com/v1/public/comics/2324', 'name': 'Weapon X: Days of Future Now (2005) #2'}, {'resourceURI': 'http://gateway.marvel.com/v1/public/comics/2438', 'name': 'Weapon X: Days of Future Now (2005) #3'}, {'resourceURI': 'http://gateway.marvel.com/v1/public/comics/2439', 'name': 'Weapon X: Days of Future Now (2005) #4'}, {'resourceURI': 'http://gateway.marvel.com/v1/public/comics/3016', 'name': 'Weapon X: Days of Future Now (2005) #5'}, {'resourceURI': 'http://gateway.marvel.com/v1/public/comics/14182', 'name': 'Wolverine (1988) #60'}, {'resourceURI': 'http://gateway.marvel.com/v1/public/comics/14183', 'name': 'Wolverine (1988) #61'}, {'resourceURI': 'http://gateway.marvel.com/v1/public/comics/14184', 'name': 'Wolverine (1988) #62'}, {'resourceURI': 'http://gateway.marvel.com/v1/public/comics/14185', 'name': 'Wolverine (1988) #63'}, {'resourceURI': 'http://gateway.marvel.com/v1/public/comics/14186', 'name': 'Wolverine (1988) #64'}, {'resourceURI': 'http://gateway.marvel.com/v1/public/comics/14189', 'name': 'Wolverine (1988) #67'}, {'resourceURI': 'http://gateway.marvel.com/v1/public/comics/14190', 'name': 'Wolverine (1988) #68'}, {'resourceURI': 'http://gateway.marvel.com/v1/public/comics/14211', 'name': 'Wolverine (1988) #87'}, {'resourceURI': 'http://gateway.marvel.com/v1/public/comics/14107', 'name': 'Wolverine (1988) #163'}, {'resourceURI': 'http://gateway.marvel.com/v1/public/comics/14110', 'name': 'Wolverine (1988) #166'}], 'returned': 20}, 'series': {'available': 8, 'collectionURI': 'http://gateway.marvel.com/v1/public/characters/1009150/series', 'items': [{'resourceURI': 'http://gateway.marvel.com/v1/public/series/543', 'name': 'Weapon X (2002 - 2004)'}, {'resourceURI': 'http://gateway.marvel.com/v1/public/series/1478', 'name': 'Weapon X: Days of Future Now (2006)'}, {'resourceURI': 'http://gateway.marvel.com/v1/public/series/869', 'name': 'Weapon X: Days of Future Now (2005)'}, {'resourceURI': 'http://gateway.marvel.com/v1/public/series/2262', 'name': 'Wolverine (1988 - 2003)'}, {'resourceURI': 'http://gateway.marvel.com/v1/public/series/84', 'name': 'Wolverine/Deadpool: Weapon X (1999)'}, {'resourceURI': 'http://gateway.marvel.com/v1/public/series/3643', 'name': 'X-Man (1995 - 2000)'}, {'resourceURI': 'http://gateway.marvel.com/v1/public/series/2265', 'name': 'X-Men (1991 - 2001)'}, {'resourceURI': 'http://gateway.marvel.com/v1/public/series/3637', 'name': 'X-Men Unlimited (1993 - 2003)'}], 'returned': 8}, 'stories': {'available': 29, 'collectionURI': 'http://gateway.marvel.com/v1/public/characters/1009150/stories', 'items': [{'resourceURI': 'http://gateway.marvel.com/v1/public/stories/1131', 'name': 'WEAPON X (2002) #13', 'type': 'cover'}, {'resourceURI': 'http://gateway.marvel.com/v1/public/stories/4602', 'name': '1 of 5 - 5XLS', 'type': 'cover'}, {'resourceURI': 'http://gateway.marvel.com/v1/public/stories/4604', 'name': '2 of 5 - 5XLS', 'type': 'cover'}, {'resourceURI': 'http://gateway.marvel.com/v1/public/stories/4606', 'name': '3 of 5 - 5XLS', 'type': 'cover'}, {'resourceURI': 'http://gateway.marvel.com/v1/public/stories/4608', 'name': '4 of 5 - 5XLS', 'type': 'cover'}, {'resourceURI': 'http://gateway.marvel.com/v1/public/stories/4610', 'name': '5 of 5 - 5XLS', 'type': 'cover'}, {'resourceURI': 'http://gateway.marvel.com/v1/public/stories/28706', 'name': 'The Hunted Part 2', 'type': 'interiorStory'}, {'resourceURI': 'http://gateway.marvel.com/v1/public/stories/28712', 'name': 'The Hunted Part 5', 'type': 'interiorStory'}, {'resourceURI': 'http://gateway.marvel.com/v1/public/stories/28738', 'name': 'The Logan Files Epilogue', 'type': 'interiorStory'}, {'resourceURI': 'http://gateway.marvel.com/v1/public/stories/28881', 'name': 'Counting Coup', 'type': 'interiorStory'}, {'resourceURI': 'http://gateway.marvel.com/v1/public/stories/28883', 'name': 'Nightmare Quest!', 'type': 'interiorStory'}, {'resourceURI': 'http://gateway.marvel.com/v1/public/stories/28885', 'name': 'Reunion!', 'type': 'interiorStory'}, {'resourceURI': 'http://gateway.marvel.com/v1/public/stories/28887', 'name': 'Bastions of Glory!', 'type': 'interiorStory'}, {'resourceURI': 'http://gateway.marvel.com/v1/public/stories/28889', 'name': 'What Goes Around...', 'type': 'interiorStory'}, {'resourceURI': 'http://gateway.marvel.com/v1/public/stories/28895', 'name': \"Valley O' Death\", 'type': 'interiorStory'}, {'resourceURI': 'http://gateway.marvel.com/v1/public/stories/28897', 'name': 'Epsilon Red', 'type': 'interiorStory'}, {'resourceURI': 'http://gateway.marvel.com/v1/public/stories/28941', 'name': 'Showdown In Lowtown', 'type': 'interiorStory'}, {'resourceURI': 'http://gateway.marvel.com/v1/public/stories/29125', 'name': 'Last Stand', 'type': 'interiorStory'}, {'resourceURI': 'http://gateway.marvel.com/v1/public/stories/29139', 'name': 'Over...Again', 'type': 'interiorStory'}, {'resourceURI': 'http://gateway.marvel.com/v1/public/stories/38511', 'name': 'Second Contact', 'type': 'interiorStory'}], 'returned': 20}, 'events': {'available': 0, 'collectionURI': 'http://gateway.marvel.com/v1/public/characters/1009150/events', 'items': [], 'returned': 0}, 'urls': [{'type': 'detail', 'url': 'http://marvel.com/comics/characters/1009150/agent_zero?utm_campaign=apiRef&utm_source=e2f3b83c35270fe9a4d95708f6e71dee'}, {'type': 'wiki', 'url': 'http://marvel.com/universe/Agent_Zero?utm_campaign=apiRef&utm_source=e2f3b83c35270fe9a4d95708f6e71dee'}, {'type': 'comiclink', 'url': 'http://marvel.com/comics/characters/1009150/agent_zero?utm_campaign=apiRef&utm_source=e2f3b83c35270fe9a4d95708f6e71dee'}]}, {'id': 1011198, 'name': 'Agents of Atlas', 'description': '', 'modified': '2010-11-17T14:36:25-0500', 'thumbnail': {'path': 'http://i.annihil.us/u/prod/marvel/i/mg/9/a0/4ce18a834b7f5', 'extension': 'jpg'}, 'resourceURI': 'http://gateway.marvel.com/v1/public/characters/1011198', 'comics': {'available': 41, 'collectionURI': 'http://gateway.marvel.com/v1/public/characters/1011198/comics', 'items': [{'resourceURI': 'http://gateway.marvel.com/v1/public/comics/77001', 'name': 'Agents of Atlas (2019) #1'}, {'resourceURI': 'http://gateway.marvel.com/v1/public/comics/23659', 'name': 'Agents of Atlas (2009) #1'}, {'resourceURI': 'http://gateway.marvel.com/v1/public/comics/4801', 'name': 'Agents of Atlas (2006) #1'}, {'resourceURI': 'http://gateway.marvel.com/v1/public/comics/23660', 'name': 'Agents of Atlas (2009) #1 (50/50 COVER)'}, {'resourceURI': 'http://gateway.marvel.com/v1/public/comics/5089', 'name': 'Agents of Atlas (2006) #2'}, {'resourceURI': 'http://gateway.marvel.com/v1/public/comics/23825', 'name': 'Agents of Atlas (2009) #2'}, {'resourceURI': 'http://gateway.marvel.com/v1/public/comics/27402', 'name': 'Agents of Atlas (2009) #2 (BACHALO 2ND PRINTING VARIANT)'}, {'resourceURI': 'http://gateway.marvel.com/v1/public/comics/23824', 'name': 'Agents of Atlas (2009) #2 (MCGUINNESS VARIANT)'}, {'resourceURI': 'http://gateway.marvel.com/v1/public/comics/24015', 'name': 'Agents of Atlas (2009) #3'}, {'resourceURI': 'http://gateway.marvel.com/v1/public/comics/5241', 'name': 'Agents of Atlas (2006) #3'}, {'resourceURI': 'http://gateway.marvel.com/v1/public/comics/24016', 'name': 'Agents of Atlas (2009) #3 (MCGUINNESS VARIANT)'}, {'resourceURI': 'http://gateway.marvel.com/v1/public/comics/24017', 'name': 'Agents of Atlas (2009) #3 (Wolverine Art Appreciation Variant)'}, {'resourceURI': 'http://gateway.marvel.com/v1/public/comics/5404', 'name': 'Agents of Atlas (2006) #4'}, {'resourceURI': 'http://gateway.marvel.com/v1/public/comics/24219', 'name': 'Agents of Atlas (2009) #4'}, {'resourceURI': 'http://gateway.marvel.com/v1/public/comics/5665', 'name': 'Agents of Atlas (2006) #5'}, {'resourceURI': 'http://gateway.marvel.com/v1/public/comics/24221', 'name': 'Agents of Atlas (2009) #5'}, {'resourceURI': 'http://gateway.marvel.com/v1/public/comics/24222', 'name': 'Agents of Atlas (2009) #5 (MCGUINNESS VARIANT)'}, {'resourceURI': 'http://gateway.marvel.com/v1/public/comics/5842', 'name': 'Agents of Atlas (2006) #6'}, {'resourceURI': 'http://gateway.marvel.com/v1/public/comics/24360', 'name': 'Agents of Atlas (2009) #6'}, {'resourceURI': 'http://gateway.marvel.com/v1/public/comics/24361', 'name': 'Agents of Atlas (2009) #7'}], 'returned': 20}, 'series': {'available': 11, 'collectionURI': 'http://gateway.marvel.com/v1/public/characters/1011198/series', 'items': [{'resourceURI': 'http://gateway.marvel.com/v1/public/series/1097', 'name': 'Agents of Atlas (2006 - 2007)'}, {'resourceURI': 'http://gateway.marvel.com/v1/public/series/6807', 'name': 'Agents of Atlas (2009)'}, {'resourceURI': 'http://gateway.marvel.com/v1/public/series/27624', 'name': 'Agents of Atlas (2019)'}, {'resourceURI': 'http://gateway.marvel.com/v1/public/series/1980', 'name': 'AGENTS OF ATLAS PREMIERE HC (2007)'}, {'resourceURI': 'http://gateway.marvel.com/v1/public/series/24134', 'name': 'Agents of Atlas: The Complete Collection Vol. 1 (2018)'}, {'resourceURI': 'http://gateway.marvel.com/v1/public/series/9782', 'name': 'Atlas (2010)'}, {'resourceURI': 'http://gateway.marvel.com/v1/public/series/9181', 'name': 'Avengers Vs. Atlas (2010)'}, {'resourceURI': 'http://gateway.marvel.com/v1/public/series/6415', 'name': 'Dark Reign: New Nation (2008)'}, {'resourceURI': 'http://gateway.marvel.com/v1/public/series/27505', 'name': 'War of the Realms: New Agents of Atlas (2019)'}, {'resourceURI': 'http://gateway.marvel.com/v1/public/series/27374', 'name': 'War Of The Realms: New Agents Of Atlas (2019)'}, {'resourceURI': 'http://gateway.marvel.com/v1/public/series/22365', 'name': 'Wolverine: Prehistory (2017)'}], 'returned': 11}, 'stories': {'available': 48, 'collectionURI': 'http://gateway.marvel.com/v1/public/characters/1011198/stories', 'items': [{'resourceURI': 'http://gateway.marvel.com/v1/public/stories/6008', 'name': '1 of 6 - 6 XLS-', 'type': 'cover'}, {'resourceURI': 'http://gateway.marvel.com/v1/public/stories/6009', 'name': '1 of 6 - 6 XLS-', 'type': 'interiorStory'}, {'resourceURI': 'http://gateway.marvel.com/v1/public/stories/6010', 'name': '2 of 6 - 6 XLS -', 'type': 'cover'}, {'resourceURI': 'http://gateway.marvel.com/v1/public/stories/6011', 'name': '2 of 6 - 6 XLS -', 'type': 'interiorStory'}, {'resourceURI': 'http://gateway.marvel.com/v1/public/stories/6012', 'name': '3 of 6 - 6 XLS -', 'type': 'cover'}, {'resourceURI': 'http://gateway.marvel.com/v1/public/stories/6013', 'name': '3 of 6 - 6 XLS -', 'type': 'interiorStory'}, {'resourceURI': 'http://gateway.marvel.com/v1/public/stories/6014', 'name': '4 of 6 - 6 XLS -', 'type': 'cover'}, {'resourceURI': 'http://gateway.marvel.com/v1/public/stories/6015', 'name': '4 of 6 - 6 XLS -', 'type': 'interiorStory'}, {'resourceURI': 'http://gateway.marvel.com/v1/public/stories/6016', 'name': '5 of 6 - 6 XLS -', 'type': 'cover'}, {'resourceURI': 'http://gateway.marvel.com/v1/public/stories/6017', 'name': '5 of 6 - 6 XLS -', 'type': 'interiorStory'}, {'resourceURI': 'http://gateway.marvel.com/v1/public/stories/6018', 'name': '5 of 6 - Story A - 6XLS', 'type': 'cover'}, {'resourceURI': 'http://gateway.marvel.com/v1/public/stories/6019', 'name': '5 of 6 - Story A - 6XLS', 'type': 'interiorStory'}, {'resourceURI': 'http://gateway.marvel.com/v1/public/stories/51050', 'name': '1 of 1', 'type': 'cover'}, {'resourceURI': 'http://gateway.marvel.com/v1/public/stories/52393', 'name': '1 of 3', 'type': 'interiorStory'}, {'resourceURI': 'http://gateway.marvel.com/v1/public/stories/52395', 'name': '1 of 3', 'type': 'interiorStory'}, {'resourceURI': 'http://gateway.marvel.com/v1/public/stories/52861', 'name': '2 of 3', 'type': 'interiorStory'}, {'resourceURI': 'http://gateway.marvel.com/v1/public/stories/52863', 'name': '2 of 3', 'type': 'interiorStory'}, {'resourceURI': 'http://gateway.marvel.com/v1/public/stories/53263', 'name': '3 of 3', 'type': 'interiorStory'}, {'resourceURI': 'http://gateway.marvel.com/v1/public/stories/53265', 'name': '3 of 3', 'type': 'interiorStory'}, {'resourceURI': 'http://gateway.marvel.com/v1/public/stories/53266', 'name': '3 of 3', 'type': 'interiorStory'}], 'returned': 20}, 'events': {'available': 1, 'collectionURI': 'http://gateway.marvel.com/v1/public/characters/1011198/events', 'items': [{'resourceURI': 'http://gateway.marvel.com/v1/public/events/318', 'name': 'Dark Reign'}], 'returned': 1}, 'urls': [{'type': 'detail', 'url': 'http://marvel.com/comics/characters/1011198/agents_of_atlas?utm_campaign=apiRef&utm_source=e2f3b83c35270fe9a4d95708f6e71dee'}, {'type': 'wiki', 'url': 'http://marvel.com/universe/Agents_of_Atlas?utm_campaign=apiRef&utm_source=e2f3b83c35270fe9a4d95708f6e71dee'}, {'type': 'comiclink', 'url': 'http://marvel.com/comics/characters/1011198/agents_of_atlas?utm_campaign=apiRef&utm_source=e2f3b83c35270fe9a4d95708f6e71dee'}]}, {'id': 1011175, 'name': 'Aginar', 'description': '', 'modified': '1969-12-31T19:00:00-0500', 'thumbnail': {'path': 'http://i.annihil.us/u/prod/marvel/i/mg/b/40/image_not_available', 'extension': 'jpg'}, 'resourceURI': 'http://gateway.marvel.com/v1/public/characters/1011175', 'comics': {'available': 0, 'collectionURI': 'http://gateway.marvel.com/v1/public/characters/1011175/comics', 'items': [], 'returned': 0}, 'series': {'available': 0, 'collectionURI': 'http://gateway.marvel.com/v1/public/characters/1011175/series', 'items': [], 'returned': 0}, 'stories': {'available': 0, 'collectionURI': 'http://gateway.marvel.com/v1/public/characters/1011175/stories', 'items': [], 'returned': 0}, 'events': {'available': 0, 'collectionURI': 'http://gateway.marvel.com/v1/public/characters/1011175/events', 'items': [], 'returned': 0}, 'urls': [{'type': 'detail', 'url': 'http://marvel.com/characters/105/aginar?utm_campaign=apiRef&utm_source=e2f3b83c35270fe9a4d95708f6e71dee'}, {'type': 'wiki', 'url': 'http://marvel.com/universe/Aginar?utm_campaign=apiRef&utm_source=e2f3b83c35270fe9a4d95708f6e71dee'}, {'type': 'comiclink', 'url': 'http://marvel.com/comics/characters/1011175/aginar?utm_campaign=apiRef&utm_source=e2f3b83c35270fe9a4d95708f6e71dee'}]}, {'id': 1011136, 'name': 'Air-Walker (Gabriel Lan)', 'description': '', 'modified': '1969-12-31T19:00:00-0500', 'thumbnail': {'path': 'http://i.annihil.us/u/prod/marvel/i/mg/b/40/image_not_available', 'extension': 'jpg'}, 'resourceURI': 'http://gateway.marvel.com/v1/public/characters/1011136', 'comics': {'available': 4, 'collectionURI': 'http://gateway.marvel.com/v1/public/characters/1011136/comics', 'items': [{'resourceURI': 'http://gateway.marvel.com/v1/public/comics/4108', 'name': 'Annihilation: Silver Surfer (2006) #1'}, {'resourceURI': 'http://gateway.marvel.com/v1/public/comics/5589', 'name': 'Heroes Reborn: Iron Man (Trade Paperback)'}, {'resourceURI': 'http://gateway.marvel.com/v1/public/comics/16330', 'name': 'Iron Man (1996) #11'}, {'resourceURI': 'http://gateway.marvel.com/v1/public/comics/16331', 'name': 'Iron Man (1996) #12'}], 'returned': 4}, 'series': {'available': 3, 'collectionURI': 'http://gateway.marvel.com/v1/public/characters/1011136/series', 'items': [{'resourceURI': 'http://gateway.marvel.com/v1/public/series/1078', 'name': 'Annihilation: Silver Surfer (2006)'}, {'resourceURI': 'http://gateway.marvel.com/v1/public/series/1814', 'name': 'Heroes Reborn: Iron Man (2006)'}, {'resourceURI': 'http://gateway.marvel.com/v1/public/series/13577', 'name': 'Iron Man (1996 - 1998)'}], 'returned': 3}, 'stories': {'available': 3, 'collectionURI': 'http://gateway.marvel.com/v1/public/characters/1011136/stories', 'items': [{'resourceURI': 'http://gateway.marvel.com/v1/public/stories/5925', 'name': 'Annihilation: Silver Surfer (2006) #1', 'type': 'cover'}, {'resourceURI': 'http://gateway.marvel.com/v1/public/stories/34082', 'name': 'Magical Mystery Tour', 'type': 'interiorStory'}, {'resourceURI': 'http://gateway.marvel.com/v1/public/stories/34085', 'name': 'Matters of the Heart', 'type': 'interiorStory'}], 'returned': 3}, 'events': {'available': 1, 'collectionURI': 'http://gateway.marvel.com/v1/public/characters/1011136/events', 'items': [{'resourceURI': 'http://gateway.marvel.com/v1/public/events/229', 'name': 'Annihilation'}], 'returned': 1}, 'urls': [{'type': 'detail', 'url': 'http://marvel.com/comics/characters/1011136/air-walker_gabriel_lan?utm_campaign=apiRef&utm_source=e2f3b83c35270fe9a4d95708f6e71dee'}, {'type': 'wiki', 'url': 'http://marvel.com/universe/Air-Walker_(Gabriel_Lan)?utm_campaign=apiRef&utm_source=e2f3b83c35270fe9a4d95708f6e71dee'}, {'type': 'comiclink', 'url': 'http://marvel.com/comics/characters/1011136/air-walker_gabriel_lan?utm_campaign=apiRef&utm_source=e2f3b83c35270fe9a4d95708f6e71dee'}]}, {'id': 1011176, 'name': 'Ajak', 'description': '', 'modified': '1969-12-31T19:00:00-0500', 'thumbnail': {'path': 'http://i.annihil.us/u/prod/marvel/i/mg/2/80/4c002f35c5215', 'extension': 'jpg'}, 'resourceURI': 'http://gateway.marvel.com/v1/public/characters/1011176', 'comics': {'available': 4, 'collectionURI': 'http://gateway.marvel.com/v1/public/characters/1011176/comics', 'items': [{'resourceURI': 'http://gateway.marvel.com/v1/public/comics/21175', 'name': 'Incredible Hercules (2008) #117'}, {'resourceURI': 'http://gateway.marvel.com/v1/public/comics/21324', 'name': 'Incredible Hercules (2008) #118'}, {'resourceURI': 'http://gateway.marvel.com/v1/public/comics/21505', 'name': 'Incredible Hercules (2008) #119'}, {'resourceURI': 'http://gateway.marvel.com/v1/public/comics/21707', 'name': 'Incredible Hercules (2008) #120'}], 'returned': 4}, 'series': {'available': 1, 'collectionURI': 'http://gateway.marvel.com/v1/public/characters/1011176/series', 'items': [{'resourceURI': 'http://gateway.marvel.com/v1/public/series/3762', 'name': 'Incredible Hercules (2008 - 2010)'}], 'returned': 1}, 'stories': {'available': 8, 'collectionURI': 'http://gateway.marvel.com/v1/public/characters/1011176/stories', 'items': [{'resourceURI': 'http://gateway.marvel.com/v1/public/stories/46776', 'name': 'Incredible Hercules (2008) #117', 'type': 'cover'}, {'resourceURI': 'http://gateway.marvel.com/v1/public/stories/46777', 'name': 'Interior #46777', 'type': 'interiorStory'}, {'resourceURI': 'http://gateway.marvel.com/v1/public/stories/47097', 'name': 'Incredible Hercules (2008) #118', 'type': 'cover'}, {'resourceURI': 'http://gateway.marvel.com/v1/public/stories/47098', 'name': 'Interior #47098', 'type': 'interiorStory'}, {'resourceURI': 'http://gateway.marvel.com/v1/public/stories/47415', 'name': 'Incredible Hercules (2008) #119', 'type': 'cover'}, {'resourceURI': 'http://gateway.marvel.com/v1/public/stories/47416', 'name': '3 of 4 - Secret Invasion', 'type': 'interiorStory'}, {'resourceURI': 'http://gateway.marvel.com/v1/public/stories/47721', 'name': 'Incredible Hercules (2008) #120', 'type': 'cover'}, {'resourceURI': 'http://gateway.marvel.com/v1/public/stories/47722', 'name': '4 of 4 - Secret Invasion', 'type': 'interiorStory'}], 'returned': 8}, 'events': {'available': 1, 'collectionURI': 'http://gateway.marvel.com/v1/public/characters/1011176/events', 'items': [{'resourceURI': 'http://gateway.marvel.com/v1/public/events/269', 'name': 'Secret Invasion'}], 'returned': 1}, 'urls': [{'type': 'detail', 'url': 'http://marvel.com/comics/characters/1011176/ajak?utm_campaign=apiRef&utm_source=e2f3b83c35270fe9a4d95708f6e71dee'}, {'type': 'wiki', 'url': 'http://marvel.com/universe/Ajak?utm_campaign=apiRef&utm_source=e2f3b83c35270fe9a4d95708f6e71dee'}, {'type': 'comiclink', 'url': 'http://marvel.com/comics/characters/1011176/ajak?utm_campaign=apiRef&utm_source=e2f3b83c35270fe9a4d95708f6e71dee'}]}, {'id': 1010870, 'name': 'Ajaxis', 'description': '', 'modified': '1969-12-31T19:00:00-0500', 'thumbnail': {'path': 'http://i.annihil.us/u/prod/marvel/i/mg/b/70/4c0035adc7d3a', 'extension': 'jpg'}, 'resourceURI': 'http://gateway.marvel.com/v1/public/characters/1010870', 'comics': {'available': 0, 'collectionURI': 'http://gateway.marvel.com/v1/public/characters/1010870/comics', 'items': [], 'returned': 0}, 'series': {'available': 0, 'collectionURI': 'http://gateway.marvel.com/v1/public/characters/1010870/series', 'items': [], 'returned': 0}, 'stories': {'available': 0, 'collectionURI': 'http://gateway.marvel.com/v1/public/characters/1010870/stories', 'items': [], 'returned': 0}, 'events': {'available': 0, 'collectionURI': 'http://gateway.marvel.com/v1/public/characters/1010870/events', 'items': [], 'returned': 0}, 'urls': [{'type': 'detail', 'url': 'http://marvel.com/characters/113/ajaxis?utm_campaign=apiRef&utm_source=e2f3b83c35270fe9a4d95708f6e71dee'}, {'type': 'wiki', 'url': 'http://marvel.com/universe/Ajaxis?utm_campaign=apiRef&utm_source=e2f3b83c35270fe9a4d95708f6e71dee'}, {'type': 'comiclink', 'url': 'http://marvel.com/comics/characters/1010870/ajaxis?utm_campaign=apiRef&utm_source=e2f3b83c35270fe9a4d95708f6e71dee'}]}]}}\n",
    "\n",
    "print(data)"
   ]
  },
  {
   "cell_type": "code",
   "execution_count": 86,
   "metadata": {},
   "outputs": [],
   "source": [
    "data = data['data']['results']"
   ]
  },
  {
   "cell_type": "code",
   "execution_count": 117,
   "metadata": {},
   "outputs": [],
   "source": [
    "names = []\n",
    "images = []\n",
    "series = []    \n",
    "for e in data:\n",
    "    names.append(e['name'])\n",
    "    images.append(e['thumbnail']['path'])\n",
    "    series.append(e['series']['items'])"
   ]
  },
  {
   "cell_type": "code",
   "execution_count": 123,
   "metadata": {},
   "outputs": [],
   "source": [
    "images = list(map(lambda x: x + \"/portrait_fantastic.jpg\", images))"
   ]
  },
  {
   "cell_type": "markdown",
   "metadata": {},
   "source": [
    "### ------------------Testing-----------------------"
   ]
  },
  {
   "cell_type": "code",
   "execution_count": 125,
   "metadata": {},
   "outputs": [
    {
     "data": {
      "text/html": [
       "<img src=\"http://i.annihil.us/u/prod/marvel/i/mg/c/e0/535fecbbb9784/portrait_fantastic.jpg\"/>"
      ],
      "text/plain": [
       "<IPython.core.display.Image object>"
      ]
     },
     "metadata": {},
     "output_type": "display_data"
    },
    {
     "data": {
      "text/html": [
       "<img src=\"http://i.annihil.us/u/prod/marvel/i/mg/3/20/5232158de5b16/portrait_fantastic.jpg\"/>"
      ],
      "text/plain": [
       "<IPython.core.display.Image object>"
      ]
     },
     "metadata": {},
     "output_type": "display_data"
    },
    {
     "data": {
      "text/html": [
       "<img src=\"http://i.annihil.us/u/prod/marvel/i/mg/6/20/52602f21f29ec/portrait_fantastic.jpg\"/>"
      ],
      "text/plain": [
       "<IPython.core.display.Image object>"
      ]
     },
     "metadata": {},
     "output_type": "display_data"
    },
    {
     "data": {
      "text/html": [
       "<img src=\"http://i.annihil.us/u/prod/marvel/i/mg/b/40/image_not_available/portrait_fantastic.jpg\"/>"
      ],
      "text/plain": [
       "<IPython.core.display.Image object>"
      ]
     },
     "metadata": {},
     "output_type": "display_data"
    },
    {
     "data": {
      "text/html": [
       "<img src=\"http://i.annihil.us/u/prod/marvel/i/mg/9/50/4ce18691cbf04/portrait_fantastic.jpg\"/>"
      ],
      "text/plain": [
       "<IPython.core.display.Image object>"
      ]
     },
     "metadata": {},
     "output_type": "display_data"
    },
    {
     "data": {
      "text/html": [
       "<img src=\"http://i.annihil.us/u/prod/marvel/i/mg/b/40/image_not_available/portrait_fantastic.jpg\"/>"
      ],
      "text/plain": [
       "<IPython.core.display.Image object>"
      ]
     },
     "metadata": {},
     "output_type": "display_data"
    },
    {
     "data": {
      "text/html": [
       "<img src=\"http://i.annihil.us/u/prod/marvel/i/mg/1/b0/5269678709fb7/portrait_fantastic.jpg\"/>"
      ],
      "text/plain": [
       "<IPython.core.display.Image object>"
      ]
     },
     "metadata": {},
     "output_type": "display_data"
    },
    {
     "data": {
      "text/html": [
       "<img src=\"http://i.annihil.us/u/prod/marvel/i/mg/9/30/535feab462a64/portrait_fantastic.jpg\"/>"
      ],
      "text/plain": [
       "<IPython.core.display.Image object>"
      ]
     },
     "metadata": {},
     "output_type": "display_data"
    },
    {
     "data": {
      "text/html": [
       "<img src=\"http://i.annihil.us/u/prod/marvel/i/mg/3/80/4c00358ec7548/portrait_fantastic.jpg\"/>"
      ],
      "text/plain": [
       "<IPython.core.display.Image object>"
      ]
     },
     "metadata": {},
     "output_type": "display_data"
    },
    {
     "data": {
      "text/html": [
       "<img src=\"http://i.annihil.us/u/prod/marvel/i/mg/b/40/image_not_available/portrait_fantastic.jpg\"/>"
      ],
      "text/plain": [
       "<IPython.core.display.Image object>"
      ]
     },
     "metadata": {},
     "output_type": "display_data"
    },
    {
     "data": {
      "text/html": [
       "<img src=\"http://i.annihil.us/u/prod/marvel/i/mg/a/f0/5202887448860/portrait_fantastic.jpg\"/>"
      ],
      "text/plain": [
       "<IPython.core.display.Image object>"
      ]
     },
     "metadata": {},
     "output_type": "display_data"
    },
    {
     "data": {
      "text/html": [
       "<img src=\"http://i.annihil.us/u/prod/marvel/i/mg/5/e0/4c0035c9c425d/portrait_fantastic.jpg\"/>"
      ],
      "text/plain": [
       "<IPython.core.display.Image object>"
      ]
     },
     "metadata": {},
     "output_type": "display_data"
    },
    {
     "data": {
      "text/html": [
       "<img src=\"http://i.annihil.us/u/prod/marvel/i/mg/4/60/52695285d6e7e/portrait_fantastic.jpg\"/>"
      ],
      "text/plain": [
       "<IPython.core.display.Image object>"
      ]
     },
     "metadata": {},
     "output_type": "display_data"
    },
    {
     "data": {
      "text/html": [
       "<img src=\"http://i.annihil.us/u/prod/marvel/i/mg/b/40/image_not_available/portrait_fantastic.jpg\"/>"
      ],
      "text/plain": [
       "<IPython.core.display.Image object>"
      ]
     },
     "metadata": {},
     "output_type": "display_data"
    },
    {
     "data": {
      "text/html": [
       "<img src=\"http://i.annihil.us/u/prod/marvel/i/mg/f/60/4c0042121d790/portrait_fantastic.jpg\"/>"
      ],
      "text/plain": [
       "<IPython.core.display.Image object>"
      ]
     },
     "metadata": {},
     "output_type": "display_data"
    },
    {
     "data": {
      "text/html": [
       "<img src=\"http://i.annihil.us/u/prod/marvel/i/mg/9/a0/4ce18a834b7f5/portrait_fantastic.jpg\"/>"
      ],
      "text/plain": [
       "<IPython.core.display.Image object>"
      ]
     },
     "metadata": {},
     "output_type": "display_data"
    },
    {
     "data": {
      "text/html": [
       "<img src=\"http://i.annihil.us/u/prod/marvel/i/mg/b/40/image_not_available/portrait_fantastic.jpg\"/>"
      ],
      "text/plain": [
       "<IPython.core.display.Image object>"
      ]
     },
     "metadata": {},
     "output_type": "display_data"
    },
    {
     "data": {
      "text/html": [
       "<img src=\"http://i.annihil.us/u/prod/marvel/i/mg/b/40/image_not_available/portrait_fantastic.jpg\"/>"
      ],
      "text/plain": [
       "<IPython.core.display.Image object>"
      ]
     },
     "metadata": {},
     "output_type": "display_data"
    },
    {
     "data": {
      "text/html": [
       "<img src=\"http://i.annihil.us/u/prod/marvel/i/mg/2/80/4c002f35c5215/portrait_fantastic.jpg\"/>"
      ],
      "text/plain": [
       "<IPython.core.display.Image object>"
      ]
     },
     "metadata": {},
     "output_type": "display_data"
    },
    {
     "data": {
      "text/html": [
       "<img src=\"http://i.annihil.us/u/prod/marvel/i/mg/b/70/4c0035adc7d3a/portrait_fantastic.jpg\"/>"
      ],
      "text/plain": [
       "<IPython.core.display.Image object>"
      ]
     },
     "metadata": {},
     "output_type": "display_data"
    }
   ],
   "source": [
    "from IPython.display import Image\n",
    "from IPython.core.display import HTML \n",
    "for e in images:\n",
    "    display(Image(url=e))"
   ]
  },
  {
   "cell_type": "code",
   "execution_count": 124,
   "metadata": {},
   "outputs": [
    {
     "data": {
      "text/plain": [
       "'http://i.annihil.us/u/prod/marvel/i/mg/c/e0/535fecbbb9784/portrait_fantastic.jpg'"
      ]
     },
     "execution_count": 124,
     "metadata": {},
     "output_type": "execute_result"
    }
   ],
   "source": [
    "images[0]"
   ]
  },
  {
   "cell_type": "code",
   "execution_count": 61,
   "metadata": {},
   "outputs": [],
   "source": [
    "df = pd.read_csv(\"./input/marvel_characters_info.csv\")\n",
    "#Only 35 rows (of a total of 388) have a value in skin color. Since this column is not necessary for the objectives of this work, we are going to remove it. \n",
    "#Publisher column is no longer necessary, since we are keeping only the rows matching \"Marvel Comics\"\n",
    "#The ID on this column will be replaced by the one from the Marvel API. We drop this one.\n",
    "\n"
   ]
  },
  {
   "cell_type": "code",
   "execution_count": 66,
   "metadata": {},
   "outputs": [],
   "source": [
    "dataset = df.loc[:, 'Publisher'] == 'Marvel Comics'"
   ]
  },
  {
   "cell_type": "code",
   "execution_count": null,
   "metadata": {},
   "outputs": [],
   "source": [
    "dataset.drop(['ID','SkinColor', 'Publisher'], axis=1, inplace=True)\n"
   ]
  },
  {
   "cell_type": "code",
   "execution_count": 59,
   "metadata": {},
   "outputs": [
    {
     "ename": "AttributeError",
     "evalue": "'str' object has no attribute 'head'",
     "output_type": "error",
     "traceback": [
      "\u001b[0;31m--------------------------------------------------------------------------\u001b[0m",
      "\u001b[0;31mAttributeError\u001b[0m                           Traceback (most recent call last)",
      "\u001b[0;32m<ipython-input-59-f79d6f5f8e71>\u001b[0m in \u001b[0;36m<module>\u001b[0;34m\u001b[0m\n\u001b[0;32m----> 1\u001b[0;31m \u001b[0mdatast\u001b[0m\u001b[0;34m.\u001b[0m\u001b[0mhead\u001b[0m\u001b[0;34m(\u001b[0m\u001b[0;34m)\u001b[0m\u001b[0;34m\u001b[0m\u001b[0;34m\u001b[0m\u001b[0m\n\u001b[0m",
      "\u001b[0;31mAttributeError\u001b[0m: 'str' object has no attribute 'head'"
     ]
    }
   ],
   "source": [
    "datast.head()"
   ]
  },
  {
   "cell_type": "code",
   "execution_count": 10,
   "metadata": {},
   "outputs": [],
   "source": []
  },
  {
   "cell_type": "code",
   "execution_count": 13,
   "metadata": {},
   "outputs": [],
   "source": []
  },
  {
   "cell_type": "code",
   "execution_count": 17,
   "metadata": {},
   "outputs": [],
   "source": [
    "df2.sort_values(by='comics_count', ascending=False, inplace=True)"
   ]
  },
  {
   "cell_type": "code",
   "execution_count": 18,
   "metadata": {},
   "outputs": [
    {
     "data": {
      "text/html": [
       "<div>\n",
       "<style scoped>\n",
       "    .dataframe tbody tr th:only-of-type {\n",
       "        vertical-align: middle;\n",
       "    }\n",
       "\n",
       "    .dataframe tbody tr th {\n",
       "        vertical-align: top;\n",
       "    }\n",
       "\n",
       "    .dataframe thead th {\n",
       "        text-align: right;\n",
       "    }\n",
       "</style>\n",
       "<table border=\"1\" class=\"dataframe\">\n",
       "  <thead>\n",
       "    <tr style=\"text-align: right;\">\n",
       "      <th></th>\n",
       "      <th>comics_count</th>\n",
       "    </tr>\n",
       "    <tr>\n",
       "      <th>characterID</th>\n",
       "      <th></th>\n",
       "    </tr>\n",
       "  </thead>\n",
       "  <tbody>\n",
       "    <tr>\n",
       "      <th>1009610</th>\n",
       "      <td>3199</td>\n",
       "    </tr>\n",
       "    <tr>\n",
       "      <th>1009726</th>\n",
       "      <td>2997</td>\n",
       "    </tr>\n",
       "    <tr>\n",
       "      <th>1009368</th>\n",
       "      <td>2388</td>\n",
       "    </tr>\n",
       "    <tr>\n",
       "      <th>1009718</th>\n",
       "      <td>2163</td>\n",
       "    </tr>\n",
       "    <tr>\n",
       "      <th>1009220</th>\n",
       "      <td>2040</td>\n",
       "    </tr>\n",
       "    <tr>\n",
       "      <th>...</th>\n",
       "      <td>...</td>\n",
       "    </tr>\n",
       "    <tr>\n",
       "      <th>1009602</th>\n",
       "      <td>1</td>\n",
       "    </tr>\n",
       "    <tr>\n",
       "      <th>1011205</th>\n",
       "      <td>1</td>\n",
       "    </tr>\n",
       "    <tr>\n",
       "      <th>1011375</th>\n",
       "      <td>1</td>\n",
       "    </tr>\n",
       "    <tr>\n",
       "      <th>1009529</th>\n",
       "      <td>1</td>\n",
       "    </tr>\n",
       "    <tr>\n",
       "      <th>1010977</th>\n",
       "      <td>1</td>\n",
       "    </tr>\n",
       "  </tbody>\n",
       "</table>\n",
       "<p>1170 rows × 1 columns</p>\n",
       "</div>"
      ],
      "text/plain": [
       "             comics_count\n",
       "characterID              \n",
       "1009610              3199\n",
       "1009726              2997\n",
       "1009368              2388\n",
       "1009718              2163\n",
       "1009220              2040\n",
       "...                   ...\n",
       "1009602                 1\n",
       "1011205                 1\n",
       "1011375                 1\n",
       "1009529                 1\n",
       "1010977                 1\n",
       "\n",
       "[1170 rows x 1 columns]"
      ]
     },
     "metadata": {},
     "output_type": "display_data"
    }
   ],
   "source": [
    "display(df2)"
   ]
  },
  {
   "cell_type": "code",
   "execution_count": 19,
   "metadata": {},
   "outputs": [],
   "source": [
    "df3 = pd.read_csv(\"./input/characters.csv\")"
   ]
  },
  {
   "cell_type": "code",
   "execution_count": 20,
   "metadata": {},
   "outputs": [
    {
     "data": {
      "text/html": [
       "<div>\n",
       "<style scoped>\n",
       "    .dataframe tbody tr th:only-of-type {\n",
       "        vertical-align: middle;\n",
       "    }\n",
       "\n",
       "    .dataframe tbody tr th {\n",
       "        vertical-align: top;\n",
       "    }\n",
       "\n",
       "    .dataframe thead th {\n",
       "        text-align: right;\n",
       "    }\n",
       "</style>\n",
       "<table border=\"1\" class=\"dataframe\">\n",
       "  <thead>\n",
       "    <tr style=\"text-align: right;\">\n",
       "      <th></th>\n",
       "      <th>characterID</th>\n",
       "      <th>name</th>\n",
       "    </tr>\n",
       "  </thead>\n",
       "  <tbody>\n",
       "    <tr>\n",
       "      <th>0</th>\n",
       "      <td>1009220</td>\n",
       "      <td>Captain America</td>\n",
       "    </tr>\n",
       "    <tr>\n",
       "      <th>1</th>\n",
       "      <td>1010740</td>\n",
       "      <td>Winter Soldier</td>\n",
       "    </tr>\n",
       "    <tr>\n",
       "      <th>2</th>\n",
       "      <td>1009471</td>\n",
       "      <td>Nick Fury</td>\n",
       "    </tr>\n",
       "    <tr>\n",
       "      <th>3</th>\n",
       "      <td>1009552</td>\n",
       "      <td>S.H.I.E.L.D.</td>\n",
       "    </tr>\n",
       "    <tr>\n",
       "      <th>4</th>\n",
       "      <td>1009228</td>\n",
       "      <td>Sharon Carter</td>\n",
       "    </tr>\n",
       "  </tbody>\n",
       "</table>\n",
       "</div>"
      ],
      "text/plain": [
       "   characterID             name\n",
       "0      1009220  Captain America\n",
       "1      1010740   Winter Soldier\n",
       "2      1009471        Nick Fury\n",
       "3      1009552     S.H.I.E.L.D.\n",
       "4      1009228    Sharon Carter"
      ]
     },
     "execution_count": 20,
     "metadata": {},
     "output_type": "execute_result"
    }
   ],
   "source": [
    "df3.head()"
   ]
  },
  {
   "cell_type": "code",
   "execution_count": 38,
   "metadata": {},
   "outputs": [],
   "source": [
    "comics_count = df3.merge(df2,on='characterID')\n",
    "comics_count.rename({'name': 'Name'}, axis=1, inplace=True)"
   ]
  },
  {
   "cell_type": "code",
   "execution_count": 42,
   "metadata": {},
   "outputs": [],
   "source": [
    "dataset = dataset.merge(comics_count, on='Name')"
   ]
  },
  {
   "cell_type": "code",
   "execution_count": 46,
   "metadata": {},
   "outputs": [],
   "source": [
    "dataset.to_csv(\"./output/dataset.csv\")"
   ]
  },
  {
   "cell_type": "code",
   "execution_count": 83,
   "metadata": {},
   "outputs": [],
   "source": [
    "dataset = pd.DataFrame({'A':[1, 2],'Name':['Spider-Man', 'Captain America']})"
   ]
  },
  {
   "cell_type": "code",
   "execution_count": 89,
   "metadata": {},
   "outputs": [],
   "source": [
    "import os\n",
    "import requests\n",
    "import hashlib\n",
    "from dotenv import load_dotenv\n",
    "import time\n",
    "import pandas as pd\n",
    "\n",
    "load_dotenv()\n",
    "\n",
    "#MARVEL API KEYS\n",
    "public_key = os.getenv(\"MARVEL_API_PUBLIC_KEY\")\n",
    "private_key = os.getenv(\"MARVEL_API_PRIVATE_KEY\")\n",
    "\n",
    "#timestamp\n",
    "ts = str(time.time())\n",
    "\n",
    "def hash(ts, public_key, private_key):\n",
    "    #this function builds a hash of the 3 parameters required by Marvel to access their API.\n",
    "    m_hash = hashlib.md5()\n",
    "    ts_str_byte = bytes(ts, 'utf-8')\n",
    "    private_key_byte = bytes(private_key, 'utf-8')\n",
    "    public_key_byte = bytes(public_key, 'utf-8')\n",
    "    m_hash.update(ts_str_byte + private_key_byte + public_key_byte)\n",
    "    return str(m_hash.hexdigest())\n",
    "\n",
    "def MarvelRequest(resource):\n",
    "    #Given a resource, this function makes a call to the Marvel API\n",
    "    url = \"http://gateway.marvel.com/v1/public/characters?name={}\".format(resource)\n",
    "    payload = {\n",
    "        'ts': ts, \n",
    "        'apikey': public_key, \n",
    "        'hash': hash(ts, public_key, private_key)\n",
    "    }\n",
    "    r = requests.get(url, params=payload)\n",
    "    print(r.url)\n",
    "    return r\n",
    "\n",
    "def RequestLoop(dataset):\n",
    "    names = []\n",
    "    images = []\n",
    "    series = []\n",
    "    for e in dataset[\"Name\"]:\n",
    "        answer = MarvelRequest(e).json()\n",
    "        print(\"Request for {} completed\".format(e))\n",
    "        data = answer['data']['results'][0]\n",
    "        names.append(data['name'])\n",
    "        #completing the path of the images: https://developer.marvel.com/documentation/images\n",
    "        images.append(data['thumbnail']['path']+\"/portrait_fantastic.jpg\")\n",
    "        #keeping only the name of the series.\n",
    "        series.append([e['name'] for e in data['series']['items']])\n",
    "    api_dataframe = pd.DataFrame({'Name':names, 'Images':images,'Series':series})\n",
    "    return api_dataframe"
   ]
  },
  {
   "cell_type": "code",
   "execution_count": null,
   "metadata": {},
   "outputs": [],
   "source": []
  },
  {
   "cell_type": "code",
   "execution_count": 90,
   "metadata": {},
   "outputs": [
    {
     "name": "stdout",
     "output_type": "stream",
     "text": [
      "http://gateway.marvel.com/v1/public/characters?name=Spider-Man&ts=1573476143.80785&apikey=e2f3b83c35270fe9a4d95708f6e71dee&hash=c8617eff6ea0edc970d5e4d599abc78a\n",
      "Request for Spider-Man completed\n",
      "http://gateway.marvel.com/v1/public/characters?name=Captain%20America&ts=1573476143.80785&apikey=e2f3b83c35270fe9a4d95708f6e71dee&hash=c8617eff6ea0edc970d5e4d599abc78a\n",
      "Request for Captain America completed\n",
      "['Spider-Man', 'Captain America']\n",
      "['http://i.annihil.us/u/prod/marvel/i/mg/3/50/526548a343e4b/portrait_fantastic.jpg', 'http://i.annihil.us/u/prod/marvel/i/mg/3/50/537ba56d31087/portrait_fantastic.jpg']\n",
      "[['A Year of Marvels (2017)', 'A+X (2012 - 2014)', 'Absolute Carnage (2019 - Present)', 'Absolute Carnage: Symbiote Spider-Man (2019)', 'Actor Presents Spider-Man and the Incredible Hulk (2003)', 'Adventures of Spider-Man (1996 - 1997)', 'Adventures Of Spider-Man: Sinister Intentions (2019)', 'Adventures Of Spider-man: Spectacular Foes (2019)', 'Age of Heroes (2010)', 'AGE OF HEROES TPB (2011)', 'Age of Ultron (2013)', 'Agents of Atlas: The Complete Collection Vol. 1 (2018)', 'Alias (2001 - 2003)', 'Alias Omnibus (2006)', 'Alpha Flight (1983 - 1994)', 'Alpha: Big Time (2013)', 'Amazing Fantasy (1962)', 'Amazing Fantasy (2004 - 2006)', 'Amazing Fantasy (1995 - 1996)', 'Amazing Fantasy 15: Spider-Man! (2011 - 2012)'], ['A+X (2012 - 2014)', 'A-Next (1998 - 1999)', 'Adventures of Captain America (1991 - 1992)', 'Age of Apocalypse (2011 - 2013)', 'Age of Heroes (2010)', 'AGE OF HEROES TPB (2011)', 'Age of X: Universe (2011)', 'All Winners Comics 70th Anniversary Special (2009)', 'All-New Wolverine (2015 - 2018)', 'All-Winners Comics (1941 - 1947)', 'All-Winners Squad: Band of Heroes (2011)', 'Alpha Flight (1983 - 1994)', 'Amazing Spider-Man (1999 - 2013)', 'Amazing Spider-Man Annual (1964 - 2018)', 'Amazing Spider-Man Annual (2012)', 'Amazing Spider-Man Annual (2010)', 'AMAZING SPIDER-MAN VOL. 10: NEW AVENGERS TPB (2005)', 'Annihilators: Earthfall (2011)', 'Ant-Man and the Wasp Adventures (2018)', 'Art of Marvel Movies: The Art of Captain America - The First Avenger (2011 - Present)']]\n"
     ]
    },
    {
     "data": {
      "text/html": [
       "<div>\n",
       "<style scoped>\n",
       "    .dataframe tbody tr th:only-of-type {\n",
       "        vertical-align: middle;\n",
       "    }\n",
       "\n",
       "    .dataframe tbody tr th {\n",
       "        vertical-align: top;\n",
       "    }\n",
       "\n",
       "    .dataframe thead th {\n",
       "        text-align: right;\n",
       "    }\n",
       "</style>\n",
       "<table border=\"1\" class=\"dataframe\">\n",
       "  <thead>\n",
       "    <tr style=\"text-align: right;\">\n",
       "      <th></th>\n",
       "      <th>Name</th>\n",
       "      <th>Images</th>\n",
       "      <th>Series</th>\n",
       "    </tr>\n",
       "  </thead>\n",
       "  <tbody>\n",
       "    <tr>\n",
       "      <th>0</th>\n",
       "      <td>Spider-Man</td>\n",
       "      <td>http://i.annihil.us/u/prod/marvel/i/mg/3/50/52...</td>\n",
       "      <td>[A Year of Marvels (2017), A+X (2012 - 2014), ...</td>\n",
       "    </tr>\n",
       "    <tr>\n",
       "      <th>1</th>\n",
       "      <td>Captain America</td>\n",
       "      <td>http://i.annihil.us/u/prod/marvel/i/mg/3/50/53...</td>\n",
       "      <td>[A+X (2012 - 2014), A-Next (1998 - 1999), Adve...</td>\n",
       "    </tr>\n",
       "  </tbody>\n",
       "</table>\n",
       "</div>"
      ],
      "text/plain": [
       "              Name                                             Images  \\\n",
       "0       Spider-Man  http://i.annihil.us/u/prod/marvel/i/mg/3/50/52...   \n",
       "1  Captain America  http://i.annihil.us/u/prod/marvel/i/mg/3/50/53...   \n",
       "\n",
       "                                              Series  \n",
       "0  [A Year of Marvels (2017), A+X (2012 - 2014), ...  \n",
       "1  [A+X (2012 - 2014), A-Next (1998 - 1999), Adve...  "
      ]
     },
     "execution_count": 90,
     "metadata": {},
     "output_type": "execute_result"
    }
   ],
   "source": [
    "RequestLoop(dataset)"
   ]
  },
  {
   "cell_type": "code",
   "execution_count": 84,
   "metadata": {},
   "outputs": [
    {
     "name": "stdout",
     "output_type": "stream",
     "text": [
      "[['A Year of Marvels (2017)', 'A+X (2012 - 2014)', 'Absolute Carnage (2019 - Present)', 'Absolute Carnage: Symbiote Spider-Man (2019)', 'Actor Presents Spider-Man and the Incredible Hulk (2003)', 'Adventures of Spider-Man (1996 - 1997)', 'Adventures Of Spider-Man: Sinister Intentions (2019)', 'Adventures Of Spider-man: Spectacular Foes (2019)', 'Age of Heroes (2010)', 'AGE OF HEROES TPB (2011)', 'Age of Ultron (2013)', 'Agents of Atlas: The Complete Collection Vol. 1 (2018)', 'Alias (2001 - 2003)', 'Alias Omnibus (2006)', 'Alpha Flight (1983 - 1994)', 'Alpha: Big Time (2013)', 'Amazing Fantasy (1962)', 'Amazing Fantasy (2004 - 2006)', 'Amazing Fantasy (1995 - 1996)', 'Amazing Fantasy 15: Spider-Man! (2011 - 2012)']]\n"
     ]
    }
   ],
   "source": [
    "print(series)"
   ]
  },
  {
   "cell_type": "code",
   "execution_count": 79,
   "metadata": {},
   "outputs": [
    {
     "name": "stdout",
     "output_type": "stream",
     "text": [
      "[['A Year of Marvels (2017)', 'A+X (2012 - 2014)', 'Absolute Carnage (2019 - Present)', 'Absolute Carnage: Symbiote Spider-Man (2019)', 'Actor Presents Spider-Man and the Incredible Hulk (2003)', 'Adventures of Spider-Man (1996 - 1997)', 'Adventures Of Spider-Man: Sinister Intentions (2019)', 'Adventures Of Spider-man: Spectacular Foes (2019)', 'Age of Heroes (2010)', 'AGE OF HEROES TPB (2011)', 'Age of Ultron (2013)', 'Agents of Atlas: The Complete Collection Vol. 1 (2018)', 'Alias (2001 - 2003)', 'Alias Omnibus (2006)', 'Alpha Flight (1983 - 1994)', 'Alpha: Big Time (2013)', 'Amazing Fantasy (1962)', 'Amazing Fantasy (2004 - 2006)', 'Amazing Fantasy (1995 - 1996)', 'Amazing Fantasy 15: Spider-Man! (2011 - 2012)']]\n"
     ]
    }
   ],
   "source": [
    "series = []\n",
    "series.append([e['name'] for e in data['series']['items']])\n",
    "print(series)"
   ]
  },
  {
   "cell_type": "code",
   "execution_count": 100,
   "metadata": {},
   "outputs": [],
   "source": [
    "data = pd.read_csv('./output/dataset.csv')"
   ]
  },
  {
   "cell_type": "code",
   "execution_count": 101,
   "metadata": {},
   "outputs": [
    {
     "data": {
      "text/plain": [
       "Spider-Man     3\n",
       "Toxin          2\n",
       "Nova           2\n",
       "Blizzard       2\n",
       "Namor          2\n",
       "              ..\n",
       "Cable          1\n",
       "Taskmaster     1\n",
       "Morph          1\n",
       "Yellow Claw    1\n",
       "Electro        1\n",
       "Name: Name, Length: 214, dtype: int64"
      ]
     },
     "metadata": {},
     "output_type": "display_data"
    }
   ],
   "source": [
    "display(data['Name'].value_counts())"
   ]
  },
  {
   "cell_type": "code",
   "execution_count": 107,
   "metadata": {},
   "outputs": [
    {
     "ename": "KeyError",
     "evalue": "'[False False False False False False False False False False False False\\n False False False False False False False False False False  True False\\n False False False False False False False False False False False False\\n False False False False False False False False False False False False\\n False False False False False False False False False False False False\\n False False False False False False False False False False False False\\n False False False False False False False False False False False False\\n False False False False False False False False False False False False\\n False False  True False False False False False False False False False\\n False False False False False False False False False False False False\\n False False False False False False False False False False False False\\n False False False False False False False False False False False  True\\n False False False False False False False  True False False False False\\n False False False False False False False False False False False False\\n False False False False False False False False False False False False\\n False False False False False False False  True  True False False False\\n False False False False False False False False False False False False\\n False False  True False False False  True False False False False False\\n False False False False False False] not found in axis'",
     "output_type": "error",
     "traceback": [
      "\u001b[0;31m---------------------------------------------------------------------------\u001b[0m",
      "\u001b[0;31mKeyError\u001b[0m                                  Traceback (most recent call last)",
      "\u001b[0;32m<ipython-input-107-da38beab0796>\u001b[0m in \u001b[0;36m<module>\u001b[0;34m\u001b[0m\n\u001b[0;32m----> 1\u001b[0;31m \u001b[0mdata\u001b[0m\u001b[0;34m.\u001b[0m\u001b[0mdrop\u001b[0m\u001b[0;34m(\u001b[0m\u001b[0mdata\u001b[0m\u001b[0;34m[\u001b[0m\u001b[0;34m'duplicates'\u001b[0m\u001b[0;34m]\u001b[0m \u001b[0;34m==\u001b[0m \u001b[0;32mTrue\u001b[0m\u001b[0;34m)\u001b[0m\u001b[0;34m\u001b[0m\u001b[0;34m\u001b[0m\u001b[0m\n\u001b[0m",
      "\u001b[0;32m/usr/local/lib/python3.6/dist-packages/pandas/core/frame.py\u001b[0m in \u001b[0;36mdrop\u001b[0;34m(self, labels, axis, index, columns, level, inplace, errors)\u001b[0m\n\u001b[1;32m   4115\u001b[0m             \u001b[0mlevel\u001b[0m\u001b[0;34m=\u001b[0m\u001b[0mlevel\u001b[0m\u001b[0;34m,\u001b[0m\u001b[0;34m\u001b[0m\u001b[0;34m\u001b[0m\u001b[0m\n\u001b[1;32m   4116\u001b[0m             \u001b[0minplace\u001b[0m\u001b[0;34m=\u001b[0m\u001b[0minplace\u001b[0m\u001b[0;34m,\u001b[0m\u001b[0;34m\u001b[0m\u001b[0;34m\u001b[0m\u001b[0m\n\u001b[0;32m-> 4117\u001b[0;31m             \u001b[0merrors\u001b[0m\u001b[0;34m=\u001b[0m\u001b[0merrors\u001b[0m\u001b[0;34m,\u001b[0m\u001b[0;34m\u001b[0m\u001b[0;34m\u001b[0m\u001b[0m\n\u001b[0m\u001b[1;32m   4118\u001b[0m         )\n\u001b[1;32m   4119\u001b[0m \u001b[0;34m\u001b[0m\u001b[0m\n",
      "\u001b[0;32m/usr/local/lib/python3.6/dist-packages/pandas/core/generic.py\u001b[0m in \u001b[0;36mdrop\u001b[0;34m(self, labels, axis, index, columns, level, inplace, errors)\u001b[0m\n\u001b[1;32m   3912\u001b[0m         \u001b[0;32mfor\u001b[0m \u001b[0maxis\u001b[0m\u001b[0;34m,\u001b[0m \u001b[0mlabels\u001b[0m \u001b[0;32min\u001b[0m \u001b[0maxes\u001b[0m\u001b[0;34m.\u001b[0m\u001b[0mitems\u001b[0m\u001b[0;34m(\u001b[0m\u001b[0;34m)\u001b[0m\u001b[0;34m:\u001b[0m\u001b[0;34m\u001b[0m\u001b[0;34m\u001b[0m\u001b[0m\n\u001b[1;32m   3913\u001b[0m             \u001b[0;32mif\u001b[0m \u001b[0mlabels\u001b[0m \u001b[0;32mis\u001b[0m \u001b[0;32mnot\u001b[0m \u001b[0;32mNone\u001b[0m\u001b[0;34m:\u001b[0m\u001b[0;34m\u001b[0m\u001b[0;34m\u001b[0m\u001b[0m\n\u001b[0;32m-> 3914\u001b[0;31m                 \u001b[0mobj\u001b[0m \u001b[0;34m=\u001b[0m \u001b[0mobj\u001b[0m\u001b[0;34m.\u001b[0m\u001b[0m_drop_axis\u001b[0m\u001b[0;34m(\u001b[0m\u001b[0mlabels\u001b[0m\u001b[0;34m,\u001b[0m \u001b[0maxis\u001b[0m\u001b[0;34m,\u001b[0m \u001b[0mlevel\u001b[0m\u001b[0;34m=\u001b[0m\u001b[0mlevel\u001b[0m\u001b[0;34m,\u001b[0m \u001b[0merrors\u001b[0m\u001b[0;34m=\u001b[0m\u001b[0merrors\u001b[0m\u001b[0;34m)\u001b[0m\u001b[0;34m\u001b[0m\u001b[0;34m\u001b[0m\u001b[0m\n\u001b[0m\u001b[1;32m   3915\u001b[0m \u001b[0;34m\u001b[0m\u001b[0m\n\u001b[1;32m   3916\u001b[0m         \u001b[0;32mif\u001b[0m \u001b[0minplace\u001b[0m\u001b[0;34m:\u001b[0m\u001b[0;34m\u001b[0m\u001b[0;34m\u001b[0m\u001b[0m\n",
      "\u001b[0;32m/usr/local/lib/python3.6/dist-packages/pandas/core/generic.py\u001b[0m in \u001b[0;36m_drop_axis\u001b[0;34m(self, labels, axis, level, errors)\u001b[0m\n\u001b[1;32m   3944\u001b[0m                 \u001b[0mnew_axis\u001b[0m \u001b[0;34m=\u001b[0m \u001b[0maxis\u001b[0m\u001b[0;34m.\u001b[0m\u001b[0mdrop\u001b[0m\u001b[0;34m(\u001b[0m\u001b[0mlabels\u001b[0m\u001b[0;34m,\u001b[0m \u001b[0mlevel\u001b[0m\u001b[0;34m=\u001b[0m\u001b[0mlevel\u001b[0m\u001b[0;34m,\u001b[0m \u001b[0merrors\u001b[0m\u001b[0;34m=\u001b[0m\u001b[0merrors\u001b[0m\u001b[0;34m)\u001b[0m\u001b[0;34m\u001b[0m\u001b[0;34m\u001b[0m\u001b[0m\n\u001b[1;32m   3945\u001b[0m             \u001b[0;32melse\u001b[0m\u001b[0;34m:\u001b[0m\u001b[0;34m\u001b[0m\u001b[0;34m\u001b[0m\u001b[0m\n\u001b[0;32m-> 3946\u001b[0;31m                 \u001b[0mnew_axis\u001b[0m \u001b[0;34m=\u001b[0m \u001b[0maxis\u001b[0m\u001b[0;34m.\u001b[0m\u001b[0mdrop\u001b[0m\u001b[0;34m(\u001b[0m\u001b[0mlabels\u001b[0m\u001b[0;34m,\u001b[0m \u001b[0merrors\u001b[0m\u001b[0;34m=\u001b[0m\u001b[0merrors\u001b[0m\u001b[0;34m)\u001b[0m\u001b[0;34m\u001b[0m\u001b[0;34m\u001b[0m\u001b[0m\n\u001b[0m\u001b[1;32m   3947\u001b[0m             \u001b[0mresult\u001b[0m \u001b[0;34m=\u001b[0m \u001b[0mself\u001b[0m\u001b[0;34m.\u001b[0m\u001b[0mreindex\u001b[0m\u001b[0;34m(\u001b[0m\u001b[0;34m**\u001b[0m\u001b[0;34m{\u001b[0m\u001b[0maxis_name\u001b[0m\u001b[0;34m:\u001b[0m \u001b[0mnew_axis\u001b[0m\u001b[0;34m}\u001b[0m\u001b[0;34m)\u001b[0m\u001b[0;34m\u001b[0m\u001b[0;34m\u001b[0m\u001b[0m\n\u001b[1;32m   3948\u001b[0m \u001b[0;34m\u001b[0m\u001b[0m\n",
      "\u001b[0;32m/usr/local/lib/python3.6/dist-packages/pandas/core/indexes/base.py\u001b[0m in \u001b[0;36mdrop\u001b[0;34m(self, labels, errors)\u001b[0m\n\u001b[1;32m   5338\u001b[0m         \u001b[0;32mif\u001b[0m \u001b[0mmask\u001b[0m\u001b[0;34m.\u001b[0m\u001b[0many\u001b[0m\u001b[0;34m(\u001b[0m\u001b[0;34m)\u001b[0m\u001b[0;34m:\u001b[0m\u001b[0;34m\u001b[0m\u001b[0;34m\u001b[0m\u001b[0m\n\u001b[1;32m   5339\u001b[0m             \u001b[0;32mif\u001b[0m \u001b[0merrors\u001b[0m \u001b[0;34m!=\u001b[0m \u001b[0;34m\"ignore\"\u001b[0m\u001b[0;34m:\u001b[0m\u001b[0;34m\u001b[0m\u001b[0;34m\u001b[0m\u001b[0m\n\u001b[0;32m-> 5340\u001b[0;31m                 \u001b[0;32mraise\u001b[0m \u001b[0mKeyError\u001b[0m\u001b[0;34m(\u001b[0m\u001b[0;34m\"{} not found in axis\"\u001b[0m\u001b[0;34m.\u001b[0m\u001b[0mformat\u001b[0m\u001b[0;34m(\u001b[0m\u001b[0mlabels\u001b[0m\u001b[0;34m[\u001b[0m\u001b[0mmask\u001b[0m\u001b[0;34m]\u001b[0m\u001b[0;34m)\u001b[0m\u001b[0;34m)\u001b[0m\u001b[0;34m\u001b[0m\u001b[0;34m\u001b[0m\u001b[0m\n\u001b[0m\u001b[1;32m   5341\u001b[0m             \u001b[0mindexer\u001b[0m \u001b[0;34m=\u001b[0m \u001b[0mindexer\u001b[0m\u001b[0;34m[\u001b[0m\u001b[0;34m~\u001b[0m\u001b[0mmask\u001b[0m\u001b[0;34m]\u001b[0m\u001b[0;34m\u001b[0m\u001b[0;34m\u001b[0m\u001b[0m\n\u001b[1;32m   5342\u001b[0m         \u001b[0;32mreturn\u001b[0m \u001b[0mself\u001b[0m\u001b[0;34m.\u001b[0m\u001b[0mdelete\u001b[0m\u001b[0;34m(\u001b[0m\u001b[0mindexer\u001b[0m\u001b[0;34m)\u001b[0m\u001b[0;34m\u001b[0m\u001b[0;34m\u001b[0m\u001b[0m\n",
      "\u001b[0;31mKeyError\u001b[0m: '[False False False False False False False False False False False False\\n False False False False False False False False False False  True False\\n False False False False False False False False False False False False\\n False False False False False False False False False False False False\\n False False False False False False False False False False False False\\n False False False False False False False False False False False False\\n False False False False False False False False False False False False\\n False False False False False False False False False False False False\\n False False  True False False False False False False False False False\\n False False False False False False False False False False False False\\n False False False False False False False False False False False False\\n False False False False False False False False False False False  True\\n False False False False False False False  True False False False False\\n False False False False False False False False False False False False\\n False False False False False False False False False False False False\\n False False False False False False False  True  True False False False\\n False False False False False False False False False False False False\\n False False  True False False False  True False False False False False\\n False False False False False False] not found in axis'"
     ]
    }
   ],
   "source": [
    "\n",
    "data['duplicates'] == "
   ]
  },
  {
   "cell_type": "code",
   "execution_count": 106,
   "metadata": {},
   "outputs": [
    {
     "data": {
      "text/html": [
       "<div>\n",
       "<style scoped>\n",
       "    .dataframe tbody tr th:only-of-type {\n",
       "        vertical-align: middle;\n",
       "    }\n",
       "\n",
       "    .dataframe tbody tr th {\n",
       "        vertical-align: top;\n",
       "    }\n",
       "\n",
       "    .dataframe thead th {\n",
       "        text-align: right;\n",
       "    }\n",
       "</style>\n",
       "<table border=\"1\" class=\"dataframe\">\n",
       "  <thead>\n",
       "    <tr style=\"text-align: right;\">\n",
       "      <th></th>\n",
       "      <th>Unnamed: 0</th>\n",
       "      <th>Name</th>\n",
       "      <th>Alignment</th>\n",
       "      <th>Gender</th>\n",
       "      <th>EyeColor</th>\n",
       "      <th>Race</th>\n",
       "      <th>HairColor</th>\n",
       "      <th>Height</th>\n",
       "      <th>Weight</th>\n",
       "      <th>characterID</th>\n",
       "      <th>comics_count</th>\n",
       "      <th>duplicates</th>\n",
       "    </tr>\n",
       "  </thead>\n",
       "  <tbody>\n",
       "    <tr>\n",
       "      <th>0</th>\n",
       "      <td>0</td>\n",
       "      <td>Absorbing Man</td>\n",
       "      <td>bad</td>\n",
       "      <td>Male</td>\n",
       "      <td>blue</td>\n",
       "      <td>Human</td>\n",
       "      <td>No Hair</td>\n",
       "      <td>193.0</td>\n",
       "      <td>122.0</td>\n",
       "      <td>1009148</td>\n",
       "      <td>69</td>\n",
       "      <td>False</td>\n",
       "    </tr>\n",
       "    <tr>\n",
       "      <th>1</th>\n",
       "      <td>1</td>\n",
       "      <td>Agent Zero</td>\n",
       "      <td>good</td>\n",
       "      <td>Male</td>\n",
       "      <td>-</td>\n",
       "      <td>-</td>\n",
       "      <td>-</td>\n",
       "      <td>191.0</td>\n",
       "      <td>104.0</td>\n",
       "      <td>1009150</td>\n",
       "      <td>24</td>\n",
       "      <td>False</td>\n",
       "    </tr>\n",
       "    <tr>\n",
       "      <th>2</th>\n",
       "      <td>2</td>\n",
       "      <td>Annihilus</td>\n",
       "      <td>bad</td>\n",
       "      <td>Male</td>\n",
       "      <td>green</td>\n",
       "      <td>-</td>\n",
       "      <td>No Hair</td>\n",
       "      <td>180.0</td>\n",
       "      <td>90.0</td>\n",
       "      <td>1009154</td>\n",
       "      <td>59</td>\n",
       "      <td>False</td>\n",
       "    </tr>\n",
       "    <tr>\n",
       "      <th>3</th>\n",
       "      <td>3</td>\n",
       "      <td>Apocalypse</td>\n",
       "      <td>bad</td>\n",
       "      <td>Male</td>\n",
       "      <td>red</td>\n",
       "      <td>Mutant</td>\n",
       "      <td>Black</td>\n",
       "      <td>213.0</td>\n",
       "      <td>135.0</td>\n",
       "      <td>1009156</td>\n",
       "      <td>86</td>\n",
       "      <td>False</td>\n",
       "    </tr>\n",
       "    <tr>\n",
       "      <th>4</th>\n",
       "      <td>4</td>\n",
       "      <td>Arachne</td>\n",
       "      <td>good</td>\n",
       "      <td>Female</td>\n",
       "      <td>blue</td>\n",
       "      <td>Human</td>\n",
       "      <td>Blond</td>\n",
       "      <td>175.0</td>\n",
       "      <td>63.0</td>\n",
       "      <td>1010773</td>\n",
       "      <td>6</td>\n",
       "      <td>False</td>\n",
       "    </tr>\n",
       "    <tr>\n",
       "      <th>...</th>\n",
       "      <td>...</td>\n",
       "      <td>...</td>\n",
       "      <td>...</td>\n",
       "      <td>...</td>\n",
       "      <td>...</td>\n",
       "      <td>...</td>\n",
       "      <td>...</td>\n",
       "      <td>...</td>\n",
       "      <td>...</td>\n",
       "      <td>...</td>\n",
       "      <td>...</td>\n",
       "      <td>...</td>\n",
       "    </tr>\n",
       "    <tr>\n",
       "      <th>217</th>\n",
       "      <td>217</td>\n",
       "      <td>Wolverine</td>\n",
       "      <td>good</td>\n",
       "      <td>Male</td>\n",
       "      <td>blue</td>\n",
       "      <td>Mutant</td>\n",
       "      <td>Black</td>\n",
       "      <td>160.0</td>\n",
       "      <td>135.0</td>\n",
       "      <td>1009718</td>\n",
       "      <td>2163</td>\n",
       "      <td>False</td>\n",
       "    </tr>\n",
       "    <tr>\n",
       "      <th>218</th>\n",
       "      <td>218</td>\n",
       "      <td>Wonder Man</td>\n",
       "      <td>good</td>\n",
       "      <td>Male</td>\n",
       "      <td>red</td>\n",
       "      <td>-</td>\n",
       "      <td>Black</td>\n",
       "      <td>188.0</td>\n",
       "      <td>171.0</td>\n",
       "      <td>1009719</td>\n",
       "      <td>225</td>\n",
       "      <td>False</td>\n",
       "    </tr>\n",
       "    <tr>\n",
       "      <th>219</th>\n",
       "      <td>219</td>\n",
       "      <td>X-23</td>\n",
       "      <td>good</td>\n",
       "      <td>Female</td>\n",
       "      <td>green</td>\n",
       "      <td>Mutant / Clone</td>\n",
       "      <td>Black</td>\n",
       "      <td>155.0</td>\n",
       "      <td>50.0</td>\n",
       "      <td>1009722</td>\n",
       "      <td>176</td>\n",
       "      <td>False</td>\n",
       "    </tr>\n",
       "    <tr>\n",
       "      <th>220</th>\n",
       "      <td>220</td>\n",
       "      <td>X-Man</td>\n",
       "      <td>good</td>\n",
       "      <td>Male</td>\n",
       "      <td>blue</td>\n",
       "      <td>-</td>\n",
       "      <td>Brown</td>\n",
       "      <td>175.0</td>\n",
       "      <td>61.0</td>\n",
       "      <td>1009725</td>\n",
       "      <td>105</td>\n",
       "      <td>False</td>\n",
       "    </tr>\n",
       "    <tr>\n",
       "      <th>221</th>\n",
       "      <td>221</td>\n",
       "      <td>Yellow Claw</td>\n",
       "      <td>bad</td>\n",
       "      <td>Male</td>\n",
       "      <td>blue</td>\n",
       "      <td>-</td>\n",
       "      <td>No Hair</td>\n",
       "      <td>188.0</td>\n",
       "      <td>95.0</td>\n",
       "      <td>1009736</td>\n",
       "      <td>22</td>\n",
       "      <td>False</td>\n",
       "    </tr>\n",
       "  </tbody>\n",
       "</table>\n",
       "<p>222 rows × 12 columns</p>\n",
       "</div>"
      ],
      "text/plain": [
       "     Unnamed: 0           Name Alignment  Gender EyeColor            Race  \\\n",
       "0             0  Absorbing Man       bad    Male     blue           Human   \n",
       "1             1     Agent Zero      good    Male        -               -   \n",
       "2             2      Annihilus       bad    Male    green               -   \n",
       "3             3     Apocalypse       bad    Male      red          Mutant   \n",
       "4             4        Arachne      good  Female     blue           Human   \n",
       "..          ...            ...       ...     ...      ...             ...   \n",
       "217         217      Wolverine      good    Male     blue          Mutant   \n",
       "218         218     Wonder Man      good    Male      red               -   \n",
       "219         219           X-23      good  Female    green  Mutant / Clone   \n",
       "220         220          X-Man      good    Male     blue               -   \n",
       "221         221    Yellow Claw       bad    Male     blue               -   \n",
       "\n",
       "    HairColor  Height  Weight  characterID  comics_count  duplicates  \n",
       "0     No Hair   193.0   122.0      1009148            69       False  \n",
       "1           -   191.0   104.0      1009150            24       False  \n",
       "2     No Hair   180.0    90.0      1009154            59       False  \n",
       "3       Black   213.0   135.0      1009156            86       False  \n",
       "4       Blond   175.0    63.0      1010773             6       False  \n",
       "..        ...     ...     ...          ...           ...         ...  \n",
       "217     Black   160.0   135.0      1009718          2163       False  \n",
       "218     Black   188.0   171.0      1009719           225       False  \n",
       "219     Black   155.0    50.0      1009722           176       False  \n",
       "220     Brown   175.0    61.0      1009725           105       False  \n",
       "221   No Hair   188.0    95.0      1009736            22       False  \n",
       "\n",
       "[222 rows x 12 columns]"
      ]
     },
     "execution_count": 106,
     "metadata": {},
     "output_type": "execute_result"
    }
   ],
   "source": [
    "data"
   ]
  }
 ],
 "metadata": {
  "kernelspec": {
   "display_name": "Python 3",
   "language": "python",
   "name": "python3"
  },
  "language_info": {
   "codemirror_mode": {
    "name": "ipython",
    "version": 3
   },
   "file_extension": ".py",
   "mimetype": "text/x-python",
   "name": "python",
   "nbconvert_exporter": "python",
   "pygments_lexer": "ipython3",
   "version": "3.6.8"
  }
 },
 "nbformat": 4,
 "nbformat_minor": 2
}
