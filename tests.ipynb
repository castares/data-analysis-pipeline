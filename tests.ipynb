{
 "cells": [
  {
   "cell_type": "markdown",
   "metadata": {},
   "source": [
    "# Scrapping the Previews"
   ]
  },
  {
   "cell_type": "code",
   "execution_count": 65,
   "metadata": {},
   "outputs": [],
   "source": [
    "import os\n",
    "from bs4 import BeautifulSoup\n",
    "import requests\n",
    "import pandas as pd"
   ]
  },
  {
   "cell_type": "code",
   "execution_count": 73,
   "metadata": {},
   "outputs": [],
   "source": [
    "url = 'https://previewsworld.com/Catalog?batch=NOV19&pub=MARVEL%20COMICS'"
   ]
  },
  {
   "cell_type": "code",
   "execution_count": 75,
   "metadata": {},
   "outputs": [],
   "source": [
    "def cooksoup(url):\n",
    "    html = requests.get(url).text\n",
    "    return BeautifulSoup(html, 'html.parser')"
   ]
  },
  {
   "cell_type": "code",
   "execution_count": null,
   "metadata": {},
   "outputs": [],
   "source": [
    "items = soup.find_all(\"div\", {\"class\": \"nrgIC\"})"
   ]
  },
  {
   "cell_type": "code",
   "execution_count": 55,
   "metadata": {},
   "outputs": [
    {
     "name": "stdout",
     "output_type": "stream",
     "text": [
      "['NOV190064', 'IMAGE COMICS', '', 'SPACE BANDITS TP (MR)', '$16.99']\n"
     ]
    }
   ],
   "source": [
    "print(items[15].text.strip().split('\\n'))"
   ]
  },
  {
   "cell_type": "code",
   "execution_count": 72,
   "metadata": {},
   "outputs": [
    {
     "data": {
      "text/plain": [
       "(2805, 5)"
      ]
     },
     "execution_count": 72,
     "metadata": {},
     "output_type": "execute_result"
    }
   ],
   "source": [
    "\n",
    "lst= []\n",
    "for e in items:\n",
    "    lst.append(e.text.strip().split('\\n'))\n",
    "df = pd.DataFrame(lst)\n",
    "df.head()\n",
    "\n",
    "df.shape"
   ]
  },
  {
   "cell_type": "code",
   "execution_count": 103,
   "metadata": {},
   "outputs": [],
   "source": [
    "def cooksoup(url, parser='html.parser'):\n",
    "    #returns a BeautifulSoup for a given url. \n",
    "    html = requests.get(url).text\n",
    "    return BeautifulSoup(html, parser)\n",
    "\n",
    "url = 'https://previewsworld.com/Catalog?batch=NOV19&pub=MARVEL%20COMICS'\n",
    "soup = cooksoup(url)"
   ]
  },
  {
   "cell_type": "code",
   "execution_count": 107,
   "metadata": {},
   "outputs": [],
   "source": [
    "items = soup.find_all(\"div\", {\"class\": \"nrgIC\"})"
   ]
  },
  {
   "cell_type": "code",
   "execution_count": 108,
   "metadata": {},
   "outputs": [
    {
     "data": {
      "text/plain": [
       "<div class=\"nrgIC\">\n",
       "<div class=\"nrGalleryPrevue\"></div>\n",
       "<div class=\"nrGalleryItemImage\"><a href=\"/Catalog/NOV190011\" target=\"_blank\"><img dmd-purlni=\"/Catalog/Preview/NOV190011\" src=\"/SiteImage/CatalogThumbnail/STL143859\"/></a></div>\n",
       "<div class=\"nrGalleryItemDmdNo\"><a href=\"/Catalog/NOV190011\" target=\"_blank\">NOV190011</a></div>\n",
       "<div class=\"nrGalleryItemPublisher\">PREVIEWS PUBLICATIONS</div>\n",
       "<div class=\"nrgGrp\">\n",
       "<div class=\"nrGalleryItemTitle\">DIAMOND BOOKSHELF #31</div>\n",
       "<div class=\"nrGalleryItemSRP\">PI</div>\n",
       "</div>\n",
       "</div>"
      ]
     },
     "execution_count": 108,
     "metadata": {},
     "output_type": "execute_result"
    }
   ],
   "source": [
    "items[0]"
   ]
  },
  {
   "cell_type": "code",
   "execution_count": 109,
   "metadata": {},
   "outputs": [
    {
     "data": {
      "text/html": [
       "<div>\n",
       "<style scoped>\n",
       "    .dataframe tbody tr th:only-of-type {\n",
       "        vertical-align: middle;\n",
       "    }\n",
       "\n",
       "    .dataframe tbody tr th {\n",
       "        vertical-align: top;\n",
       "    }\n",
       "\n",
       "    .dataframe thead th {\n",
       "        text-align: right;\n",
       "    }\n",
       "</style>\n",
       "<table border=\"1\" class=\"dataframe\">\n",
       "  <thead>\n",
       "    <tr style=\"text-align: right;\">\n",
       "      <th></th>\n",
       "      <th>0</th>\n",
       "      <th>1</th>\n",
       "      <th>2</th>\n",
       "      <th>3</th>\n",
       "      <th>4</th>\n",
       "    </tr>\n",
       "  </thead>\n",
       "  <tbody>\n",
       "    <tr>\n",
       "      <th>0</th>\n",
       "      <td>NOV190011</td>\n",
       "      <td>PREVIEWS PUBLICATIONS</td>\n",
       "      <td></td>\n",
       "      <td>DIAMOND BOOKSHELF #31</td>\n",
       "      <td>PI</td>\n",
       "    </tr>\n",
       "    <tr>\n",
       "      <th>1</th>\n",
       "      <td>NOV190009</td>\n",
       "      <td>PREVIEWS PUBLICATIONS</td>\n",
       "      <td></td>\n",
       "      <td>GAME TRADE MAGAZINE #239</td>\n",
       "      <td>PI</td>\n",
       "    </tr>\n",
       "    <tr>\n",
       "      <th>2</th>\n",
       "      <td>NOV190001</td>\n",
       "      <td>PREVIEWS PUBLICATIONS</td>\n",
       "      <td></td>\n",
       "      <td>PREVIEWS #376 JANUARY 2020</td>\n",
       "      <td>$3.99</td>\n",
       "    </tr>\n",
       "    <tr>\n",
       "      <th>3</th>\n",
       "      <td>NOV190004</td>\n",
       "      <td>PREVIEWS PUBLICATIONS</td>\n",
       "      <td></td>\n",
       "      <td>PREVIEWS #376 JANUARY 2020 CUSTOMER ORDER FORM</td>\n",
       "      <td>PI</td>\n",
       "    </tr>\n",
       "    <tr>\n",
       "      <th>4</th>\n",
       "      <td>NOV190012</td>\n",
       "      <td>IMAGE COMICS</td>\n",
       "      <td></td>\n",
       "      <td>PROTECTOR #1 (MR)</td>\n",
       "      <td>$3.99</td>\n",
       "    </tr>\n",
       "    <tr>\n",
       "      <th>...</th>\n",
       "      <td>...</td>\n",
       "      <td>...</td>\n",
       "      <td>...</td>\n",
       "      <td>...</td>\n",
       "      <td>...</td>\n",
       "    </tr>\n",
       "    <tr>\n",
       "      <th>2800</th>\n",
       "      <td>NOV192932</td>\n",
       "      <td>MONDO TEES LLC</td>\n",
       "      <td></td>\n",
       "      <td>MARVELS SPIDER-MAN ORIGINAL VIDEO GAME SOUNDTR...</td>\n",
       "      <td>PI</td>\n",
       "    </tr>\n",
       "    <tr>\n",
       "      <th>2801</th>\n",
       "      <td>NOV192976</td>\n",
       "      <td>MONDO TEES LLC</td>\n",
       "      <td></td>\n",
       "      <td>METAL GEAR SOLID ORIGINAL VIDEO GAME SOUNDTRAC...</td>\n",
       "      <td>PI</td>\n",
       "    </tr>\n",
       "    <tr>\n",
       "      <th>2802</th>\n",
       "      <td>NOV192938</td>\n",
       "      <td>MONDO TEES LLC</td>\n",
       "      <td></td>\n",
       "      <td>TWIN PEAKS MUSIC FROM LIMITED EVENT SERIES 2XL...</td>\n",
       "      <td>PI</td>\n",
       "    </tr>\n",
       "    <tr>\n",
       "      <th>2803</th>\n",
       "      <td>NOV191579</td>\n",
       "      <td>BIG FINISH</td>\n",
       "      <td></td>\n",
       "      <td>DR WHO BLOOD ON SANTAS CLAWS &amp; OTHER STORIES A...</td>\n",
       "      <td>$24.99</td>\n",
       "    </tr>\n",
       "    <tr>\n",
       "      <th>2804</th>\n",
       "      <td>NOV191580</td>\n",
       "      <td>BIG FINISH</td>\n",
       "      <td></td>\n",
       "      <td>ROBOTS FROM WORLD OF DOCTOR WHO AUDIO CD SET</td>\n",
       "      <td>$41.99</td>\n",
       "    </tr>\n",
       "  </tbody>\n",
       "</table>\n",
       "<p>2805 rows × 5 columns</p>\n",
       "</div>"
      ],
      "text/plain": [
       "              0                      1 2   \\\n",
       "0     NOV190011  PREVIEWS PUBLICATIONS      \n",
       "1     NOV190009  PREVIEWS PUBLICATIONS      \n",
       "2     NOV190001  PREVIEWS PUBLICATIONS      \n",
       "3     NOV190004  PREVIEWS PUBLICATIONS      \n",
       "4     NOV190012           IMAGE COMICS      \n",
       "...         ...                    ... ..   \n",
       "2800  NOV192932         MONDO TEES LLC      \n",
       "2801  NOV192976         MONDO TEES LLC      \n",
       "2802  NOV192938         MONDO TEES LLC      \n",
       "2803  NOV191579             BIG FINISH      \n",
       "2804  NOV191580             BIG FINISH      \n",
       "\n",
       "                                                      3       4  \n",
       "0                                 DIAMOND BOOKSHELF #31      PI  \n",
       "1                              GAME TRADE MAGAZINE #239      PI  \n",
       "2                            PREVIEWS #376 JANUARY 2020   $3.99  \n",
       "3        PREVIEWS #376 JANUARY 2020 CUSTOMER ORDER FORM      PI  \n",
       "4                                     PROTECTOR #1 (MR)   $3.99  \n",
       "...                                                 ...     ...  \n",
       "2800  MARVELS SPIDER-MAN ORIGINAL VIDEO GAME SOUNDTR...      PI  \n",
       "2801  METAL GEAR SOLID ORIGINAL VIDEO GAME SOUNDTRAC...      PI  \n",
       "2802  TWIN PEAKS MUSIC FROM LIMITED EVENT SERIES 2XL...      PI  \n",
       "2803  DR WHO BLOOD ON SANTAS CLAWS & OTHER STORIES A...  $24.99  \n",
       "2804       ROBOTS FROM WORLD OF DOCTOR WHO AUDIO CD SET  $41.99  \n",
       "\n",
       "[2805 rows x 5 columns]"
      ]
     },
     "execution_count": 109,
     "metadata": {},
     "output_type": "execute_result"
    }
   ],
   "source": [
    "def cooksoup(url, parser='html.parser'):\n",
    "    #returns a BeautifulSoup for a given url. \n",
    "    html = requests.get(url).text\n",
    "    return BeautifulSoup(html, parser)\n",
    "\n",
    "def scrap_to_df(items):\n",
    "    #Given a BeautifulSoup object and an iterable, \n",
    "    #returns a DataFrame without blankspaces and applyingline-breaks.\n",
    "    lst= []\n",
    "    for e in items:\n",
    "        lst.append(e.text.strip().split('\\n'))\n",
    "    return pd.DataFrame(lst)\n",
    "\n",
    "def main():\n",
    "    soup = cooksoup('https://previewsworld.com/Catalog?batch=NOV19&pub=MARVEL%20COMICS')\n",
    "    return scrap_to_df(soup.find_all(\"div\", {\"class\": \"nrgIC\"}))\n",
    "\n",
    "main()"
   ]
  }
 ],
 "metadata": {
  "kernelspec": {
   "display_name": "Python 3",
   "language": "python",
   "name": "python3"
  },
  "language_info": {
   "codemirror_mode": {
    "name": "ipython",
    "version": 3
   },
   "file_extension": ".py",
   "mimetype": "text/x-python",
   "name": "python",
   "nbconvert_exporter": "python",
   "pygments_lexer": "ipython3",
   "version": "3.6.8"
  }
 },
 "nbformat": 4,
 "nbformat_minor": 2
}
