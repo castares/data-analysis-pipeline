{
 "cells": [
  {
   "cell_type": "markdown",
   "metadata": {},
   "source": [
    "# Scrapping the Previews"
   ]
  },
  {
   "cell_type": "code",
   "execution_count": 1,
   "metadata": {},
   "outputs": [],
   "source": [
    "import os\n",
    "from bs4 import BeautifulSoup\n",
    "import requests\n",
    "import pandas as pd"
   ]
  },
  {
   "cell_type": "markdown",
   "metadata": {},
   "source": [
    "### Working functions:"
   ]
  },
  {
   "cell_type": "code",
   "execution_count": 2,
   "metadata": {},
   "outputs": [],
   "source": [
    "def cooksoup(url, parser='html.parser'):\n",
    "    #returns a BeautifulSoup for a given url. \n",
    "    html = requests.get(url).text\n",
    "    return BeautifulSoup(html, parser)\n",
    "\n",
    "def scrap_to_df(items):\n",
    "    #Given a BeautifulSoup object and an iterable, \n",
    "    #returns a DataFrame without blankspaces and applyingline-breaks.\n",
    "    lst= []\n",
    "    for e in items:\n",
    "        lst.append(e.text.strip().split('\\n'))\n",
    "    return pd.DataFrame(lst)\n",
    "\n",
    "def main():\n",
    "    soup = cooksoup('https://previewsworld.com/Catalog?batch=NOV19&pub=MARVEL%20COMICS')\n",
    "    return scrap_to_df(soup.find_all(\"div\", {\"class\": \"nrgIC\"}))\n",
    "\n",
    "data = main()"
   ]
  },
  {
   "cell_type": "code",
   "execution_count": 7,
   "metadata": {},
   "outputs": [
    {
     "data": {
      "text/html": [
       "<div>\n",
       "<style scoped>\n",
       "    .dataframe tbody tr th:only-of-type {\n",
       "        vertical-align: middle;\n",
       "    }\n",
       "\n",
       "    .dataframe tbody tr th {\n",
       "        vertical-align: top;\n",
       "    }\n",
       "\n",
       "    .dataframe thead th {\n",
       "        text-align: right;\n",
       "    }\n",
       "</style>\n",
       "<table border=\"1\" class=\"dataframe\">\n",
       "  <thead>\n",
       "    <tr style=\"text-align: right;\">\n",
       "      <th></th>\n",
       "      <th>Reference</th>\n",
       "      <th>Publisher</th>\n",
       "      <th>Title</th>\n",
       "      <th>Price</th>\n",
       "    </tr>\n",
       "  </thead>\n",
       "  <tbody>\n",
       "    <tr>\n",
       "      <th>0</th>\n",
       "      <td>NOV190011</td>\n",
       "      <td>PREVIEWS PUBLICATIONS</td>\n",
       "      <td>DIAMOND BOOKSHELF #31</td>\n",
       "      <td>PI</td>\n",
       "    </tr>\n",
       "    <tr>\n",
       "      <th>1</th>\n",
       "      <td>NOV190009</td>\n",
       "      <td>PREVIEWS PUBLICATIONS</td>\n",
       "      <td>GAME TRADE MAGAZINE #239</td>\n",
       "      <td>PI</td>\n",
       "    </tr>\n",
       "    <tr>\n",
       "      <th>2</th>\n",
       "      <td>NOV190001</td>\n",
       "      <td>PREVIEWS PUBLICATIONS</td>\n",
       "      <td>PREVIEWS #376 JANUARY 2020</td>\n",
       "      <td>$3.99</td>\n",
       "    </tr>\n",
       "    <tr>\n",
       "      <th>3</th>\n",
       "      <td>NOV190004</td>\n",
       "      <td>PREVIEWS PUBLICATIONS</td>\n",
       "      <td>PREVIEWS #376 JANUARY 2020 CUSTOMER ORDER FORM</td>\n",
       "      <td>PI</td>\n",
       "    </tr>\n",
       "    <tr>\n",
       "      <th>4</th>\n",
       "      <td>NOV190012</td>\n",
       "      <td>IMAGE COMICS</td>\n",
       "      <td>PROTECTOR #1 (MR)</td>\n",
       "      <td>$3.99</td>\n",
       "    </tr>\n",
       "  </tbody>\n",
       "</table>\n",
       "</div>"
      ],
      "text/plain": [
       "   Reference              Publisher  \\\n",
       "0  NOV190011  PREVIEWS PUBLICATIONS   \n",
       "1  NOV190009  PREVIEWS PUBLICATIONS   \n",
       "2  NOV190001  PREVIEWS PUBLICATIONS   \n",
       "3  NOV190004  PREVIEWS PUBLICATIONS   \n",
       "4  NOV190012           IMAGE COMICS   \n",
       "\n",
       "                                            Title  Price  \n",
       "0                           DIAMOND BOOKSHELF #31     PI  \n",
       "1                        GAME TRADE MAGAZINE #239     PI  \n",
       "2                      PREVIEWS #376 JANUARY 2020  $3.99  \n",
       "3  PREVIEWS #376 JANUARY 2020 CUSTOMER ORDER FORM     PI  \n",
       "4                               PROTECTOR #1 (MR)  $3.99  "
      ]
     },
     "execution_count": 7,
     "metadata": {},
     "output_type": "execute_result"
    }
   ],
   "source": [
    "data.head()"
   ]
  },
  {
   "cell_type": "code",
   "execution_count": 5,
   "metadata": {},
   "outputs": [],
   "source": [
    "data.drop([2], axis=1, inplace=True)\n",
    "data.set_axis(['Reference','Publisher','Title','Price'], axis=1, inplace=True)\n",
    "marvel_previews = data[data['Publisher'] == \"MARVEL COMICS\"]\n",
    "marvel_previews.to_csv(\"./output/marvel_previews.csv\")"
   ]
  },
  {
   "cell_type": "code",
   "execution_count": 15,
   "metadata": {},
   "outputs": [],
   "source": [
    "soup = cooksoup('https://previewsworld.com/Catalog?batch=NOV19&pub=MARVEL%20COMICS')"
   ]
  },
  {
   "cell_type": "code",
   "execution_count": 36,
   "metadata": {
    "scrolled": true
   },
   "outputs": [
    {
     "data": {
      "text/plain": [
       "'Orders Due: November 18th'"
      ]
     },
     "execution_count": 36,
     "metadata": {},
     "output_type": "execute_result"
    }
   ],
   "source": [
    "due_date = soup.find_all(\"div\", {\"class\" : \"ordersDueDisclaimer\"})\n",
    "due_date[0].text.strip()"
   ]
  },
  {
   "cell_type": "markdown",
   "metadata": {},
   "source": [
    "### ------------------Testing-----------------------"
   ]
  }
 ],
 "metadata": {
  "kernelspec": {
   "display_name": "Python 3",
   "language": "python",
   "name": "python3"
  },
  "language_info": {
   "codemirror_mode": {
    "name": "ipython",
    "version": 3
   },
   "file_extension": ".py",
   "mimetype": "text/x-python",
   "name": "python",
   "nbconvert_exporter": "python",
   "pygments_lexer": "ipython3",
   "version": "3.6.8"
  }
 },
 "nbformat": 4,
 "nbformat_minor": 2
}
